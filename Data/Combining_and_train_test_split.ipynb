{
 "cells": [
  {
   "cell_type": "code",
   "execution_count": 1,
   "id": "e5c59546",
   "metadata": {},
   "outputs": [
    {
     "data": {
      "text/html": [
       "<style>.container { width:95% !important; }</style>"
      ],
      "text/plain": [
       "<IPython.core.display.HTML object>"
      ]
     },
     "metadata": {},
     "output_type": "display_data"
    }
   ],
   "source": [
    "from IPython.display import display, HTML\n",
    "display(HTML(\"<style>.container { width:95% !important; }</style>\"))"
   ]
  },
  {
   "cell_type": "code",
   "execution_count": 47,
   "id": "26a2142e",
   "metadata": {},
   "outputs": [
    {
     "name": "stdout",
     "output_type": "stream",
     "text": [
      "INFO: Pandarallel will run on 16 workers.\n",
      "INFO: Pandarallel will use Memory file system to transfer data between the main process and workers.\n"
     ]
    }
   ],
   "source": [
    "import pandas as pd\n",
    "from num2words import num2words\n",
    "import re\n",
    "from ast import literal_eval\n",
    "from pandarallel import pandarallel\n",
    "pandarallel.initialize(progress_bar=True, nb_workers=16)\n",
    "\n",
    "from sklearn.model_selection import train_test_split"
   ]
  },
  {
   "cell_type": "code",
   "execution_count": 10,
   "id": "48d3f31f",
   "metadata": {},
   "outputs": [],
   "source": [
    "common_voice = '/home/sergey/Python_projects/RU_NER/Project_Data/Data/Wikiann_ru/Wikiann_augmented.csv'\n",
    "wikineural = '/home/sergey/Python_projects/RU_NER/Project_Data/Data/Babelscape_Wikineural/Wikineural_augmented.csv'\n",
    "multinerd = '/home/sergey/Python_projects/RU_NER/Project_Data/Data/MultiNerd/MultiNERD_augmented.csv'"
   ]
  },
  {
   "cell_type": "code",
   "execution_count": 11,
   "id": "bc87f3fa",
   "metadata": {},
   "outputs": [],
   "source": [
    "markup = {'O': 0, 'B-PER': 1, 'I-PER': 2, 'B-ORG': 3, 'I-ORG': 4, 'B-LOC': 5, 'I-LOC': 6, 'B-MISC': 7, 'I-MISC': 8}"
   ]
  },
  {
   "cell_type": "code",
   "execution_count": 12,
   "id": "bbbbaa9d",
   "metadata": {},
   "outputs": [],
   "source": [
    "df_cv = pd.read_csv(common_voice)\n",
    "df_wiki = pd.read_csv(wikineural)\n",
    "df_multinerd = pd.read_csv(multinerd)"
   ]
  },
  {
   "cell_type": "code",
   "execution_count": 13,
   "id": "cd7d6c41",
   "metadata": {},
   "outputs": [],
   "source": [
    "df = pd.concat([df_wiki, df_cv, df_multinerd], ignore_index=True)"
   ]
  },
  {
   "cell_type": "code",
   "execution_count": 14,
   "id": "968807b5",
   "metadata": {
    "collapsed": true
   },
   "outputs": [
    {
     "data": {
      "application/vnd.jupyter.widget-view+json": {
       "model_id": "6ffab538e9784841b1d0c3b7c6da4c57",
       "version_major": 2,
       "version_minor": 0
      },
      "text/plain": [
       "VBox(children=(HBox(children=(IntProgress(value=0, description='0.00%', max=14891), Label(value='0 / 14891')))…"
      ]
     },
     "metadata": {},
     "output_type": "display_data"
    },
    {
     "data": {
      "application/vnd.jupyter.widget-view+json": {
       "model_id": "d1c293384803493f9479c969dbedb3f5",
       "version_major": 2,
       "version_minor": 0
      },
      "text/plain": [
       "VBox(children=(HBox(children=(IntProgress(value=0, description='0.00%', max=14891), Label(value='0 / 14891')))…"
      ]
     },
     "metadata": {},
     "output_type": "display_data"
    }
   ],
   "source": [
    "df['augmented_ner_tags'] = df['augmented_ner_tags'].parallel_apply(literal_eval)\n",
    "df['augmented_tokens'] = df['augmented_tokens'].parallel_apply(literal_eval)"
   ]
  },
  {
   "cell_type": "code",
   "execution_count": 15,
   "id": "b4e6294e",
   "metadata": {},
   "outputs": [],
   "source": [
    "df.drop(['tokens', 'ner_tags', 'len_check', 'augmented_length_check'], axis=1, inplace=True)"
   ]
  },
  {
   "cell_type": "code",
   "execution_count": 17,
   "id": "311064cd",
   "metadata": {},
   "outputs": [],
   "source": [
    "roman_map = {'i': 1,'v': 5,'x': 10,'l': 50,'c': 100,'d': 500,'m': 1000}"
   ]
  },
  {
   "cell_type": "code",
   "execution_count": 35,
   "id": "25104f5f",
   "metadata": {},
   "outputs": [],
   "source": [
    "def length_check(tokens, ner_tags):\n",
    "    return 'ok' if len(tokens) == len(ner_tags) else 'WRONG'"
   ]
  },
  {
   "cell_type": "code",
   "execution_count": 19,
   "id": "df8d82ec",
   "metadata": {},
   "outputs": [],
   "source": [
    "def is_roman_numeral(token):\n",
    "    roman_numeral_pattern = r\"^(?=[mdclxvi])M*(c[md]|d?c{0,3})(x[cl]|l?x{0,3})(i[xv]|v?i{0,3})$\"\n",
    "    return bool(re.match(roman_numeral_pattern, token, re.IGNORECASE))"
   ]
  },
  {
   "cell_type": "code",
   "execution_count": 20,
   "id": "22b7d5af",
   "metadata": {},
   "outputs": [],
   "source": [
    "def roman_to_arabic(tokens):\n",
    "    for index, token in enumerate(tokens):\n",
    "        if is_roman_numeral(token):\n",
    "            total = 0\n",
    "            prev_value = 0\n",
    "            for numeral in reversed(token):\n",
    "                current_value = roman_map[numeral]\n",
    "                if current_value >= prev_value:\n",
    "                    total += current_value\n",
    "                else:\n",
    "                    total -= current_value\n",
    "                prev_value = current_value\n",
    "            tokens[index] = str(total)\n",
    "    return tokens"
   ]
  },
  {
   "cell_type": "code",
   "execution_count": 21,
   "id": "a05d33d4",
   "metadata": {},
   "outputs": [
    {
     "data": {
      "text/plain": [
       "'lı'"
      ]
     },
     "execution_count": 21,
     "metadata": {},
     "output_type": "execute_result"
    }
   ],
   "source": [
    "trash = df['augmented_tokens'][27729][11]\n",
    "trash"
   ]
  },
  {
   "cell_type": "code",
   "execution_count": 22,
   "id": "f5dcf043",
   "metadata": {},
   "outputs": [],
   "source": [
    "del df['augmented_tokens'][27729][11]\n",
    "del df['augmented_ner_tags'][27729][11]"
   ]
  },
  {
   "cell_type": "code",
   "execution_count": 23,
   "id": "6d923921",
   "metadata": {
    "collapsed": true
   },
   "outputs": [
    {
     "data": {
      "application/vnd.jupyter.widget-view+json": {
       "model_id": "91bf855c25114c3e9d15e5560c1df56a",
       "version_major": 2,
       "version_minor": 0
      },
      "text/plain": [
       "VBox(children=(HBox(children=(IntProgress(value=0, description='0.00%', max=14891), Label(value='0 / 14891')))…"
      ]
     },
     "metadata": {},
     "output_type": "display_data"
    }
   ],
   "source": [
    "df['augmented_tokens'] = df['augmented_tokens'].parallel_apply(lambda x: roman_to_arabic(x))"
   ]
  },
  {
   "cell_type": "code",
   "execution_count": 28,
   "id": "0d7d9367",
   "metadata": {},
   "outputs": [],
   "source": [
    "def replace_numerical_with_words(tokens, ner_tags):\n",
    "    adjusted_ner_tags = []\n",
    "    \n",
    "    for i, token in enumerate(tokens):\n",
    "        if token.isnumeric():\n",
    "            index = i\n",
    "            new_tokens = num2words(int(token), lang='ru').split()\n",
    "            tag_to_insert = ner_tags[i]\n",
    "            count = len(new_tokens)\n",
    "            del ner_tags[i]\n",
    "            del tokens[i] \n",
    "            for _ in range(len(new_tokens)):\n",
    "                ner_tags.insert(index, tag_to_insert)\n",
    "                tokens.insert(index, new_tokens[_])\n",
    "                index += 1 \n",
    "                \n",
    "    return tokens, ner_tags"
   ]
  },
  {
   "cell_type": "code",
   "execution_count": 31,
   "id": "483c4cb4",
   "metadata": {
    "collapsed": true
   },
   "outputs": [
    {
     "data": {
      "application/vnd.jupyter.widget-view+json": {
       "model_id": "87bbc955675049e68376cfa935b09664",
       "version_major": 2,
       "version_minor": 0
      },
      "text/plain": [
       "VBox(children=(HBox(children=(IntProgress(value=0, description='0.00%', max=14891), Label(value='0 / 14891')))…"
      ]
     },
     "metadata": {},
     "output_type": "display_data"
    }
   ],
   "source": [
    "df[['augmented_tokens', 'augmented_ner_tags']] = df.parallel_apply(lambda row: pd.Series(replace_numerical_with_words(row['augmented_tokens'], row['augmented_ner_tags'])), axis=1)"
   ]
  },
  {
   "cell_type": "code",
   "execution_count": 36,
   "id": "94d03c9b",
   "metadata": {},
   "outputs": [
    {
     "data": {
      "text/plain": [
       "ok    238244\n",
       "Name: augmented_length_check, dtype: int64"
      ]
     },
     "execution_count": 36,
     "metadata": {},
     "output_type": "execute_result"
    }
   ],
   "source": [
    "df['augmented_length_check'] = df.apply(lambda row: length_check(row['augmented_tokens'], row['augmented_ner_tags']), axis=1)\n",
    "df['augmented_length_check'].value_counts()"
   ]
  },
  {
   "cell_type": "code",
   "execution_count": 39,
   "id": "fe1312ab",
   "metadata": {},
   "outputs": [],
   "source": [
    "def convert_to_sentence(lst_str):\n",
    "    #lst = literal_eval(lst_str)\n",
    "    return ' '.join(lst_str)"
   ]
  },
  {
   "cell_type": "code",
   "execution_count": 40,
   "id": "86077f00",
   "metadata": {
    "collapsed": true
   },
   "outputs": [
    {
     "data": {
      "application/vnd.jupyter.widget-view+json": {
       "model_id": "d9747c0f4ac94878805421ca07d29622",
       "version_major": 2,
       "version_minor": 0
      },
      "text/plain": [
       "VBox(children=(HBox(children=(IntProgress(value=0, description='0.00%', max=14891), Label(value='0 / 14891')))…"
      ]
     },
     "metadata": {},
     "output_type": "display_data"
    }
   ],
   "source": [
    "df['sentence'] = df['augmented_tokens'].parallel_apply(lambda x: convert_to_sentence(x))"
   ]
  },
  {
   "cell_type": "code",
   "execution_count": 43,
   "id": "93371d5f",
   "metadata": {},
   "outputs": [],
   "source": [
    "df.drop('augmented_length_check', axis=1, inplace=True)"
   ]
  },
  {
   "cell_type": "code",
   "execution_count": 51,
   "id": "1c235bb8",
   "metadata": {},
   "outputs": [],
   "source": [
    "df = df[['augmented_tokens', 'sentence', 'augmented_ner_tags']]"
   ]
  },
  {
   "cell_type": "code",
   "execution_count": 44,
   "id": "c6ce1407",
   "metadata": {},
   "outputs": [],
   "source": [
    "def print_tags_frequency(tags):\n",
    "    freq = {}\n",
    "    for row in tags:\n",
    "        for tag in set(row):\n",
    "            if tag in freq:\n",
    "                freq[tag] += 1\n",
    "            else:\n",
    "                freq[tag] = 1\n",
    "    freq\n",
    "    for item in sorted(freq.keys()):\n",
    "        print(f'% of rows token {item} appears in is {freq[item]/len(tags):.4f}')"
   ]
  },
  {
   "cell_type": "code",
   "execution_count": 45,
   "id": "e6892e68",
   "metadata": {},
   "outputs": [
    {
     "name": "stdout",
     "output_type": "stream",
     "text": [
      "% of rows token 0 appears in is 0.9316\n",
      "% of rows token 1 appears in is 0.2917\n",
      "% of rows token 2 appears in is 0.1954\n",
      "% of rows token 3 appears in is 0.1708\n",
      "% of rows token 4 appears in is 0.0997\n",
      "% of rows token 5 appears in is 0.4122\n",
      "% of rows token 6 appears in is 0.0833\n",
      "% of rows token 7 appears in is 0.1870\n",
      "% of rows token 8 appears in is 0.0898\n"
     ]
    }
   ],
   "source": [
    "print_tags_frequency(df['augmented_ner_tags'])"
   ]
  },
  {
   "cell_type": "code",
   "execution_count": 53,
   "id": "5011abe8",
   "metadata": {},
   "outputs": [],
   "source": [
    "y = df['augmented_ner_tags']"
   ]
  },
  {
   "cell_type": "code",
   "execution_count": 54,
   "id": "787df12f",
   "metadata": {},
   "outputs": [],
   "source": [
    "X_train, X_test, y_train, y_test = train_test_split(df, y, test_size=0.25, random_state=12)"
   ]
  },
  {
   "cell_type": "code",
   "execution_count": 56,
   "id": "3a68c1b9",
   "metadata": {},
   "outputs": [
    {
     "name": "stdout",
     "output_type": "stream",
     "text": [
      "% of rows token 0 appears in is 0.9324\n",
      "% of rows token 1 appears in is 0.2912\n",
      "% of rows token 2 appears in is 0.1948\n",
      "% of rows token 3 appears in is 0.1704\n",
      "% of rows token 4 appears in is 0.0996\n",
      "% of rows token 5 appears in is 0.4125\n",
      "% of rows token 6 appears in is 0.0834\n",
      "% of rows token 7 appears in is 0.1874\n",
      "% of rows token 8 appears in is 0.0902\n"
     ]
    }
   ],
   "source": [
    "print_tags_frequency(X_train['augmented_ner_tags'])"
   ]
  },
  {
   "cell_type": "code",
   "execution_count": 57,
   "id": "077cbaa0",
   "metadata": {},
   "outputs": [
    {
     "name": "stdout",
     "output_type": "stream",
     "text": [
      "% of rows token 0 appears in is 0.9293\n",
      "% of rows token 1 appears in is 0.2930\n",
      "% of rows token 2 appears in is 0.1971\n",
      "% of rows token 3 appears in is 0.1723\n",
      "% of rows token 4 appears in is 0.0998\n",
      "% of rows token 5 appears in is 0.4112\n",
      "% of rows token 6 appears in is 0.0832\n",
      "% of rows token 7 appears in is 0.1860\n",
      "% of rows token 8 appears in is 0.0886\n"
     ]
    }
   ],
   "source": [
    "print_tags_frequency(X_test['augmented_ner_tags'])"
   ]
  },
  {
   "cell_type": "code",
   "execution_count": 58,
   "id": "af8fa7ea",
   "metadata": {},
   "outputs": [],
   "source": [
    "X_train.to_csv('train_data.csv')\n",
    "X_test.to_csv('test_data.csv')"
   ]
  },
  {
   "cell_type": "code",
   "execution_count": null,
   "id": "c5178641",
   "metadata": {},
   "outputs": [],
   "source": []
  }
 ],
 "metadata": {
  "kernelspec": {
   "display_name": "Python 3 (ipykernel)",
   "language": "python",
   "name": "python3"
  },
  "language_info": {
   "codemirror_mode": {
    "name": "ipython",
    "version": 3
   },
   "file_extension": ".py",
   "mimetype": "text/x-python",
   "name": "python",
   "nbconvert_exporter": "python",
   "pygments_lexer": "ipython3",
   "version": "3.9.13"
  }
 },
 "nbformat": 4,
 "nbformat_minor": 5
}
