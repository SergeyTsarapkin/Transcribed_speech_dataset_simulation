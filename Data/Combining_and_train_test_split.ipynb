{
 "cells": [
  {
   "cell_type": "code",
   "execution_count": 66,
   "id": "e5c59546",
   "metadata": {},
   "outputs": [
    {
     "data": {
      "text/html": [
       "<style>.container { width:95% !important; }</style>"
      ],
      "text/plain": [
       "<IPython.core.display.HTML object>"
      ]
     },
     "metadata": {},
     "output_type": "display_data"
    }
   ],
   "source": [
    "from IPython.display import display, HTML\n",
    "display(HTML(\"<style>.container { width:95% !important; }</style>\"))"
   ]
  },
  {
   "cell_type": "code",
   "execution_count": 67,
   "id": "26a2142e",
   "metadata": {},
   "outputs": [
    {
     "name": "stdout",
     "output_type": "stream",
     "text": [
      "INFO: Pandarallel will run on 16 workers.\n",
      "INFO: Pandarallel will use Memory file system to transfer data between the main process and workers.\n"
     ]
    }
   ],
   "source": [
    "import pandas as pd\n",
    "from num2words import num2words\n",
    "import re\n",
    "from ast import literal_eval\n",
    "from pandarallel import pandarallel\n",
    "pandarallel.initialize(progress_bar=True, nb_workers=16)\n",
    "\n",
    "from sklearn.model_selection import train_test_split"
   ]
  },
  {
   "cell_type": "markdown",
   "id": "a5b31d46",
   "metadata": {},
   "source": [
    "#### Собираем все воедино, удаляем лишние колонки"
   ]
  },
  {
   "cell_type": "code",
   "execution_count": 68,
   "id": "48d3f31f",
   "metadata": {},
   "outputs": [],
   "source": [
    "wikiann = '/home/sergey/Python_projects/RU_NER/Project_Data/Data/Wikiann_ru/Wikiann_augmented.csv'\n",
    "wikineural = '/home/sergey/Python_projects/RU_NER/Project_Data/Data/Babelscape_Wikineural/Wikineural_augmented.csv'\n",
    "multinerd = '/home/sergey/Python_projects/RU_NER/Project_Data/Data/MultiNerd/MultiNERD_augmented.csv'\n",
    "common_voice = '/home/sergey/Python_projects/RU_NER/Project_Data/Data/CommonVoice/Edited_NER_anotation_Common_Voice.csv'"
   ]
  },
  {
   "cell_type": "code",
   "execution_count": 69,
   "id": "bc87f3fa",
   "metadata": {},
   "outputs": [],
   "source": [
    "markup = {'O': 0, 'B-PER': 1, 'I-PER': 2, 'B-ORG': 3, 'I-ORG': 4, 'B-LOC': 5, 'I-LOC': 6, 'B-MISC': 7, 'I-MISC': 8}"
   ]
  },
  {
   "cell_type": "code",
   "execution_count": 70,
   "id": "bbbbaa9d",
   "metadata": {},
   "outputs": [],
   "source": [
    "df_wa = pd.read_csv(wikiann)\n",
    "df_wiki = pd.read_csv(wikineural)\n",
    "df_multinerd = pd.read_csv(multinerd)"
   ]
  },
  {
   "cell_type": "code",
   "execution_count": 71,
   "id": "cd7d6c41",
   "metadata": {},
   "outputs": [],
   "source": [
    "df = pd.concat([df_wa, df_wiki, df_multinerd], ignore_index=True)"
   ]
  },
  {
   "cell_type": "code",
   "execution_count": 72,
   "id": "6137b712",
   "metadata": {},
   "outputs": [
    {
     "data": {
      "text/html": [
       "<div>\n",
       "<style scoped>\n",
       "    .dataframe tbody tr th:only-of-type {\n",
       "        vertical-align: middle;\n",
       "    }\n",
       "\n",
       "    .dataframe tbody tr th {\n",
       "        vertical-align: top;\n",
       "    }\n",
       "\n",
       "    .dataframe thead th {\n",
       "        text-align: right;\n",
       "    }\n",
       "</style>\n",
       "<table border=\"1\" class=\"dataframe\">\n",
       "  <thead>\n",
       "    <tr style=\"text-align: right;\">\n",
       "      <th></th>\n",
       "      <th>tokens</th>\n",
       "      <th>ner_tags</th>\n",
       "      <th>len_check</th>\n",
       "      <th>augmented_tokens</th>\n",
       "      <th>augmented_ner_tags</th>\n",
       "      <th>augmented_length_check</th>\n",
       "    </tr>\n",
       "  </thead>\n",
       "  <tbody>\n",
       "    <tr>\n",
       "      <th>0</th>\n",
       "      <td>['Илизаров', ',', 'Гавриил', 'Абрамович']</td>\n",
       "      <td>[1, 2, 2, 2]</td>\n",
       "      <td>ok</td>\n",
       "      <td>['илизаров', 'гавриил', 'абрамович']</td>\n",
       "      <td>[1, 2, 2]</td>\n",
       "      <td>ok</td>\n",
       "    </tr>\n",
       "    <tr>\n",
       "      <th>1</th>\n",
       "      <td>[\"'\", \"''\", 'Рыбницкий', 'район', \"''\", \"'\"]</td>\n",
       "      <td>[0, 0, 5, 6, 0, 0]</td>\n",
       "      <td>ok</td>\n",
       "      <td>['рыбницкий', 'район']</td>\n",
       "      <td>[5, 6]</td>\n",
       "      <td>ok</td>\n",
       "    </tr>\n",
       "    <tr>\n",
       "      <th>2</th>\n",
       "      <td>['За', 'образцовое', 'выполнение', 'заданий', ...</td>\n",
       "      <td>[0, 0, 0, 0, 0, 0, 0, 0, 0, 0, 0, 0, 0, 0, 5, ...</td>\n",
       "      <td>ok</td>\n",
       "      <td>['за', 'образцовое', 'выполнение', 'заданий', ...</td>\n",
       "      <td>[0, 0, 0, 0, 0, 0, 0, 0, 0, 0, 0, 0, 0, 5, 0, ...</td>\n",
       "      <td>ok</td>\n",
       "    </tr>\n",
       "    <tr>\n",
       "      <th>3</th>\n",
       "      <td>['Стадион', 'имени', 'С.', 'Дарюса', 'и', 'С.'...</td>\n",
       "      <td>[5, 6, 6, 6, 6, 6, 6]</td>\n",
       "      <td>ok</td>\n",
       "      <td>['стадион', 'имени', 'с', 'дарюса', 'и', 'с', ...</td>\n",
       "      <td>[5, 6, 6, 6, 6, 6, 6]</td>\n",
       "      <td>ok</td>\n",
       "    </tr>\n",
       "    <tr>\n",
       "      <th>4</th>\n",
       "      <td>['Майкл', 'Томас', '(', '1987—1991', ')']</td>\n",
       "      <td>[1, 2, 0, 0, 0]</td>\n",
       "      <td>ok</td>\n",
       "      <td>['майкл', 'томас', 'одна', 'тысяча', 'девятьсо...</td>\n",
       "      <td>[1, 2, 0, 0, 0, 0, 0, 0, 0, 0, 0, 0]</td>\n",
       "      <td>ok</td>\n",
       "    </tr>\n",
       "    <tr>\n",
       "      <th>...</th>\n",
       "      <td>...</td>\n",
       "      <td>...</td>\n",
       "      <td>...</td>\n",
       "      <td>...</td>\n",
       "      <td>...</td>\n",
       "      <td>...</td>\n",
       "    </tr>\n",
       "    <tr>\n",
       "      <th>238239</th>\n",
       "      <td>['Дебютировал', 'в', 'матче', '1', 'тура', 'пр...</td>\n",
       "      <td>[0, 0, 0, 0, 0, 0, 3, 4, 4, 0]</td>\n",
       "      <td>ok</td>\n",
       "      <td>['дебютировал', 'в', 'матче', 'один', 'тура', ...</td>\n",
       "      <td>[0, 0, 0, 0, 0, 0, 4]</td>\n",
       "      <td>ok</td>\n",
       "    </tr>\n",
       "    <tr>\n",
       "      <th>238240</th>\n",
       "      <td>['Дебют', 'состоялся', '26', 'туре', 'против',...</td>\n",
       "      <td>[0, 0, 0, 0, 0, 3, 4, 4, 0]</td>\n",
       "      <td>ok</td>\n",
       "      <td>['дебют', 'состоялся', 'двадцать', 'шесть', 'т...</td>\n",
       "      <td>[0, 0, 0, 0, 0, 0, 4]</td>\n",
       "      <td>ok</td>\n",
       "    </tr>\n",
       "    <tr>\n",
       "      <th>238241</th>\n",
       "      <td>['Эктор', 'также', 'представлял', 'свою', 'стр...</td>\n",
       "      <td>[0, 0, 0, 0, 0, 0, 7, 8, 8, 0, 7, 8, 8, 8, 0]</td>\n",
       "      <td>ok</td>\n",
       "      <td>['эктор', 'также', 'представлял', 'свою', 'стр...</td>\n",
       "      <td>[0, 0, 0, 0, 0, 0, 7, 8, 8, 8, 8, 0, 7, 8, 8, ...</td>\n",
       "      <td>ok</td>\n",
       "    </tr>\n",
       "    <tr>\n",
       "      <th>238242</th>\n",
       "      <td>['Q', 'дал', 'альбому', 'четыре', 'звезды', 'и...</td>\n",
       "      <td>[7, 0, 0, 0, 0, 0, 0, 0]</td>\n",
       "      <td>ok</td>\n",
       "      <td>['q', 'дал', 'альбому', 'четыре', 'звезды', 'и...</td>\n",
       "      <td>[7, 0, 0, 0, 0, 0, 0]</td>\n",
       "      <td>ok</td>\n",
       "    </tr>\n",
       "    <tr>\n",
       "      <th>238243</th>\n",
       "      <td>['Большие', ',', 'толстые', 'рога', 'самцов', ...</td>\n",
       "      <td>[0, 0, 0, 0, 0, 0, 0, 0, 0, 0, 0, 0, 0, 0, 0, ...</td>\n",
       "      <td>ok</td>\n",
       "      <td>['большие', 'толстые', 'рога', 'самцов', 'как'...</td>\n",
       "      <td>[0, 0, 0, 0, 0, 0, 0, 0, 0, 0, 0, 0, 0, 0, 0, ...</td>\n",
       "      <td>ok</td>\n",
       "    </tr>\n",
       "  </tbody>\n",
       "</table>\n",
       "<p>238244 rows × 6 columns</p>\n",
       "</div>"
      ],
      "text/plain": [
       "                                                   tokens  \\\n",
       "0               ['Илизаров', ',', 'Гавриил', 'Абрамович']   \n",
       "1            [\"'\", \"''\", 'Рыбницкий', 'район', \"''\", \"'\"]   \n",
       "2       ['За', 'образцовое', 'выполнение', 'заданий', ...   \n",
       "3       ['Стадион', 'имени', 'С.', 'Дарюса', 'и', 'С.'...   \n",
       "4               ['Майкл', 'Томас', '(', '1987—1991', ')']   \n",
       "...                                                   ...   \n",
       "238239  ['Дебютировал', 'в', 'матче', '1', 'тура', 'пр...   \n",
       "238240  ['Дебют', 'состоялся', '26', 'туре', 'против',...   \n",
       "238241  ['Эктор', 'также', 'представлял', 'свою', 'стр...   \n",
       "238242  ['Q', 'дал', 'альбому', 'четыре', 'звезды', 'и...   \n",
       "238243  ['Большие', ',', 'толстые', 'рога', 'самцов', ...   \n",
       "\n",
       "                                                 ner_tags len_check  \\\n",
       "0                                            [1, 2, 2, 2]        ok   \n",
       "1                                      [0, 0, 5, 6, 0, 0]        ok   \n",
       "2       [0, 0, 0, 0, 0, 0, 0, 0, 0, 0, 0, 0, 0, 0, 5, ...        ok   \n",
       "3                                   [5, 6, 6, 6, 6, 6, 6]        ok   \n",
       "4                                         [1, 2, 0, 0, 0]        ok   \n",
       "...                                                   ...       ...   \n",
       "238239                     [0, 0, 0, 0, 0, 0, 3, 4, 4, 0]        ok   \n",
       "238240                        [0, 0, 0, 0, 0, 3, 4, 4, 0]        ok   \n",
       "238241      [0, 0, 0, 0, 0, 0, 7, 8, 8, 0, 7, 8, 8, 8, 0]        ok   \n",
       "238242                           [7, 0, 0, 0, 0, 0, 0, 0]        ok   \n",
       "238243  [0, 0, 0, 0, 0, 0, 0, 0, 0, 0, 0, 0, 0, 0, 0, ...        ok   \n",
       "\n",
       "                                         augmented_tokens  \\\n",
       "0                    ['илизаров', 'гавриил', 'абрамович']   \n",
       "1                                  ['рыбницкий', 'район']   \n",
       "2       ['за', 'образцовое', 'выполнение', 'заданий', ...   \n",
       "3       ['стадион', 'имени', 'с', 'дарюса', 'и', 'с', ...   \n",
       "4       ['майкл', 'томас', 'одна', 'тысяча', 'девятьсо...   \n",
       "...                                                   ...   \n",
       "238239  ['дебютировал', 'в', 'матче', 'один', 'тура', ...   \n",
       "238240  ['дебют', 'состоялся', 'двадцать', 'шесть', 'т...   \n",
       "238241  ['эктор', 'также', 'представлял', 'свою', 'стр...   \n",
       "238242  ['q', 'дал', 'альбому', 'четыре', 'звезды', 'и...   \n",
       "238243  ['большие', 'толстые', 'рога', 'самцов', 'как'...   \n",
       "\n",
       "                                       augmented_ner_tags  \\\n",
       "0                                               [1, 2, 2]   \n",
       "1                                                  [5, 6]   \n",
       "2       [0, 0, 0, 0, 0, 0, 0, 0, 0, 0, 0, 0, 0, 5, 0, ...   \n",
       "3                                   [5, 6, 6, 6, 6, 6, 6]   \n",
       "4                    [1, 2, 0, 0, 0, 0, 0, 0, 0, 0, 0, 0]   \n",
       "...                                                   ...   \n",
       "238239                              [0, 0, 0, 0, 0, 0, 4]   \n",
       "238240                              [0, 0, 0, 0, 0, 0, 4]   \n",
       "238241  [0, 0, 0, 0, 0, 0, 7, 8, 8, 8, 8, 0, 7, 8, 8, ...   \n",
       "238242                              [7, 0, 0, 0, 0, 0, 0]   \n",
       "238243  [0, 0, 0, 0, 0, 0, 0, 0, 0, 0, 0, 0, 0, 0, 0, ...   \n",
       "\n",
       "       augmented_length_check  \n",
       "0                          ok  \n",
       "1                          ok  \n",
       "2                          ok  \n",
       "3                          ok  \n",
       "4                          ok  \n",
       "...                       ...  \n",
       "238239                     ok  \n",
       "238240                     ok  \n",
       "238241                     ok  \n",
       "238242                     ok  \n",
       "238243                     ok  \n",
       "\n",
       "[238244 rows x 6 columns]"
      ]
     },
     "execution_count": 72,
     "metadata": {},
     "output_type": "execute_result"
    }
   ],
   "source": [
    "df"
   ]
  },
  {
   "cell_type": "code",
   "execution_count": 73,
   "id": "968807b5",
   "metadata": {
    "collapsed": true
   },
   "outputs": [
    {
     "data": {
      "application/vnd.jupyter.widget-view+json": {
       "model_id": "e69e15a898ee414aa702d26b8bc6c477",
       "version_major": 2,
       "version_minor": 0
      },
      "text/plain": [
       "VBox(children=(HBox(children=(IntProgress(value=0, description='0.00%', max=14891), Label(value='0 / 14891')))…"
      ]
     },
     "metadata": {},
     "output_type": "display_data"
    },
    {
     "data": {
      "application/vnd.jupyter.widget-view+json": {
       "model_id": "3e33a4b089b44c65b2a0c45c8e1138d5",
       "version_major": 2,
       "version_minor": 0
      },
      "text/plain": [
       "VBox(children=(HBox(children=(IntProgress(value=0, description='0.00%', max=14891), Label(value='0 / 14891')))…"
      ]
     },
     "metadata": {},
     "output_type": "display_data"
    }
   ],
   "source": [
    "df['augmented_ner_tags'] = df['augmented_ner_tags'].parallel_apply(literal_eval)\n",
    "df['augmented_tokens'] = df['augmented_tokens'].parallel_apply(literal_eval)"
   ]
  },
  {
   "cell_type": "code",
   "execution_count": 74,
   "id": "b4e6294e",
   "metadata": {},
   "outputs": [],
   "source": [
    "df.drop(['tokens', 'ner_tags', 'len_check', 'augmented_length_check'], axis=1, inplace=True)"
   ]
  },
  {
   "cell_type": "code",
   "execution_count": 75,
   "id": "b0637509",
   "metadata": {},
   "outputs": [
    {
     "data": {
      "text/html": [
       "<div>\n",
       "<style scoped>\n",
       "    .dataframe tbody tr th:only-of-type {\n",
       "        vertical-align: middle;\n",
       "    }\n",
       "\n",
       "    .dataframe tbody tr th {\n",
       "        vertical-align: top;\n",
       "    }\n",
       "\n",
       "    .dataframe thead th {\n",
       "        text-align: right;\n",
       "    }\n",
       "</style>\n",
       "<table border=\"1\" class=\"dataframe\">\n",
       "  <thead>\n",
       "    <tr style=\"text-align: right;\">\n",
       "      <th></th>\n",
       "      <th>augmented_tokens</th>\n",
       "      <th>augmented_ner_tags</th>\n",
       "    </tr>\n",
       "  </thead>\n",
       "  <tbody>\n",
       "    <tr>\n",
       "      <th>0</th>\n",
       "      <td>[илизаров, гавриил, абрамович]</td>\n",
       "      <td>[1, 2, 2]</td>\n",
       "    </tr>\n",
       "    <tr>\n",
       "      <th>1</th>\n",
       "      <td>[рыбницкий, район]</td>\n",
       "      <td>[5, 6]</td>\n",
       "    </tr>\n",
       "    <tr>\n",
       "      <th>2</th>\n",
       "      <td>[за, образцовое, выполнение, заданий, командов...</td>\n",
       "      <td>[0, 0, 0, 0, 0, 0, 0, 0, 0, 0, 0, 0, 0, 5, 0, ...</td>\n",
       "    </tr>\n",
       "    <tr>\n",
       "      <th>3</th>\n",
       "      <td>[стадион, имени, с, дарюса, и, с, гиренаса]</td>\n",
       "      <td>[5, 6, 6, 6, 6, 6, 6]</td>\n",
       "    </tr>\n",
       "    <tr>\n",
       "      <th>4</th>\n",
       "      <td>[майкл, томас, одна, тысяча, девятьсот, восемь...</td>\n",
       "      <td>[1, 2, 0, 0, 0, 0, 0, 0, 0, 0, 0, 0]</td>\n",
       "    </tr>\n",
       "  </tbody>\n",
       "</table>\n",
       "</div>"
      ],
      "text/plain": [
       "                                    augmented_tokens  \\\n",
       "0                     [илизаров, гавриил, абрамович]   \n",
       "1                                 [рыбницкий, район]   \n",
       "2  [за, образцовое, выполнение, заданий, командов...   \n",
       "3        [стадион, имени, с, дарюса, и, с, гиренаса]   \n",
       "4  [майкл, томас, одна, тысяча, девятьсот, восемь...   \n",
       "\n",
       "                                  augmented_ner_tags  \n",
       "0                                          [1, 2, 2]  \n",
       "1                                             [5, 6]  \n",
       "2  [0, 0, 0, 0, 0, 0, 0, 0, 0, 0, 0, 0, 0, 5, 0, ...  \n",
       "3                              [5, 6, 6, 6, 6, 6, 6]  \n",
       "4               [1, 2, 0, 0, 0, 0, 0, 0, 0, 0, 0, 0]  "
      ]
     },
     "execution_count": 75,
     "metadata": {},
     "output_type": "execute_result"
    }
   ],
   "source": [
    "df.head()"
   ]
  },
  {
   "cell_type": "code",
   "execution_count": 76,
   "id": "328409ec",
   "metadata": {},
   "outputs": [],
   "source": [
    "df_cv = pd.read_csv(common_voice)"
   ]
  },
  {
   "cell_type": "code",
   "execution_count": 77,
   "id": "5418d0eb",
   "metadata": {},
   "outputs": [],
   "source": [
    "df_cv.drop(['id', 'sentence', 'difference', 'label', 'NER', 'len'], axis=1, inplace=True)"
   ]
  },
  {
   "cell_type": "code",
   "execution_count": 78,
   "id": "28086981",
   "metadata": {},
   "outputs": [],
   "source": [
    "df_cv.columns = ['augmented_tokens', 'augmented_ner_tags']"
   ]
  },
  {
   "cell_type": "code",
   "execution_count": 79,
   "id": "11d4c156",
   "metadata": {},
   "outputs": [],
   "source": [
    "df_cv['augmented_tokens'] = df_cv.augmented_tokens.apply(lambda x: x.split())"
   ]
  },
  {
   "cell_type": "code",
   "execution_count": 80,
   "id": "45c59aab",
   "metadata": {
    "collapsed": true
   },
   "outputs": [
    {
     "data": {
      "application/vnd.jupyter.widget-view+json": {
       "model_id": "08eaa338d06049e589d7b73ed55ac5ad",
       "version_major": 2,
       "version_minor": 0
      },
      "text/plain": [
       "VBox(children=(HBox(children=(IntProgress(value=0, description='0.00%', max=2254), Label(value='0 / 2254'))), …"
      ]
     },
     "metadata": {},
     "output_type": "display_data"
    }
   ],
   "source": [
    "df_cv['augmented_ner_tags'] = df_cv['augmented_ner_tags'].parallel_apply(literal_eval)"
   ]
  },
  {
   "cell_type": "code",
   "execution_count": 81,
   "id": "53176645",
   "metadata": {},
   "outputs": [],
   "source": [
    "df = pd.concat([df, df_cv], ignore_index=True)"
   ]
  },
  {
   "cell_type": "code",
   "execution_count": 82,
   "id": "7357bde5",
   "metadata": {},
   "outputs": [
    {
     "data": {
      "text/html": [
       "<div>\n",
       "<style scoped>\n",
       "    .dataframe tbody tr th:only-of-type {\n",
       "        vertical-align: middle;\n",
       "    }\n",
       "\n",
       "    .dataframe tbody tr th {\n",
       "        vertical-align: top;\n",
       "    }\n",
       "\n",
       "    .dataframe thead th {\n",
       "        text-align: right;\n",
       "    }\n",
       "</style>\n",
       "<table border=\"1\" class=\"dataframe\">\n",
       "  <thead>\n",
       "    <tr style=\"text-align: right;\">\n",
       "      <th></th>\n",
       "      <th>augmented_tokens</th>\n",
       "      <th>augmented_ner_tags</th>\n",
       "    </tr>\n",
       "  </thead>\n",
       "  <tbody>\n",
       "    <tr>\n",
       "      <th>0</th>\n",
       "      <td>[илизаров, гавриил, абрамович]</td>\n",
       "      <td>[1, 2, 2]</td>\n",
       "    </tr>\n",
       "    <tr>\n",
       "      <th>1</th>\n",
       "      <td>[рыбницкий, район]</td>\n",
       "      <td>[5, 6]</td>\n",
       "    </tr>\n",
       "    <tr>\n",
       "      <th>2</th>\n",
       "      <td>[за, образцовое, выполнение, заданий, командов...</td>\n",
       "      <td>[0, 0, 0, 0, 0, 0, 0, 0, 0, 0, 0, 0, 0, 5, 0, ...</td>\n",
       "    </tr>\n",
       "    <tr>\n",
       "      <th>3</th>\n",
       "      <td>[стадион, имени, с, дарюса, и, с, гиренаса]</td>\n",
       "      <td>[5, 6, 6, 6, 6, 6, 6]</td>\n",
       "    </tr>\n",
       "    <tr>\n",
       "      <th>4</th>\n",
       "      <td>[майкл, томас, одна, тысяча, девятьсот, восемь...</td>\n",
       "      <td>[1, 2, 0, 0, 0, 0, 0, 0, 0, 0, 0, 0]</td>\n",
       "    </tr>\n",
       "    <tr>\n",
       "      <th>...</th>\n",
       "      <td>...</td>\n",
       "      <td>...</td>\n",
       "    </tr>\n",
       "    <tr>\n",
       "      <th>274300</th>\n",
       "      <td>[анна, продолжала, идти, по, знакомой, лестниц...</td>\n",
       "      <td>[1, 0, 0, 0, 0, 0, 0, 0, 0, 0, 0, 0]</td>\n",
       "    </tr>\n",
       "    <tr>\n",
       "      <th>274301</th>\n",
       "      <td>[ей, даже, неприятно, было, подумать, что, она...</td>\n",
       "      <td>[0, 0, 0, 0, 0, 0, 1, 0, 0, 0, 0]</td>\n",
       "    </tr>\n",
       "    <tr>\n",
       "      <th>274302</th>\n",
       "      <td>[мне, кажется, вам, уже, тяжело, дышать]</td>\n",
       "      <td>[0, 0, 0, 0, 0, 0]</td>\n",
       "    </tr>\n",
       "    <tr>\n",
       "      <th>274303</th>\n",
       "      <td>[число, совершаемых, изнасилований, достигла, ...</td>\n",
       "      <td>[0, 0, 0, 0, 0, 0, 0]</td>\n",
       "    </tr>\n",
       "    <tr>\n",
       "      <th>274304</th>\n",
       "      <td>[хлипкое, судёнышко, подплыло, к, берегам, нид...</td>\n",
       "      <td>[0, 0, 0, 0, 0, 0, 0, 0, 0, 0, 0]</td>\n",
       "    </tr>\n",
       "  </tbody>\n",
       "</table>\n",
       "<p>274305 rows × 2 columns</p>\n",
       "</div>"
      ],
      "text/plain": [
       "                                         augmented_tokens  \\\n",
       "0                          [илизаров, гавриил, абрамович]   \n",
       "1                                      [рыбницкий, район]   \n",
       "2       [за, образцовое, выполнение, заданий, командов...   \n",
       "3             [стадион, имени, с, дарюса, и, с, гиренаса]   \n",
       "4       [майкл, томас, одна, тысяча, девятьсот, восемь...   \n",
       "...                                                   ...   \n",
       "274300  [анна, продолжала, идти, по, знакомой, лестниц...   \n",
       "274301  [ей, даже, неприятно, было, подумать, что, она...   \n",
       "274302           [мне, кажется, вам, уже, тяжело, дышать]   \n",
       "274303  [число, совершаемых, изнасилований, достигла, ...   \n",
       "274304  [хлипкое, судёнышко, подплыло, к, берегам, нид...   \n",
       "\n",
       "                                       augmented_ner_tags  \n",
       "0                                               [1, 2, 2]  \n",
       "1                                                  [5, 6]  \n",
       "2       [0, 0, 0, 0, 0, 0, 0, 0, 0, 0, 0, 0, 0, 5, 0, ...  \n",
       "3                                   [5, 6, 6, 6, 6, 6, 6]  \n",
       "4                    [1, 2, 0, 0, 0, 0, 0, 0, 0, 0, 0, 0]  \n",
       "...                                                   ...  \n",
       "274300               [1, 0, 0, 0, 0, 0, 0, 0, 0, 0, 0, 0]  \n",
       "274301                  [0, 0, 0, 0, 0, 0, 1, 0, 0, 0, 0]  \n",
       "274302                                 [0, 0, 0, 0, 0, 0]  \n",
       "274303                              [0, 0, 0, 0, 0, 0, 0]  \n",
       "274304                  [0, 0, 0, 0, 0, 0, 0, 0, 0, 0, 0]  \n",
       "\n",
       "[274305 rows x 2 columns]"
      ]
     },
     "execution_count": 82,
     "metadata": {},
     "output_type": "execute_result"
    }
   ],
   "source": [
    "df"
   ]
  },
  {
   "cell_type": "markdown",
   "id": "b2af6274",
   "metadata": {},
   "source": [
    "Проверка мусора:"
   ]
  },
  {
   "cell_type": "code",
   "execution_count": 94,
   "id": "3f9aa4d0",
   "metadata": {},
   "outputs": [
    {
     "name": "stdout",
     "output_type": "stream",
     "text": [
      "u2\n",
      "1693\n",
      "de\n",
      "5687\n",
      "у\n",
      "11006\n",
      "н\n",
      "13107\n",
      "u2\n",
      "13925\n",
      "аз\n",
      "36236\n",
      "mu\n",
      "45591\n",
      "аа\n",
      "49286\n",
      "и0\n",
      "52255\n",
      "pz\n",
      "79270\n",
      "nc\n",
      "91150\n",
      "св\n",
      "98193\n",
      "уз\n",
      "100539\n",
      "iv\n",
      "144227\n",
      "ну\n",
      "239414\n",
      "да\n",
      "241323\n",
      "да\n",
      "241454\n",
      "я\n",
      "253098\n",
      "да\n",
      "261436\n",
      "эй\n",
      "261553\n",
      "ах\n",
      "268400\n",
      "да\n",
      "269391\n",
      "эй\n",
      "271168\n"
     ]
    }
   ],
   "source": [
    "trash_index = []\n",
    "for i in range(len(df)):\n",
    "    if len(df.augmented_tokens[i]) == 1:\n",
    "        if len(df.augmented_tokens[i][0]) <3:\n",
    "            print(df.augmented_tokens[i][0])\n",
    "            trash_index.append(i)\n",
    "            print(i)"
   ]
  },
  {
   "cell_type": "code",
   "execution_count": 96,
   "id": "86c475f9",
   "metadata": {},
   "outputs": [
    {
     "data": {
      "text/plain": [
       "augmented_tokens      [да]\n",
       "augmented_ner_tags     [0]\n",
       "Name: 241454, dtype: object"
      ]
     },
     "execution_count": 96,
     "metadata": {},
     "output_type": "execute_result"
    }
   ],
   "source": [
    "df.iloc[241454]"
   ]
  },
  {
   "cell_type": "code",
   "execution_count": 97,
   "id": "700f24db",
   "metadata": {},
   "outputs": [],
   "source": [
    "for ind in trash_index:\n",
    "    df.drop(ind, inplace=True)"
   ]
  },
  {
   "cell_type": "code",
   "execution_count": 99,
   "id": "ae602668",
   "metadata": {},
   "outputs": [],
   "source": [
    "df.reset_index(drop=True, inplace=True)"
   ]
  },
  {
   "cell_type": "markdown",
   "id": "95aee44f",
   "metadata": {},
   "source": [
    "#### небольшая финальная корректировка, меняем римские цифры на обычные, меняем разметку"
   ]
  },
  {
   "cell_type": "code",
   "execution_count": 100,
   "id": "311064cd",
   "metadata": {},
   "outputs": [],
   "source": [
    "roman_map = {'i': 1,'v': 5,'x': 10,'l': 50,'c': 100,'d': 500,'m': 1000}"
   ]
  },
  {
   "cell_type": "code",
   "execution_count": 101,
   "id": "25104f5f",
   "metadata": {},
   "outputs": [],
   "source": [
    "def length_check(tokens, ner_tags):\n",
    "    return 'ok' if len(tokens) == len(ner_tags) else 'WRONG'"
   ]
  },
  {
   "cell_type": "code",
   "execution_count": 102,
   "id": "df8d82ec",
   "metadata": {},
   "outputs": [],
   "source": [
    "def is_roman_numeral(token):\n",
    "    roman_numeral_pattern = r\"^(?=[mdclxvi])M*(c[md]|d?c{0,3})(x[cl]|l?x{0,3})(i[xv]|v?i{0,3})$\"\n",
    "    return bool(re.match(roman_numeral_pattern, token, re.IGNORECASE))"
   ]
  },
  {
   "cell_type": "code",
   "execution_count": 103,
   "id": "513f2a4f",
   "metadata": {},
   "outputs": [],
   "source": [
    "def roman_to_arabic(tokens):\n",
    "    for index, token in enumerate(tokens):\n",
    "        if is_roman_numeral(token):\n",
    "            total = 0\n",
    "            prev_value = 0\n",
    "            for numeral in reversed(token):\n",
    "                current_value = roman_map[numeral]\n",
    "                if current_value >= prev_value:\n",
    "                    total += current_value\n",
    "                else:\n",
    "                    total -= current_value\n",
    "                prev_value = current_value\n",
    "            tokens[index] = str(total)\n",
    "    return tokens"
   ]
  },
  {
   "cell_type": "markdown",
   "id": "0e4cf1fb",
   "metadata": {},
   "source": [
    "В датасете есть один кривой токен, просто удалим его"
   ]
  },
  {
   "cell_type": "code",
   "execution_count": 104,
   "id": "9eb8444c",
   "metadata": {},
   "outputs": [
    {
     "name": "stdout",
     "output_type": "stream",
     "text": [
      "67718\n"
     ]
    }
   ],
   "source": [
    "for i in range(len(df)):\n",
    "    try:\n",
    "        roman_to_arabic(df.augmented_tokens[i])\n",
    "    except:\n",
    "        print(i)\n",
    "        break"
   ]
  },
  {
   "cell_type": "code",
   "execution_count": 105,
   "id": "f777c057",
   "metadata": {},
   "outputs": [
    {
     "data": {
      "text/plain": [
       "11"
      ]
     },
     "execution_count": 105,
     "metadata": {},
     "output_type": "execute_result"
    }
   ],
   "source": [
    "trash = 'lı'\n",
    "df.augmented_tokens[67718].index(trash)"
   ]
  },
  {
   "cell_type": "code",
   "execution_count": 107,
   "id": "22b7d5af",
   "metadata": {},
   "outputs": [],
   "source": [
    "del df['augmented_tokens'][67718][11]\n",
    "del df['augmented_ner_tags'][67718][11]"
   ]
  },
  {
   "cell_type": "code",
   "execution_count": 108,
   "id": "9c8efda6",
   "metadata": {},
   "outputs": [],
   "source": [
    "df.reset_index(drop=True, inplace=True)"
   ]
  },
  {
   "cell_type": "code",
   "execution_count": 109,
   "id": "6d923921",
   "metadata": {
    "collapsed": true
   },
   "outputs": [
    {
     "data": {
      "application/vnd.jupyter.widget-view+json": {
       "model_id": "87b59c90063142459d59d8d1f1e9431a",
       "version_major": 2,
       "version_minor": 0
      },
      "text/plain": [
       "VBox(children=(HBox(children=(IntProgress(value=0, description='0.00%', max=17143), Label(value='0 / 17143')))…"
      ]
     },
     "metadata": {},
     "output_type": "display_data"
    }
   ],
   "source": [
    "df['augmented_tokens'] = df['augmented_tokens'].parallel_apply(lambda x: roman_to_arabic(x))"
   ]
  },
  {
   "cell_type": "markdown",
   "id": "f38551db",
   "metadata": {},
   "source": [
    "Сделаем числовые значения текстовыми, и скорректируем нер разметку"
   ]
  },
  {
   "cell_type": "code",
   "execution_count": 110,
   "id": "0d7d9367",
   "metadata": {},
   "outputs": [],
   "source": [
    "def replace_numerical_with_words(tokens, ner_tags):\n",
    "    adjusted_ner_tags = []\n",
    "    \n",
    "    for i, token in enumerate(tokens):\n",
    "        if token.isnumeric():\n",
    "            index = i\n",
    "            new_tokens = num2words(int(token), lang='ru').split()\n",
    "            tag_to_insert = ner_tags[i]\n",
    "            count = len(new_tokens)\n",
    "            del ner_tags[i]\n",
    "            del tokens[i] \n",
    "            for _ in range(len(new_tokens)):\n",
    "                ner_tags.insert(index, tag_to_insert)\n",
    "                tokens.insert(index, new_tokens[_])\n",
    "                index += 1 \n",
    "                \n",
    "    return tokens, ner_tags"
   ]
  },
  {
   "cell_type": "code",
   "execution_count": 111,
   "id": "483c4cb4",
   "metadata": {},
   "outputs": [
    {
     "data": {
      "application/vnd.jupyter.widget-view+json": {
       "model_id": "8459825fb1d04fc6901ad25323d11daf",
       "version_major": 2,
       "version_minor": 0
      },
      "text/plain": [
       "VBox(children=(HBox(children=(IntProgress(value=0, description='0.00%', max=17143), Label(value='0 / 17143')))…"
      ]
     },
     "metadata": {},
     "output_type": "display_data"
    }
   ],
   "source": [
    "df[['augmented_tokens', 'augmented_ner_tags']] = df.parallel_apply(lambda row: pd.Series(replace_numerical_with_words(row['augmented_tokens'], row['augmented_ner_tags'])), axis=1)"
   ]
  },
  {
   "cell_type": "markdown",
   "id": "42a911e5",
   "metadata": {},
   "source": [
    "Проверим что ничего не сбилось:"
   ]
  },
  {
   "cell_type": "code",
   "execution_count": 112,
   "id": "94d03c9b",
   "metadata": {},
   "outputs": [
    {
     "data": {
      "text/plain": [
       "ok    274282\n",
       "Name: augmented_length_check, dtype: int64"
      ]
     },
     "execution_count": 112,
     "metadata": {},
     "output_type": "execute_result"
    }
   ],
   "source": [
    "df['augmented_length_check'] = df.apply(lambda row: length_check(row['augmented_tokens'], row['augmented_ner_tags']), axis=1)\n",
    "df['augmented_length_check'].value_counts()"
   ]
  },
  {
   "cell_type": "markdown",
   "id": "ec2628ad",
   "metadata": {},
   "source": [
    "Добавим предложения из токенов, поскольку токенизация у моделей может быть разная:"
   ]
  },
  {
   "cell_type": "code",
   "execution_count": 113,
   "id": "fe1312ab",
   "metadata": {},
   "outputs": [],
   "source": [
    "def convert_to_sentence(lst_str):\n",
    "    #lst = literal_eval(lst_str)\n",
    "    return ' '.join(lst_str)"
   ]
  },
  {
   "cell_type": "code",
   "execution_count": 114,
   "id": "86077f00",
   "metadata": {},
   "outputs": [
    {
     "data": {
      "application/vnd.jupyter.widget-view+json": {
       "model_id": "ff441ef622e24eb9b7b00306e77b8f44",
       "version_major": 2,
       "version_minor": 0
      },
      "text/plain": [
       "VBox(children=(HBox(children=(IntProgress(value=0, description='0.00%', max=17143), Label(value='0 / 17143')))…"
      ]
     },
     "metadata": {},
     "output_type": "display_data"
    }
   ],
   "source": [
    "df['sentence'] = df['augmented_tokens'].parallel_apply(lambda x: convert_to_sentence(x))"
   ]
  },
  {
   "cell_type": "code",
   "execution_count": 115,
   "id": "93371d5f",
   "metadata": {},
   "outputs": [],
   "source": [
    "df.drop('augmented_length_check', axis=1, inplace=True)"
   ]
  },
  {
   "cell_type": "code",
   "execution_count": 116,
   "id": "1c235bb8",
   "metadata": {},
   "outputs": [],
   "source": [
    "df = df[['augmented_tokens', 'sentence', 'augmented_ner_tags']]"
   ]
  },
  {
   "cell_type": "code",
   "execution_count": 117,
   "id": "c6ce1407",
   "metadata": {},
   "outputs": [],
   "source": [
    "def print_tags_frequency(tags):\n",
    "    freq = {}\n",
    "    for row in tags:\n",
    "        for tag in set(row):\n",
    "            if tag in freq:\n",
    "                freq[tag] += 1\n",
    "            else:\n",
    "                freq[tag] = 1\n",
    "    freq\n",
    "    for item in sorted(freq.keys()):\n",
    "        print(f'% of rows token {item} appears in is {freq[item]/len(tags)*100:.4f}')"
   ]
  },
  {
   "cell_type": "code",
   "execution_count": 118,
   "id": "e6892e68",
   "metadata": {},
   "outputs": [
    {
     "name": "stdout",
     "output_type": "stream",
     "text": [
      "% of rows token 0 appears in is 94.0186\n",
      "% of rows token 1 appears in is 26.3517\n",
      "% of rows token 2 appears in is 17.2450\n",
      "% of rows token 3 appears in is 15.6084\n",
      "% of rows token 4 appears in is 9.1858\n",
      "% of rows token 5 appears in is 37.2489\n",
      "% of rows token 6 appears in is 7.5393\n",
      "% of rows token 7 appears in is 16.3839\n",
      "% of rows token 8 appears in is 7.8481\n"
     ]
    }
   ],
   "source": [
    "print_tags_frequency(df['augmented_ner_tags'])"
   ]
  },
  {
   "cell_type": "code",
   "execution_count": 119,
   "id": "5011abe8",
   "metadata": {},
   "outputs": [],
   "source": [
    "y = df['augmented_ner_tags']"
   ]
  },
  {
   "cell_type": "code",
   "execution_count": 120,
   "id": "787df12f",
   "metadata": {},
   "outputs": [],
   "source": [
    "X_train, X_test, y_train, y_test = train_test_split(df, y, test_size=0.25, random_state=12)"
   ]
  },
  {
   "cell_type": "code",
   "execution_count": 121,
   "id": "3a68c1b9",
   "metadata": {},
   "outputs": [
    {
     "name": "stdout",
     "output_type": "stream",
     "text": [
      "% of rows token 0 appears in is 94.0285\n",
      "% of rows token 1 appears in is 26.2679\n",
      "% of rows token 2 appears in is 17.2475\n",
      "% of rows token 3 appears in is 15.6355\n",
      "% of rows token 4 appears in is 9.2154\n",
      "% of rows token 5 appears in is 37.2980\n",
      "% of rows token 6 appears in is 7.5207\n",
      "% of rows token 7 appears in is 16.3506\n",
      "% of rows token 8 appears in is 7.8309\n"
     ]
    }
   ],
   "source": [
    "print_tags_frequency(X_train['augmented_ner_tags'])"
   ]
  },
  {
   "cell_type": "code",
   "execution_count": 122,
   "id": "077cbaa0",
   "metadata": {},
   "outputs": [
    {
     "name": "stdout",
     "output_type": "stream",
     "text": [
      "% of rows token 0 appears in is 93.9887\n",
      "% of rows token 1 appears in is 26.6031\n",
      "% of rows token 2 appears in is 17.2376\n",
      "% of rows token 3 appears in is 15.5270\n",
      "% of rows token 4 appears in is 9.0971\n",
      "% of rows token 5 appears in is 37.1017\n",
      "% of rows token 6 appears in is 7.5950\n",
      "% of rows token 7 appears in is 16.4836\n",
      "% of rows token 8 appears in is 7.8998\n"
     ]
    }
   ],
   "source": [
    "print_tags_frequency(X_test['augmented_ner_tags'])"
   ]
  },
  {
   "cell_type": "code",
   "execution_count": 123,
   "id": "37740d8a",
   "metadata": {},
   "outputs": [
    {
     "data": {
      "text/html": [
       "<div>\n",
       "<style scoped>\n",
       "    .dataframe tbody tr th:only-of-type {\n",
       "        vertical-align: middle;\n",
       "    }\n",
       "\n",
       "    .dataframe tbody tr th {\n",
       "        vertical-align: top;\n",
       "    }\n",
       "\n",
       "    .dataframe thead th {\n",
       "        text-align: right;\n",
       "    }\n",
       "</style>\n",
       "<table border=\"1\" class=\"dataframe\">\n",
       "  <thead>\n",
       "    <tr style=\"text-align: right;\">\n",
       "      <th></th>\n",
       "      <th>augmented_tokens</th>\n",
       "      <th>sentence</th>\n",
       "      <th>augmented_ner_tags</th>\n",
       "    </tr>\n",
       "  </thead>\n",
       "  <tbody>\n",
       "    <tr>\n",
       "      <th>110881</th>\n",
       "      <td>[последний, был, разбит, при, сауле, жемайтами...</td>\n",
       "      <td>последний был разбит при сауле жемайтами и зем...</td>\n",
       "      <td>[0, 0, 0, 0, 5, 0, 0, 0, 0, 0, 0, 0, 0, 0, 0, ...</td>\n",
       "    </tr>\n",
       "    <tr>\n",
       "      <th>168081</th>\n",
       "      <td>[научным, руководителем, был, в, и, арнольд]</td>\n",
       "      <td>научным руководителем был в и арнольд</td>\n",
       "      <td>[0, 0, 0, 1, 2, 2]</td>\n",
       "    </tr>\n",
       "    <tr>\n",
       "      <th>266670</th>\n",
       "      <td>[но, как, же, нынче, выдают, замуж, княгиня, н...</td>\n",
       "      <td>но как же нынче выдают замуж княгиня ни от ког...</td>\n",
       "      <td>[0, 0, 0, 0, 0, 0, 0, 0, 0, 0, 0, 0, 0]</td>\n",
       "    </tr>\n",
       "    <tr>\n",
       "      <th>41382</th>\n",
       "      <td>[в, конце, финального, эпизода, сериала, дверь...</td>\n",
       "      <td>в конце финального эпизода сериала дверь посре...</td>\n",
       "      <td>[0, 0, 0, 0, 0, 0, 0, 0, 0, 0, 0, 0, 1]</td>\n",
       "    </tr>\n",
       "    <tr>\n",
       "      <th>65106</th>\n",
       "      <td>[в, начале, олигоцена, произошло, похолодание,...</td>\n",
       "      <td>в начале олигоцена произошло похолодание клима...</td>\n",
       "      <td>[0, 0, 0, 0, 0, 0, 5, 0, 0, 0, 0, 0, 0, 0, 0, ...</td>\n",
       "    </tr>\n",
       "    <tr>\n",
       "      <th>...</th>\n",
       "      <td>...</td>\n",
       "      <td>...</td>\n",
       "      <td>...</td>\n",
       "    </tr>\n",
       "    <tr>\n",
       "      <th>206083</th>\n",
       "      <td>[саундтрек, игры, номинировался, на, лучшую, о...</td>\n",
       "      <td>саундтрек игры номинировался на лучшую общую м...</td>\n",
       "      <td>[0, 0, 0, 0, 0, 0, 0, 0, 0, 0, 0, 0, 0, 0, 0, 7]</td>\n",
       "    </tr>\n",
       "    <tr>\n",
       "      <th>36482</th>\n",
       "      <td>[сараево, босния, и, герцеговина]</td>\n",
       "      <td>сараево босния и герцеговина</td>\n",
       "      <td>[5, 5, 6, 6]</td>\n",
       "    </tr>\n",
       "    <tr>\n",
       "      <th>40177</th>\n",
       "      <td>[до, одна, тысяча, девятьсот, пятьдесят, два, ...</td>\n",
       "      <td>до одна тысяча девятьсот пятьдесят два года ра...</td>\n",
       "      <td>[0, 0, 0, 0, 0, 0, 0, 0, 0, 0, 0, 0, 0, 5]</td>\n",
       "    </tr>\n",
       "    <tr>\n",
       "      <th>255366</th>\n",
       "      <td>[однако, путь, к, этой, цели, предстоит, долги...</td>\n",
       "      <td>однако путь к этой цели предстоит долгий и нам...</td>\n",
       "      <td>[0, 0, 0, 0, 0, 0, 0, 0, 0, 0, 0, 0, 0, 0]</td>\n",
       "    </tr>\n",
       "    <tr>\n",
       "      <th>235163</th>\n",
       "      <td>[он, знакомится, с, бывшим, рабом, олаудой, эк...</td>\n",
       "      <td>он знакомится с бывшим рабом олаудой эквиано и...</td>\n",
       "      <td>[0, 0, 0, 0, 0, 1, 2, 0, 0, 0]</td>\n",
       "    </tr>\n",
       "  </tbody>\n",
       "</table>\n",
       "<p>205711 rows × 3 columns</p>\n",
       "</div>"
      ],
      "text/plain": [
       "                                         augmented_tokens  \\\n",
       "110881  [последний, был, разбит, при, сауле, жемайтами...   \n",
       "168081       [научным, руководителем, был, в, и, арнольд]   \n",
       "266670  [но, как, же, нынче, выдают, замуж, княгиня, н...   \n",
       "41382   [в, конце, финального, эпизода, сериала, дверь...   \n",
       "65106   [в, начале, олигоцена, произошло, похолодание,...   \n",
       "...                                                   ...   \n",
       "206083  [саундтрек, игры, номинировался, на, лучшую, о...   \n",
       "36482                   [сараево, босния, и, герцеговина]   \n",
       "40177   [до, одна, тысяча, девятьсот, пятьдесят, два, ...   \n",
       "255366  [однако, путь, к, этой, цели, предстоит, долги...   \n",
       "235163  [он, знакомится, с, бывшим, рабом, олаудой, эк...   \n",
       "\n",
       "                                                 sentence  \\\n",
       "110881  последний был разбит при сауле жемайтами и зем...   \n",
       "168081              научным руководителем был в и арнольд   \n",
       "266670  но как же нынче выдают замуж княгиня ни от ког...   \n",
       "41382   в конце финального эпизода сериала дверь посре...   \n",
       "65106   в начале олигоцена произошло похолодание клима...   \n",
       "...                                                   ...   \n",
       "206083  саундтрек игры номинировался на лучшую общую м...   \n",
       "36482                        сараево босния и герцеговина   \n",
       "40177   до одна тысяча девятьсот пятьдесят два года ра...   \n",
       "255366  однако путь к этой цели предстоит долгий и нам...   \n",
       "235163  он знакомится с бывшим рабом олаудой эквиано и...   \n",
       "\n",
       "                                       augmented_ner_tags  \n",
       "110881  [0, 0, 0, 0, 5, 0, 0, 0, 0, 0, 0, 0, 0, 0, 0, ...  \n",
       "168081                                 [0, 0, 0, 1, 2, 2]  \n",
       "266670            [0, 0, 0, 0, 0, 0, 0, 0, 0, 0, 0, 0, 0]  \n",
       "41382             [0, 0, 0, 0, 0, 0, 0, 0, 0, 0, 0, 0, 1]  \n",
       "65106   [0, 0, 0, 0, 0, 0, 5, 0, 0, 0, 0, 0, 0, 0, 0, ...  \n",
       "...                                                   ...  \n",
       "206083   [0, 0, 0, 0, 0, 0, 0, 0, 0, 0, 0, 0, 0, 0, 0, 7]  \n",
       "36482                                        [5, 5, 6, 6]  \n",
       "40177          [0, 0, 0, 0, 0, 0, 0, 0, 0, 0, 0, 0, 0, 5]  \n",
       "255366         [0, 0, 0, 0, 0, 0, 0, 0, 0, 0, 0, 0, 0, 0]  \n",
       "235163                     [0, 0, 0, 0, 0, 1, 2, 0, 0, 0]  \n",
       "\n",
       "[205711 rows x 3 columns]"
      ]
     },
     "execution_count": 123,
     "metadata": {},
     "output_type": "execute_result"
    }
   ],
   "source": [
    "X_train"
   ]
  },
  {
   "cell_type": "code",
   "execution_count": 124,
   "id": "dc78e71f",
   "metadata": {},
   "outputs": [
    {
     "data": {
      "text/html": [
       "<div>\n",
       "<style scoped>\n",
       "    .dataframe tbody tr th:only-of-type {\n",
       "        vertical-align: middle;\n",
       "    }\n",
       "\n",
       "    .dataframe tbody tr th {\n",
       "        vertical-align: top;\n",
       "    }\n",
       "\n",
       "    .dataframe thead th {\n",
       "        text-align: right;\n",
       "    }\n",
       "</style>\n",
       "<table border=\"1\" class=\"dataframe\">\n",
       "  <thead>\n",
       "    <tr style=\"text-align: right;\">\n",
       "      <th></th>\n",
       "      <th>augmented_tokens</th>\n",
       "      <th>sentence</th>\n",
       "      <th>augmented_ner_tags</th>\n",
       "    </tr>\n",
       "  </thead>\n",
       "  <tbody>\n",
       "    <tr>\n",
       "      <th>96657</th>\n",
       "      <td>[сын, помещика, ротмистра, в, отставке, владим...</td>\n",
       "      <td>сын помещика ротмистра в отставке владимира ви...</td>\n",
       "      <td>[0, 0, 0, 0, 0, 1, 2, 2, 0, 0, 0, 1, 2, 2]</td>\n",
       "    </tr>\n",
       "    <tr>\n",
       "      <th>182493</th>\n",
       "      <td>[в, англии, разные, нормандские, короли, царст...</td>\n",
       "      <td>в англии разные нормандские короли царствовавш...</td>\n",
       "      <td>[0, 5, 0, 0, 0, 0, 0, 0, 0, 0, 0, 0, 0, 0, 0, ...</td>\n",
       "    </tr>\n",
       "    <tr>\n",
       "      <th>122924</th>\n",
       "      <td>[так, как, в, этом, павсанию, было, отказано, ...</td>\n",
       "      <td>так как в этом павсанию было отказано то он ос...</td>\n",
       "      <td>[0, 0, 0, 0, 1, 0, 0, 0, 0, 0, 0, 0, 0, 0, 0, ...</td>\n",
       "    </tr>\n",
       "    <tr>\n",
       "      <th>98842</th>\n",
       "      <td>[в, дистрибутив, входит, компилятор, mingw]</td>\n",
       "      <td>в дистрибутив входит компилятор mingw</td>\n",
       "      <td>[0, 0, 0, 0, 7]</td>\n",
       "    </tr>\n",
       "    <tr>\n",
       "      <th>131859</th>\n",
       "      <td>[приз, образован, накануне, сезона2004, когда,...</td>\n",
       "      <td>приз образован накануне сезона2004 когда закры...</td>\n",
       "      <td>[0, 0, 0, 0, 0, 0, 0, 3, 0, 5]</td>\n",
       "    </tr>\n",
       "    <tr>\n",
       "      <th>...</th>\n",
       "      <td>...</td>\n",
       "      <td>...</td>\n",
       "      <td>...</td>\n",
       "    </tr>\n",
       "    <tr>\n",
       "      <th>228407</th>\n",
       "      <td>[к, тому, же, должность, главнокомандующего, ф...</td>\n",
       "      <td>к тому же должность главнокомандующего фронтом...</td>\n",
       "      <td>[0, 0, 0, 0, 0, 0, 0, 0, 0, 0, 0, 0, 0, 1]</td>\n",
       "    </tr>\n",
       "    <tr>\n",
       "      <th>187999</th>\n",
       "      <td>[например, в, бассейне, реки, ангара, произрас...</td>\n",
       "      <td>например в бассейне реки ангара произрастает а...</td>\n",
       "      <td>[0, 0, 0, 0, 5, 0, 0, 0, 0, 0, 0]</td>\n",
       "    </tr>\n",
       "    <tr>\n",
       "      <th>250994</th>\n",
       "      <td>[основой, наших, действий, является, стремлени...</td>\n",
       "      <td>основой наших действий является стремление доб...</td>\n",
       "      <td>[0, 0, 0, 0, 0, 0, 0, 0]</td>\n",
       "    </tr>\n",
       "    <tr>\n",
       "      <th>271112</th>\n",
       "      <td>[самый, центр, не, требует, никаких, усилий]</td>\n",
       "      <td>самый центр не требует никаких усилий</td>\n",
       "      <td>[0, 0, 0, 0, 0, 0]</td>\n",
       "    </tr>\n",
       "    <tr>\n",
       "      <th>89342</th>\n",
       "      <td>[это, жёлтобелый, карлик, класса, a, главной, ...</td>\n",
       "      <td>это жёлтобелый карлик класса a главной последо...</td>\n",
       "      <td>[0, 0, 0, 0, 5, 0, 0]</td>\n",
       "    </tr>\n",
       "  </tbody>\n",
       "</table>\n",
       "<p>68571 rows × 3 columns</p>\n",
       "</div>"
      ],
      "text/plain": [
       "                                         augmented_tokens  \\\n",
       "96657   [сын, помещика, ротмистра, в, отставке, владим...   \n",
       "182493  [в, англии, разные, нормандские, короли, царст...   \n",
       "122924  [так, как, в, этом, павсанию, было, отказано, ...   \n",
       "98842         [в, дистрибутив, входит, компилятор, mingw]   \n",
       "131859  [приз, образован, накануне, сезона2004, когда,...   \n",
       "...                                                   ...   \n",
       "228407  [к, тому, же, должность, главнокомандующего, ф...   \n",
       "187999  [например, в, бассейне, реки, ангара, произрас...   \n",
       "250994  [основой, наших, действий, является, стремлени...   \n",
       "271112       [самый, центр, не, требует, никаких, усилий]   \n",
       "89342   [это, жёлтобелый, карлик, класса, a, главной, ...   \n",
       "\n",
       "                                                 sentence  \\\n",
       "96657   сын помещика ротмистра в отставке владимира ви...   \n",
       "182493  в англии разные нормандские короли царствовавш...   \n",
       "122924  так как в этом павсанию было отказано то он ос...   \n",
       "98842               в дистрибутив входит компилятор mingw   \n",
       "131859  приз образован накануне сезона2004 когда закры...   \n",
       "...                                                   ...   \n",
       "228407  к тому же должность главнокомандующего фронтом...   \n",
       "187999  например в бассейне реки ангара произрастает а...   \n",
       "250994  основой наших действий является стремление доб...   \n",
       "271112              самый центр не требует никаких усилий   \n",
       "89342   это жёлтобелый карлик класса a главной последо...   \n",
       "\n",
       "                                       augmented_ner_tags  \n",
       "96657          [0, 0, 0, 0, 0, 1, 2, 2, 0, 0, 0, 1, 2, 2]  \n",
       "182493  [0, 5, 0, 0, 0, 0, 0, 0, 0, 0, 0, 0, 0, 0, 0, ...  \n",
       "122924  [0, 0, 0, 0, 1, 0, 0, 0, 0, 0, 0, 0, 0, 0, 0, ...  \n",
       "98842                                     [0, 0, 0, 0, 7]  \n",
       "131859                     [0, 0, 0, 0, 0, 0, 0, 3, 0, 5]  \n",
       "...                                                   ...  \n",
       "228407         [0, 0, 0, 0, 0, 0, 0, 0, 0, 0, 0, 0, 0, 1]  \n",
       "187999                  [0, 0, 0, 0, 5, 0, 0, 0, 0, 0, 0]  \n",
       "250994                           [0, 0, 0, 0, 0, 0, 0, 0]  \n",
       "271112                                 [0, 0, 0, 0, 0, 0]  \n",
       "89342                               [0, 0, 0, 0, 5, 0, 0]  \n",
       "\n",
       "[68571 rows x 3 columns]"
      ]
     },
     "execution_count": 124,
     "metadata": {},
     "output_type": "execute_result"
    }
   ],
   "source": [
    "X_test"
   ]
  },
  {
   "cell_type": "code",
   "execution_count": 125,
   "id": "af8fa7ea",
   "metadata": {},
   "outputs": [],
   "source": [
    "X_train.to_csv('train_data.csv', index=False)\n",
    "X_test.to_csv('test_data.csv', index=False)"
   ]
  },
  {
   "cell_type": "code",
   "execution_count": null,
   "id": "c5178641",
   "metadata": {},
   "outputs": [],
   "source": []
  }
 ],
 "metadata": {
  "kernelspec": {
   "display_name": "Python 3 (ipykernel)",
   "language": "python",
   "name": "python3"
  },
  "language_info": {
   "codemirror_mode": {
    "name": "ipython",
    "version": 3
   },
   "file_extension": ".py",
   "mimetype": "text/x-python",
   "name": "python",
   "nbconvert_exporter": "python",
   "pygments_lexer": "ipython3",
   "version": "3.9.13"
  }
 },
 "nbformat": 4,
 "nbformat_minor": 5
}
