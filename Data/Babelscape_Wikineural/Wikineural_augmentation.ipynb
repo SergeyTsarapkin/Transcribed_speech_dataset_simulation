{
 "cells": [
  {
   "cell_type": "code",
   "execution_count": 1,
   "id": "f80acb1c",
   "metadata": {},
   "outputs": [
    {
     "data": {
      "text/html": [
       "<style>.container { width:95% !important; }</style>"
      ],
      "text/plain": [
       "<IPython.core.display.HTML object>"
      ]
     },
     "metadata": {},
     "output_type": "display_data"
    }
   ],
   "source": [
    "from IPython.display import display, HTML\n",
    "display(HTML(\"<style>.container { width:95% !important; }</style>\"))"
   ]
  },
  {
   "cell_type": "code",
   "execution_count": 2,
   "id": "8b44a01b",
   "metadata": {},
   "outputs": [
    {
     "name": "stdout",
     "output_type": "stream",
     "text": [
      "INFO: Pandarallel will run on 16 workers.\n",
      "INFO: Pandarallel will use Memory file system to transfer data between the main process and workers.\n"
     ]
    }
   ],
   "source": [
    "import pandas as pd\n",
    "import numpy as np\n",
    "import string\n",
    "import re\n",
    "from num2words import num2words\n",
    "\n",
    "from pandarallel import pandarallel\n",
    "pandarallel.initialize(progress_bar=True, nb_workers=16)\n",
    "\n",
    "from functools import lru_cache\n",
    "\n",
    "import pymorphy3\n",
    "import random\n",
    "\n",
    "morph = pymorphy3.MorphAnalyzer()\n",
    "punctuation = string.punctuation"
   ]
  },
  {
   "cell_type": "code",
   "execution_count": 3,
   "id": "e230a5f3",
   "metadata": {},
   "outputs": [],
   "source": [
    "markup = {'O': 0, 'B-PER': 1, 'I-PER': 2, 'B-ORG': 3, 'I-ORG': 4, 'B-LOC': 5, 'I-LOC': 6, 'B-MISC': 7, 'I-MISC': 8}"
   ]
  },
  {
   "cell_type": "code",
   "execution_count": 4,
   "id": "18c91de6",
   "metadata": {},
   "outputs": [],
   "source": [
    "df_train = pd.read_parquet('train_ru-00000-of-00001.parquet')\n",
    "df_test = pd.read_parquet('test_ru-00000-of-00001.parquet')\n",
    "df_val = pd.read_parquet('val_ru-00000-of-00001.parquet')"
   ]
  },
  {
   "cell_type": "code",
   "execution_count": 5,
   "id": "d94cd683",
   "metadata": {},
   "outputs": [],
   "source": [
    "df_main = pd.concat([df_train, df_test, df_val], ignore_index=True)"
   ]
  },
  {
   "cell_type": "code",
   "execution_count": 6,
   "id": "4468e664",
   "metadata": {},
   "outputs": [
    {
     "data": {
      "text/html": [
       "<div>\n",
       "<style scoped>\n",
       "    .dataframe tbody tr th:only-of-type {\n",
       "        vertical-align: middle;\n",
       "    }\n",
       "\n",
       "    .dataframe tbody tr th {\n",
       "        vertical-align: top;\n",
       "    }\n",
       "\n",
       "    .dataframe thead th {\n",
       "        text-align: right;\n",
       "    }\n",
       "</style>\n",
       "<table border=\"1\" class=\"dataframe\">\n",
       "  <thead>\n",
       "    <tr style=\"text-align: right;\">\n",
       "      <th></th>\n",
       "      <th>tokens</th>\n",
       "      <th>ner_tags</th>\n",
       "      <th>lang</th>\n",
       "    </tr>\n",
       "  </thead>\n",
       "  <tbody>\n",
       "    <tr>\n",
       "      <th>0</th>\n",
       "      <td>[Детство, провёл, в, Надьсомбате, ,, с, 1860, ...</td>\n",
       "      <td>[0, 0, 0, 5, 0, 0, 0, 0, 0]</td>\n",
       "      <td>ru</td>\n",
       "    </tr>\n",
       "    <tr>\n",
       "      <th>1</th>\n",
       "      <td>[На, самом, деле, 6, августа, был, датирован, ...</td>\n",
       "      <td>[0, 0, 0, 0, 0, 0, 0, 0, 0, 0, 0, 0, 0, 0, 1, 0]</td>\n",
       "      <td>ru</td>\n",
       "    </tr>\n",
       "    <tr>\n",
       "      <th>2</th>\n",
       "      <td>[фунтов, .]</td>\n",
       "      <td>[7, 0]</td>\n",
       "      <td>ru</td>\n",
       "    </tr>\n",
       "    <tr>\n",
       "      <th>3</th>\n",
       "      <td>[Исидор, Севильский, (, ок, .]</td>\n",
       "      <td>[1, 2, 0, 0, 0]</td>\n",
       "      <td>ru</td>\n",
       "    </tr>\n",
       "    <tr>\n",
       "      <th>4</th>\n",
       "      <td>[Самыми, известными, являются, курганы, Накаод...</td>\n",
       "      <td>[0, 0, 0, 0, 5, 0, 0, 5, 0, 0, 5, 0, 5, 0, 0, ...</td>\n",
       "      <td>ru</td>\n",
       "    </tr>\n",
       "  </tbody>\n",
       "</table>\n",
       "</div>"
      ],
      "text/plain": [
       "                                              tokens  \\\n",
       "0  [Детство, провёл, в, Надьсомбате, ,, с, 1860, ...   \n",
       "1  [На, самом, деле, 6, августа, был, датирован, ...   \n",
       "2                                        [фунтов, .]   \n",
       "3                     [Исидор, Севильский, (, ок, .]   \n",
       "4  [Самыми, известными, являются, курганы, Накаод...   \n",
       "\n",
       "                                            ner_tags lang  \n",
       "0                        [0, 0, 0, 5, 0, 0, 0, 0, 0]   ru  \n",
       "1   [0, 0, 0, 0, 0, 0, 0, 0, 0, 0, 0, 0, 0, 0, 1, 0]   ru  \n",
       "2                                             [7, 0]   ru  \n",
       "3                                    [1, 2, 0, 0, 0]   ru  \n",
       "4  [0, 0, 0, 0, 5, 0, 0, 5, 0, 0, 5, 0, 5, 0, 0, ...   ru  "
      ]
     },
     "execution_count": 6,
     "metadata": {},
     "output_type": "execute_result"
    }
   ],
   "source": [
    "df_main.head()"
   ]
  },
  {
   "cell_type": "code",
   "execution_count": 7,
   "id": "12e351ce",
   "metadata": {},
   "outputs": [],
   "source": [
    "# Function to check if number of tokens equals number of ner tags for a given row\n",
    "def length_check(tokens, ner_tags):\n",
    "    return 'ok' if len(tokens) == len(ner_tags) else 'WRONG'"
   ]
  },
  {
   "cell_type": "code",
   "execution_count": 8,
   "id": "fff0a6ec",
   "metadata": {},
   "outputs": [],
   "source": [
    "df_main['tokens'] = df_main['tokens'].apply(lambda x: x.tolist())\n",
    "df_main['ner_tags'] = df_main['ner_tags'].apply(lambda x: x.tolist())\n",
    "df_main['len_check'] = df_main.apply(lambda row: length_check(row['tokens'], row['ner_tags']), axis=1)\n",
    "df_main['augmented_tokens'] = df_main['tokens']\n",
    "df_main['augmented_ner_tags'] = df_main['ner_tags']\n",
    "df_main.drop('lang', inplace=True, axis=1)"
   ]
  },
  {
   "cell_type": "code",
   "execution_count": 9,
   "id": "02064812",
   "metadata": {},
   "outputs": [
    {
     "data": {
      "text/html": [
       "<div>\n",
       "<style scoped>\n",
       "    .dataframe tbody tr th:only-of-type {\n",
       "        vertical-align: middle;\n",
       "    }\n",
       "\n",
       "    .dataframe tbody tr th {\n",
       "        vertical-align: top;\n",
       "    }\n",
       "\n",
       "    .dataframe thead th {\n",
       "        text-align: right;\n",
       "    }\n",
       "</style>\n",
       "<table border=\"1\" class=\"dataframe\">\n",
       "  <thead>\n",
       "    <tr style=\"text-align: right;\">\n",
       "      <th></th>\n",
       "      <th>tokens</th>\n",
       "      <th>ner_tags</th>\n",
       "      <th>len_check</th>\n",
       "      <th>augmented_tokens</th>\n",
       "      <th>augmented_ner_tags</th>\n",
       "    </tr>\n",
       "  </thead>\n",
       "  <tbody>\n",
       "    <tr>\n",
       "      <th>0</th>\n",
       "      <td>[Детство, провёл, в, Надьсомбате, ,, с, 1860, ...</td>\n",
       "      <td>[0, 0, 0, 5, 0, 0, 0, 0, 0]</td>\n",
       "      <td>ok</td>\n",
       "      <td>[Детство, провёл, в, Надьсомбате, ,, с, 1860, ...</td>\n",
       "      <td>[0, 0, 0, 5, 0, 0, 0, 0, 0]</td>\n",
       "    </tr>\n",
       "    <tr>\n",
       "      <th>1</th>\n",
       "      <td>[На, самом, деле, 6, августа, был, датирован, ...</td>\n",
       "      <td>[0, 0, 0, 0, 0, 0, 0, 0, 0, 0, 0, 0, 0, 0, 1, 0]</td>\n",
       "      <td>ok</td>\n",
       "      <td>[На, самом, деле, 6, августа, был, датирован, ...</td>\n",
       "      <td>[0, 0, 0, 0, 0, 0, 0, 0, 0, 0, 0, 0, 0, 0, 1, 0]</td>\n",
       "    </tr>\n",
       "    <tr>\n",
       "      <th>2</th>\n",
       "      <td>[фунтов, .]</td>\n",
       "      <td>[7, 0]</td>\n",
       "      <td>ok</td>\n",
       "      <td>[фунтов, .]</td>\n",
       "      <td>[7, 0]</td>\n",
       "    </tr>\n",
       "    <tr>\n",
       "      <th>3</th>\n",
       "      <td>[Исидор, Севильский, (, ок, .]</td>\n",
       "      <td>[1, 2, 0, 0, 0]</td>\n",
       "      <td>ok</td>\n",
       "      <td>[Исидор, Севильский, (, ок, .]</td>\n",
       "      <td>[1, 2, 0, 0, 0]</td>\n",
       "    </tr>\n",
       "    <tr>\n",
       "      <th>4</th>\n",
       "      <td>[Самыми, известными, являются, курганы, Накаод...</td>\n",
       "      <td>[0, 0, 0, 0, 5, 0, 0, 5, 0, 0, 5, 0, 5, 0, 0, ...</td>\n",
       "      <td>ok</td>\n",
       "      <td>[Самыми, известными, являются, курганы, Накаод...</td>\n",
       "      <td>[0, 0, 0, 0, 5, 0, 0, 5, 0, 0, 5, 0, 5, 0, 0, ...</td>\n",
       "    </tr>\n",
       "    <tr>\n",
       "      <th>...</th>\n",
       "      <td>...</td>\n",
       "      <td>...</td>\n",
       "      <td>...</td>\n",
       "      <td>...</td>\n",
       "      <td>...</td>\n",
       "    </tr>\n",
       "    <tr>\n",
       "      <th>115435</th>\n",
       "      <td>[За, день, до, боя, оба, боксёра, посетили, ве...</td>\n",
       "      <td>[0, 0, 0, 0, 0, 0, 0, 0, 0, 0, 0, 1, 0]</td>\n",
       "      <td>ok</td>\n",
       "      <td>[За, день, до, боя, оба, боксёра, посетили, ве...</td>\n",
       "      <td>[0, 0, 0, 0, 0, 0, 0, 0, 0, 0, 0, 1, 0]</td>\n",
       "    </tr>\n",
       "    <tr>\n",
       "      <th>115436</th>\n",
       "      <td>[Согласно, боксёрским, традициям, ,, Али, как,...</td>\n",
       "      <td>[0, 0, 0, 0, 1, 0, 0, 0, 0, 0, 0, 0]</td>\n",
       "      <td>ok</td>\n",
       "      <td>[Согласно, боксёрским, традициям, ,, Али, как,...</td>\n",
       "      <td>[0, 0, 0, 0, 1, 0, 0, 0, 0, 0, 0, 0]</td>\n",
       "    </tr>\n",
       "    <tr>\n",
       "      <th>115437</th>\n",
       "      <td>[Во, время, того, ,, как, рефери, напоминал, б...</td>\n",
       "      <td>[0, 0, 0, 0, 0, 0, 0, 0, 0, 0, 0, 1, 0, 0, 0, ...</td>\n",
       "      <td>ok</td>\n",
       "      <td>[Во, время, того, ,, как, рефери, напоминал, б...</td>\n",
       "      <td>[0, 0, 0, 0, 0, 0, 0, 0, 0, 0, 0, 1, 0, 0, 0, ...</td>\n",
       "    </tr>\n",
       "    <tr>\n",
       "      <th>115438</th>\n",
       "      <td>[Виктория, является, вторым, по, площади, остр...</td>\n",
       "      <td>[5, 0, 0, 0, 0, 0, 0, 5, 0]</td>\n",
       "      <td>ok</td>\n",
       "      <td>[Виктория, является, вторым, по, площади, остр...</td>\n",
       "      <td>[5, 0, 0, 0, 0, 0, 0, 5, 0]</td>\n",
       "    </tr>\n",
       "    <tr>\n",
       "      <th>115439</th>\n",
       "      <td>[Эвдикоты, -, монофилетическая, группа, ,, в, ...</td>\n",
       "      <td>[0, 0, 0, 0, 0, 0, 0, 0, 0, 0, 0, 0, 0, 0, 0, ...</td>\n",
       "      <td>ok</td>\n",
       "      <td>[Эвдикоты, -, монофилетическая, группа, ,, в, ...</td>\n",
       "      <td>[0, 0, 0, 0, 0, 0, 0, 0, 0, 0, 0, 0, 0, 0, 0, ...</td>\n",
       "    </tr>\n",
       "  </tbody>\n",
       "</table>\n",
       "<p>115440 rows × 5 columns</p>\n",
       "</div>"
      ],
      "text/plain": [
       "                                                   tokens  \\\n",
       "0       [Детство, провёл, в, Надьсомбате, ,, с, 1860, ...   \n",
       "1       [На, самом, деле, 6, августа, был, датирован, ...   \n",
       "2                                             [фунтов, .]   \n",
       "3                          [Исидор, Севильский, (, ок, .]   \n",
       "4       [Самыми, известными, являются, курганы, Накаод...   \n",
       "...                                                   ...   \n",
       "115435  [За, день, до, боя, оба, боксёра, посетили, ве...   \n",
       "115436  [Согласно, боксёрским, традициям, ,, Али, как,...   \n",
       "115437  [Во, время, того, ,, как, рефери, напоминал, б...   \n",
       "115438  [Виктория, является, вторым, по, площади, остр...   \n",
       "115439  [Эвдикоты, -, монофилетическая, группа, ,, в, ...   \n",
       "\n",
       "                                                 ner_tags len_check  \\\n",
       "0                             [0, 0, 0, 5, 0, 0, 0, 0, 0]        ok   \n",
       "1        [0, 0, 0, 0, 0, 0, 0, 0, 0, 0, 0, 0, 0, 0, 1, 0]        ok   \n",
       "2                                                  [7, 0]        ok   \n",
       "3                                         [1, 2, 0, 0, 0]        ok   \n",
       "4       [0, 0, 0, 0, 5, 0, 0, 5, 0, 0, 5, 0, 5, 0, 0, ...        ok   \n",
       "...                                                   ...       ...   \n",
       "115435            [0, 0, 0, 0, 0, 0, 0, 0, 0, 0, 0, 1, 0]        ok   \n",
       "115436               [0, 0, 0, 0, 1, 0, 0, 0, 0, 0, 0, 0]        ok   \n",
       "115437  [0, 0, 0, 0, 0, 0, 0, 0, 0, 0, 0, 1, 0, 0, 0, ...        ok   \n",
       "115438                        [5, 0, 0, 0, 0, 0, 0, 5, 0]        ok   \n",
       "115439  [0, 0, 0, 0, 0, 0, 0, 0, 0, 0, 0, 0, 0, 0, 0, ...        ok   \n",
       "\n",
       "                                         augmented_tokens  \\\n",
       "0       [Детство, провёл, в, Надьсомбате, ,, с, 1860, ...   \n",
       "1       [На, самом, деле, 6, августа, был, датирован, ...   \n",
       "2                                             [фунтов, .]   \n",
       "3                          [Исидор, Севильский, (, ок, .]   \n",
       "4       [Самыми, известными, являются, курганы, Накаод...   \n",
       "...                                                   ...   \n",
       "115435  [За, день, до, боя, оба, боксёра, посетили, ве...   \n",
       "115436  [Согласно, боксёрским, традициям, ,, Али, как,...   \n",
       "115437  [Во, время, того, ,, как, рефери, напоминал, б...   \n",
       "115438  [Виктория, является, вторым, по, площади, остр...   \n",
       "115439  [Эвдикоты, -, монофилетическая, группа, ,, в, ...   \n",
       "\n",
       "                                       augmented_ner_tags  \n",
       "0                             [0, 0, 0, 5, 0, 0, 0, 0, 0]  \n",
       "1        [0, 0, 0, 0, 0, 0, 0, 0, 0, 0, 0, 0, 0, 0, 1, 0]  \n",
       "2                                                  [7, 0]  \n",
       "3                                         [1, 2, 0, 0, 0]  \n",
       "4       [0, 0, 0, 0, 5, 0, 0, 5, 0, 0, 5, 0, 5, 0, 0, ...  \n",
       "...                                                   ...  \n",
       "115435            [0, 0, 0, 0, 0, 0, 0, 0, 0, 0, 0, 1, 0]  \n",
       "115436               [0, 0, 0, 0, 1, 0, 0, 0, 0, 0, 0, 0]  \n",
       "115437  [0, 0, 0, 0, 0, 0, 0, 0, 0, 0, 0, 1, 0, 0, 0, ...  \n",
       "115438                        [5, 0, 0, 0, 0, 0, 0, 5, 0]  \n",
       "115439  [0, 0, 0, 0, 0, 0, 0, 0, 0, 0, 0, 0, 0, 0, 0, ...  \n",
       "\n",
       "[115440 rows x 5 columns]"
      ]
     },
     "execution_count": 9,
     "metadata": {},
     "output_type": "execute_result"
    }
   ],
   "source": [
    "df_main"
   ]
  },
  {
   "cell_type": "code",
   "execution_count": 10,
   "id": "bad777bb",
   "metadata": {},
   "outputs": [
    {
     "data": {
      "text/plain": [
       "ok    115440\n",
       "Name: len_check, dtype: int64"
      ]
     },
     "execution_count": 10,
     "metadata": {},
     "output_type": "execute_result"
    }
   ],
   "source": [
    "# All good at the start\n",
    "df_main['len_check'].value_counts()"
   ]
  },
  {
   "cell_type": "markdown",
   "id": "943b1e5c",
   "metadata": {},
   "source": [
    "#### Now lets start augmenting the data to simulate transcribed speech:\n",
    "- Changing random tokens to their lemma, to simulate transcribing a long, complicated word without the ending\n",
    "- Removing non-alphanumeric chars, removing shortened tokens for thousands and millions, lowercasing\n",
    "- If a token is a square or cube sign: $^{2}$ or $^{3}$, replace it with words\n",
    "- Removing punctuation tokens\n",
    "\n",
    "#### And of course, amend the ner_tokens accordingly\n"
   ]
  },
  {
   "cell_type": "code",
   "execution_count": 25,
   "id": "049bab5d",
   "metadata": {},
   "outputs": [],
   "source": [
    "# Takes a list of tokens, and changes 1 or 2 (based on number of tokens)\n",
    "# random tokens to its lemma, simulating transcribed speech system mistake,\n",
    "# with the following conditions:\n",
    "# -  original token should be at elast 7 characters long,\n",
    "#    since transcribed speech system will probably recognize short words more accurately\n",
    "# -  token should not start with uppercase, to aviod changing unique names\n",
    "# -  the original token and its lemma must not differ in more than 5 characters.\n",
    "#    since transcribed words should not be too different (assuming we arent using utter trash\n",
    "#    transcription system.)\n",
    "\n",
    "def simulate_mistakes(tokens):\n",
    "    suitable_for_augmentation = []\n",
    "    \n",
    "    @lru_cache(maxsize=512)\n",
    "    def get_lemma(word):\n",
    "        parsed_word = morph.parse(word)[0]\n",
    "        lemma = parsed_word.normal_form\n",
    "        return lemma\n",
    "    \n",
    "    def lemmatize_tokens(tokens, suitable_for_augmentation, k):\n",
    "        to_augment = random.sample(suitable_for_augmentation, k)\n",
    "        for i in to_augment:\n",
    "            tokens[i] = get_lemma(tokens[i])\n",
    "    \n",
    "    for i in range(len(tokens)):\n",
    "        word = tokens[i]\n",
    "        if len(word) > 6 and not word[0].isupper():\n",
    "            lemma = get_lemma(word)\n",
    "            if lemma != word:\n",
    "                difference_counter = abs(len(word) - len(lemma))\n",
    "                for index in range(min(len(word), len(lemma))):\n",
    "                    if word[index] != lemma[index]:\n",
    "                        difference_counter += 1\n",
    "\n",
    "                if difference_counter < 6:\n",
    "                        suitable_for_augmentation.append(i)\n",
    "                    \n",
    "    if suitable_for_augmentation:\n",
    "        if len(tokens) <=10:\n",
    "            lemmatize_tokens(tokens, suitable_for_augmentation, 1)\n",
    "        elif len(suitable_for_augmentation) > 3:\n",
    "            lemmatize_tokens(tokens, suitable_for_augmentation, 2)\n",
    "       \n",
    "    return tokens"
   ]
  },
  {
   "cell_type": "code",
   "execution_count": 12,
   "id": "c05aab65",
   "metadata": {},
   "outputs": [
    {
     "name": "stdout",
     "output_type": "stream",
     "text": [
      "INFO: Pandarallel will run on 16 workers.\n",
      "INFO: Pandarallel will use Memory file system to transfer data between the main process and workers.\n"
     ]
    }
   ],
   "source": [
    "from pandarallel import pandarallel\n",
    "\n",
    "pandarallel.initialize(progress_bar=True, nb_workers=16)"
   ]
  },
  {
   "cell_type": "code",
   "execution_count": 13,
   "id": "681eb5c3",
   "metadata": {},
   "outputs": [
    {
     "data": {
      "application/vnd.jupyter.widget-view+json": {
       "model_id": "e6f40fc9cca843f5aaca0d5af10a626e",
       "version_major": 2,
       "version_minor": 0
      },
      "text/plain": [
       "VBox(children=(HBox(children=(IntProgress(value=0, description='0.00%', max=7215), Label(value='0 / 7215'))), …"
      ]
     },
     "metadata": {},
     "output_type": "display_data"
    }
   ],
   "source": [
    "df_main['augmented_tokens'] = df_main['augmented_tokens'].parallel_apply(lambda x: simulate_mistakes(x))"
   ]
  },
  {
   "cell_type": "code",
   "execution_count": 26,
   "id": "8408d165",
   "metadata": {},
   "outputs": [],
   "source": [
    "# Function that splits tokens by hyphen (since hyphen is not going to be in trascribed speech)\n",
    "# and adjusts the ner_tags accordingly (iserting same tags, as the original token had)\n",
    "def split_hyphen(tokens, ner_tags):\n",
    "    \n",
    "    for i in range(len(tokens)):\n",
    "        if '-' in tokens[i] or '—' in tokens[i]:\n",
    "            new_tokens = tokens[i].split('-')\n",
    "            new_tokens = tokens[i].split('—')\n",
    "            tag_to_insert = ner_tags[i]\n",
    "            del ner_tags[i]\n",
    "            del tokens[i] \n",
    "            index = i\n",
    "            \n",
    "            for _ in range(len(new_tokens)):\n",
    "                ner_tags.insert(index, tag_to_insert)\n",
    "                tokens.insert(index, new_tokens[_])\n",
    "                index += 1 \n",
    "               \n",
    "    return tokens, ner_tags"
   ]
  },
  {
   "cell_type": "code",
   "execution_count": 27,
   "id": "84759beb",
   "metadata": {},
   "outputs": [
    {
     "data": {
      "application/vnd.jupyter.widget-view+json": {
       "model_id": "2787291e89ca4be8943582c5f6a7d8d8",
       "version_major": 2,
       "version_minor": 0
      },
      "text/plain": [
       "VBox(children=(HBox(children=(IntProgress(value=0, description='0.00%', max=7214), Label(value='0 / 7214'))), …"
      ]
     },
     "metadata": {},
     "output_type": "display_data"
    }
   ],
   "source": [
    "df_main[['augmented_tokens', 'augmented_ner_tags']] = df_main.parallel_apply(lambda row: pd.Series(split_hyphen(row['tokens'], row['ner_tags'])), axis=1)"
   ]
  },
  {
   "cell_type": "code",
   "execution_count": 28,
   "id": "5ca643b6",
   "metadata": {},
   "outputs": [
    {
     "data": {
      "text/plain": [
       "ok    115410\n",
       "Name: augmented_length_check, dtype: int64"
      ]
     },
     "execution_count": 28,
     "metadata": {},
     "output_type": "execute_result"
    }
   ],
   "source": [
    "#quick check if ner tags are changed accordingly\n",
    "df_main['augmented_length_check'] = df_main.apply(lambda row: length_check(row['augmented_tokens'], row['augmented_ner_tags']), axis=1)\n",
    "df_main['augmented_length_check'].value_counts()"
   ]
  },
  {
   "cell_type": "code",
   "execution_count": 29,
   "id": "03afd64e",
   "metadata": {},
   "outputs": [],
   "source": [
    "# Function to replace all non-alphanumric tokens with empty strings\n",
    "# as well as change short tokens for kilometer, meter, thousand and million with full ones\n",
    "# and also replace squaring and cubing signs with words\n",
    "def cubes_squares_punct_etc(tokens, ner_tags):\n",
    "    \n",
    "    def switch_ner_tags(ner_tags, i):\n",
    "        ner_tags[i-1], ner_tags[i] = ner_tags[i], ner_tags[i-1]\n",
    "        \n",
    "    def switch_tokens(tokens, i):\n",
    "        tokens[i-1], tokens[i] = tokens[i], tokens[i-1]\n",
    "        \n",
    "    def m_km(tokens, i):\n",
    "        if tokens[i-1] == 'километр':\n",
    "            switch_tokens(tokens, i)\n",
    "            switch_ner_tags(ner_tags, i)\n",
    "        elif tokens[i-1] == 'метр':\n",
    "            switch_tokens(tokens, i)\n",
    "            switch_ner_tags(ner_tags, i)\n",
    "    \n",
    "    square, cube, half, third = '²', '³', '½', '⅓'\n",
    "    thousand, million, billion = 'тыс', 'млн', 'млрд'\n",
    "    km, m = 'км', 'м'\n",
    "   \n",
    "    for i in range(len(tokens)):\n",
    "        tokens[i] = re.sub(r'[^\\w\\s]+', '', tokens[i])\n",
    "        if tokens[i] == half: tokens[i] = 'с половиной'\n",
    "        elif tokens[i] == third: tokens[i] = 'одна треть'\n",
    "        elif tokens[i] == thousand: tokens[i] = 'тысяч'\n",
    "        elif tokens[i] == million: tokens[i] = 'миллионов'\n",
    "        elif tokens[i] == billion: tokens[i] = 'миллиадров'\n",
    "        elif tokens[i] == km: tokens[i] = 'километр'\n",
    "        elif tokens[i] == m: tokens[i] = 'метр'\n",
    "        \n",
    "        elif tokens[i] == square:\n",
    "            tokens[i] = 'квадратный'\n",
    "            m_km(tokens, i)\n",
    "        \n",
    "        elif tokens[i] == cube:\n",
    "            tokens[i] = 'кубический'\n",
    "            m_km(tokens, i)\n",
    "            \n",
    "    return tokens, ner_tags"
   ]
  },
  {
   "cell_type": "code",
   "execution_count": 30,
   "id": "1a0ae2cf",
   "metadata": {},
   "outputs": [
    {
     "data": {
      "application/vnd.jupyter.widget-view+json": {
       "model_id": "926b093e605a4b88bbccfa4719153554",
       "version_major": 2,
       "version_minor": 0
      },
      "text/plain": [
       "VBox(children=(HBox(children=(IntProgress(value=0, description='0.00%', max=7214), Label(value='0 / 7214'))), …"
      ]
     },
     "metadata": {},
     "output_type": "display_data"
    }
   ],
   "source": [
    "df_main[['augmented_tokens', 'augmented_ner_tags']] = df_main.parallel_apply(lambda row: pd.Series(cubes_squares_punct_etc(row['augmented_tokens'], row['augmented_ner_tags'])), axis=1)"
   ]
  },
  {
   "cell_type": "code",
   "execution_count": 31,
   "id": "0869a8bc",
   "metadata": {},
   "outputs": [
    {
     "data": {
      "text/plain": [
       "ok    115410\n",
       "Name: augmented_length_check, dtype: int64"
      ]
     },
     "execution_count": 31,
     "metadata": {},
     "output_type": "execute_result"
    }
   ],
   "source": [
    "#check if we didnt break anything so far\n",
    "df_main['augmented_length_check'] = df_main.apply(lambda row: length_check(row['augmented_tokens'], row['augmented_ner_tags']), axis=1)\n",
    "df_main['augmented_length_check'].value_counts()"
   ]
  },
  {
   "cell_type": "code",
   "execution_count": 32,
   "id": "ccd32e26",
   "metadata": {},
   "outputs": [
    {
     "data": {
      "text/html": [
       "<div>\n",
       "<style scoped>\n",
       "    .dataframe tbody tr th:only-of-type {\n",
       "        vertical-align: middle;\n",
       "    }\n",
       "\n",
       "    .dataframe tbody tr th {\n",
       "        vertical-align: top;\n",
       "    }\n",
       "\n",
       "    .dataframe thead th {\n",
       "        text-align: right;\n",
       "    }\n",
       "</style>\n",
       "<table border=\"1\" class=\"dataframe\">\n",
       "  <thead>\n",
       "    <tr style=\"text-align: right;\">\n",
       "      <th></th>\n",
       "      <th>tokens</th>\n",
       "      <th>ner_tags</th>\n",
       "      <th>len_check</th>\n",
       "      <th>augmented_tokens</th>\n",
       "      <th>augmented_ner_tags</th>\n",
       "      <th>augmented_length_check</th>\n",
       "    </tr>\n",
       "  </thead>\n",
       "  <tbody>\n",
       "    <tr>\n",
       "      <th>0</th>\n",
       "      <td>[Детство, провёл, в, Надьсомбате, ,, с, 1860, ...</td>\n",
       "      <td>[0, 0, 0, 5, 0, 0, 0, 0, 0]</td>\n",
       "      <td>ok</td>\n",
       "      <td>[Детство, провёл, в, Надьсомбате, , с, 1860, г, ]</td>\n",
       "      <td>[0, 0, 0, 5, 0, 0, 0, 0, 0]</td>\n",
       "      <td>ok</td>\n",
       "    </tr>\n",
       "    <tr>\n",
       "      <th>1</th>\n",
       "      <td>[На, самом, деле, 6, августа, был, датирован, ...</td>\n",
       "      <td>[0, 0, 0, 0, 0, 0, 0, 0, 0, 0, 0, 0, 0, 0, 1, 0]</td>\n",
       "      <td>ok</td>\n",
       "      <td>[На, самом, деле, 6, августа, был, датирован, ...</td>\n",
       "      <td>[0, 0, 0, 0, 0, 0, 0, 0, 0, 0, 0, 0, 0, 0, 1, 0]</td>\n",
       "      <td>ok</td>\n",
       "    </tr>\n",
       "    <tr>\n",
       "      <th>2</th>\n",
       "      <td>[фунтов, .]</td>\n",
       "      <td>[7, 0]</td>\n",
       "      <td>ok</td>\n",
       "      <td>[фунтов, ]</td>\n",
       "      <td>[7, 0]</td>\n",
       "      <td>ok</td>\n",
       "    </tr>\n",
       "    <tr>\n",
       "      <th>3</th>\n",
       "      <td>[Исидор, Севильский, (, ок, .]</td>\n",
       "      <td>[1, 2, 0, 0, 0]</td>\n",
       "      <td>ok</td>\n",
       "      <td>[Исидор, Севильский, , ок, ]</td>\n",
       "      <td>[1, 2, 0, 0, 0]</td>\n",
       "      <td>ok</td>\n",
       "    </tr>\n",
       "    <tr>\n",
       "      <th>4</th>\n",
       "      <td>[Самыми, известными, являются, курганы, Накаод...</td>\n",
       "      <td>[0, 0, 0, 0, 5, 0, 0, 5, 0, 0, 5, 0, 5, 0, 0, ...</td>\n",
       "      <td>ok</td>\n",
       "      <td>[Самыми, известными, являются, курганы, Накаод...</td>\n",
       "      <td>[0, 0, 0, 0, 5, 0, 0, 5, 0, 0, 5, 0, 5, 0, 0, ...</td>\n",
       "      <td>ok</td>\n",
       "    </tr>\n",
       "    <tr>\n",
       "      <th>...</th>\n",
       "      <td>...</td>\n",
       "      <td>...</td>\n",
       "      <td>...</td>\n",
       "      <td>...</td>\n",
       "      <td>...</td>\n",
       "      <td>...</td>\n",
       "    </tr>\n",
       "    <tr>\n",
       "      <th>115405</th>\n",
       "      <td>[За, день, до, боя, оба, боксёра, посетили, ве...</td>\n",
       "      <td>[0, 0, 0, 0, 0, 0, 0, 0, 0, 0, 0, 1, 0]</td>\n",
       "      <td>ok</td>\n",
       "      <td>[За, день, до, боя, оба, боксёра, посетили, ве...</td>\n",
       "      <td>[0, 0, 0, 0, 0, 0, 0, 0, 0, 0, 0, 1, 0]</td>\n",
       "      <td>ok</td>\n",
       "    </tr>\n",
       "    <tr>\n",
       "      <th>115406</th>\n",
       "      <td>[Согласно, боксёрским, традициям, ,, Али, как,...</td>\n",
       "      <td>[0, 0, 0, 0, 1, 0, 0, 0, 0, 0, 0, 0]</td>\n",
       "      <td>ok</td>\n",
       "      <td>[Согласно, боксёрским, традициям, , Али, как, ...</td>\n",
       "      <td>[0, 0, 0, 0, 1, 0, 0, 0, 0, 0, 0, 0]</td>\n",
       "      <td>ok</td>\n",
       "    </tr>\n",
       "    <tr>\n",
       "      <th>115407</th>\n",
       "      <td>[Во, время, того, ,, как, рефери, напоминал, б...</td>\n",
       "      <td>[0, 0, 0, 0, 0, 0, 0, 0, 0, 0, 0, 1, 0, 0, 0, ...</td>\n",
       "      <td>ok</td>\n",
       "      <td>[Во, время, того, , как, рефери, напоминал, бо...</td>\n",
       "      <td>[0, 0, 0, 0, 0, 0, 0, 0, 0, 0, 0, 1, 0, 0, 0, ...</td>\n",
       "      <td>ok</td>\n",
       "    </tr>\n",
       "    <tr>\n",
       "      <th>115408</th>\n",
       "      <td>[Виктория, является, вторым, по, площади, остр...</td>\n",
       "      <td>[5, 0, 0, 0, 0, 0, 0, 5, 0]</td>\n",
       "      <td>ok</td>\n",
       "      <td>[Виктория, является, вторым, по, площади, остр...</td>\n",
       "      <td>[5, 0, 0, 0, 0, 0, 0, 5, 0]</td>\n",
       "      <td>ok</td>\n",
       "    </tr>\n",
       "    <tr>\n",
       "      <th>115409</th>\n",
       "      <td>[Эвдикоты, -, монофилетическая, группа, ,, в, ...</td>\n",
       "      <td>[0, 0, 0, 0, 0, 0, 0, 0, 0, 0, 0, 0, 0, 0, 0, ...</td>\n",
       "      <td>ok</td>\n",
       "      <td>[Эвдикоты, , монофилетическая, группа, , в, её...</td>\n",
       "      <td>[0, 0, 0, 0, 0, 0, 0, 0, 0, 0, 0, 0, 0, 0, 0, ...</td>\n",
       "      <td>ok</td>\n",
       "    </tr>\n",
       "  </tbody>\n",
       "</table>\n",
       "<p>115410 rows × 6 columns</p>\n",
       "</div>"
      ],
      "text/plain": [
       "                                                   tokens  \\\n",
       "0       [Детство, провёл, в, Надьсомбате, ,, с, 1860, ...   \n",
       "1       [На, самом, деле, 6, августа, был, датирован, ...   \n",
       "2                                             [фунтов, .]   \n",
       "3                          [Исидор, Севильский, (, ок, .]   \n",
       "4       [Самыми, известными, являются, курганы, Накаод...   \n",
       "...                                                   ...   \n",
       "115405  [За, день, до, боя, оба, боксёра, посетили, ве...   \n",
       "115406  [Согласно, боксёрским, традициям, ,, Али, как,...   \n",
       "115407  [Во, время, того, ,, как, рефери, напоминал, б...   \n",
       "115408  [Виктория, является, вторым, по, площади, остр...   \n",
       "115409  [Эвдикоты, -, монофилетическая, группа, ,, в, ...   \n",
       "\n",
       "                                                 ner_tags len_check  \\\n",
       "0                             [0, 0, 0, 5, 0, 0, 0, 0, 0]        ok   \n",
       "1        [0, 0, 0, 0, 0, 0, 0, 0, 0, 0, 0, 0, 0, 0, 1, 0]        ok   \n",
       "2                                                  [7, 0]        ok   \n",
       "3                                         [1, 2, 0, 0, 0]        ok   \n",
       "4       [0, 0, 0, 0, 5, 0, 0, 5, 0, 0, 5, 0, 5, 0, 0, ...        ok   \n",
       "...                                                   ...       ...   \n",
       "115405            [0, 0, 0, 0, 0, 0, 0, 0, 0, 0, 0, 1, 0]        ok   \n",
       "115406               [0, 0, 0, 0, 1, 0, 0, 0, 0, 0, 0, 0]        ok   \n",
       "115407  [0, 0, 0, 0, 0, 0, 0, 0, 0, 0, 0, 1, 0, 0, 0, ...        ok   \n",
       "115408                        [5, 0, 0, 0, 0, 0, 0, 5, 0]        ok   \n",
       "115409  [0, 0, 0, 0, 0, 0, 0, 0, 0, 0, 0, 0, 0, 0, 0, ...        ok   \n",
       "\n",
       "                                         augmented_tokens  \\\n",
       "0       [Детство, провёл, в, Надьсомбате, , с, 1860, г, ]   \n",
       "1       [На, самом, деле, 6, августа, был, датирован, ...   \n",
       "2                                              [фунтов, ]   \n",
       "3                            [Исидор, Севильский, , ок, ]   \n",
       "4       [Самыми, известными, являются, курганы, Накаод...   \n",
       "...                                                   ...   \n",
       "115405  [За, день, до, боя, оба, боксёра, посетили, ве...   \n",
       "115406  [Согласно, боксёрским, традициям, , Али, как, ...   \n",
       "115407  [Во, время, того, , как, рефери, напоминал, бо...   \n",
       "115408  [Виктория, является, вторым, по, площади, остр...   \n",
       "115409  [Эвдикоты, , монофилетическая, группа, , в, её...   \n",
       "\n",
       "                                       augmented_ner_tags  \\\n",
       "0                             [0, 0, 0, 5, 0, 0, 0, 0, 0]   \n",
       "1        [0, 0, 0, 0, 0, 0, 0, 0, 0, 0, 0, 0, 0, 0, 1, 0]   \n",
       "2                                                  [7, 0]   \n",
       "3                                         [1, 2, 0, 0, 0]   \n",
       "4       [0, 0, 0, 0, 5, 0, 0, 5, 0, 0, 5, 0, 5, 0, 0, ...   \n",
       "...                                                   ...   \n",
       "115405            [0, 0, 0, 0, 0, 0, 0, 0, 0, 0, 0, 1, 0]   \n",
       "115406               [0, 0, 0, 0, 1, 0, 0, 0, 0, 0, 0, 0]   \n",
       "115407  [0, 0, 0, 0, 0, 0, 0, 0, 0, 0, 0, 1, 0, 0, 0, ...   \n",
       "115408                        [5, 0, 0, 0, 0, 0, 0, 5, 0]   \n",
       "115409  [0, 0, 0, 0, 0, 0, 0, 0, 0, 0, 0, 0, 0, 0, 0, ...   \n",
       "\n",
       "       augmented_length_check  \n",
       "0                          ok  \n",
       "1                          ok  \n",
       "2                          ok  \n",
       "3                          ok  \n",
       "4                          ok  \n",
       "...                       ...  \n",
       "115405                     ok  \n",
       "115406                     ok  \n",
       "115407                     ok  \n",
       "115408                     ok  \n",
       "115409                     ok  \n",
       "\n",
       "[115410 rows x 6 columns]"
      ]
     },
     "execution_count": 32,
     "metadata": {},
     "output_type": "execute_result"
    }
   ],
   "source": [
    "df_main"
   ]
  },
  {
   "cell_type": "code",
   "execution_count": 33,
   "id": "7f6e55ab",
   "metadata": {},
   "outputs": [],
   "source": [
    "def filter_non_words(tokens, ner_tags):\n",
    "    \n",
    "    # Remove 'г's, using that just in case there are multiple occurences in one row\n",
    "    if 'г' in tokens:\n",
    "        g_indexes = [index for index, value in enumerate(tokens) if value == 'г']\n",
    "        tokens = [value for index, value in enumerate(tokens) if index not in g_indexes]\n",
    "        \n",
    "    filtered_tags = [tag if token.isalnum() else np.nan for token, tag in zip(tokens, ner_tags)]\n",
    "    filtered_tokens = [token for token in tokens if token != '' ]\n",
    "    return filtered_tokens, [tag for tag in filtered_tags if pd.notnull(tag)]"
   ]
  },
  {
   "cell_type": "code",
   "execution_count": 34,
   "id": "a448e4f3",
   "metadata": {},
   "outputs": [
    {
     "data": {
      "application/vnd.jupyter.widget-view+json": {
       "model_id": "1afc35e586b64bfc80b65eed8c6eb88f",
       "version_major": 2,
       "version_minor": 0
      },
      "text/plain": [
       "VBox(children=(HBox(children=(IntProgress(value=0, description='0.00%', max=7214), Label(value='0 / 7214'))), …"
      ]
     },
     "metadata": {},
     "output_type": "display_data"
    }
   ],
   "source": [
    "df_main[['augmented_tokens', 'augmented_ner_tags']] = df_main.parallel_apply(lambda row: pd.Series(filter_non_words(row['augmented_tokens'], row['augmented_ner_tags'])), axis=1)"
   ]
  },
  {
   "cell_type": "code",
   "execution_count": 35,
   "id": "52a335d4",
   "metadata": {},
   "outputs": [
    {
     "data": {
      "text/plain": [
       "ok    115410\n",
       "Name: augmented_length_check, dtype: int64"
      ]
     },
     "execution_count": 35,
     "metadata": {},
     "output_type": "execute_result"
    }
   ],
   "source": [
    "df_main['augmented_length_check'] = df_main.apply(lambda row: length_check(row['augmented_tokens'], row['augmented_ner_tags']), axis=1)\n",
    "df_main['augmented_length_check'].value_counts()"
   ]
  },
  {
   "cell_type": "code",
   "execution_count": 36,
   "id": "94beee67",
   "metadata": {},
   "outputs": [],
   "source": [
    "df_main.drop(df_main[df_main['augmented_length_check'] == 'WRONG'].index, inplace=True)\n",
    "df_main.reset_index(drop=True, inplace=True)"
   ]
  },
  {
   "cell_type": "code",
   "execution_count": 37,
   "id": "fe1a34f3",
   "metadata": {},
   "outputs": [
    {
     "data": {
      "text/html": [
       "<div>\n",
       "<style scoped>\n",
       "    .dataframe tbody tr th:only-of-type {\n",
       "        vertical-align: middle;\n",
       "    }\n",
       "\n",
       "    .dataframe tbody tr th {\n",
       "        vertical-align: top;\n",
       "    }\n",
       "\n",
       "    .dataframe thead th {\n",
       "        text-align: right;\n",
       "    }\n",
       "</style>\n",
       "<table border=\"1\" class=\"dataframe\">\n",
       "  <thead>\n",
       "    <tr style=\"text-align: right;\">\n",
       "      <th></th>\n",
       "      <th>tokens</th>\n",
       "      <th>ner_tags</th>\n",
       "      <th>len_check</th>\n",
       "      <th>augmented_tokens</th>\n",
       "      <th>augmented_ner_tags</th>\n",
       "      <th>augmented_length_check</th>\n",
       "    </tr>\n",
       "  </thead>\n",
       "  <tbody>\n",
       "    <tr>\n",
       "      <th>0</th>\n",
       "      <td>[Детство, провёл, в, Надьсомбате, ,, с, 1860, ...</td>\n",
       "      <td>[0, 0, 0, 5, 0, 0, 0, 0, 0]</td>\n",
       "      <td>ok</td>\n",
       "      <td>[Детство, провёл, в, Надьсомбате, с, 1860]</td>\n",
       "      <td>[0, 0, 0, 5, 0, 0]</td>\n",
       "      <td>ok</td>\n",
       "    </tr>\n",
       "    <tr>\n",
       "      <th>1</th>\n",
       "      <td>[На, самом, деле, 6, августа, был, датирован, ...</td>\n",
       "      <td>[0, 0, 0, 0, 0, 0, 0, 0, 0, 0, 0, 0, 0, 0, 1, 0]</td>\n",
       "      <td>ok</td>\n",
       "      <td>[На, самом, деле, 6, августа, был, датирован, ...</td>\n",
       "      <td>[0, 0, 0, 0, 0, 0, 0, 0, 0, 0, 0, 0, 0, 1]</td>\n",
       "      <td>ok</td>\n",
       "    </tr>\n",
       "    <tr>\n",
       "      <th>2</th>\n",
       "      <td>[фунтов, .]</td>\n",
       "      <td>[7, 0]</td>\n",
       "      <td>ok</td>\n",
       "      <td>[фунтов]</td>\n",
       "      <td>[7]</td>\n",
       "      <td>ok</td>\n",
       "    </tr>\n",
       "    <tr>\n",
       "      <th>3</th>\n",
       "      <td>[Исидор, Севильский, (, ок, .]</td>\n",
       "      <td>[1, 2, 0, 0, 0]</td>\n",
       "      <td>ok</td>\n",
       "      <td>[Исидор, Севильский, ок]</td>\n",
       "      <td>[1, 2, 0]</td>\n",
       "      <td>ok</td>\n",
       "    </tr>\n",
       "    <tr>\n",
       "      <th>4</th>\n",
       "      <td>[Самыми, известными, являются, курганы, Накаод...</td>\n",
       "      <td>[0, 0, 0, 0, 5, 0, 0, 5, 0, 0, 5, 0, 5, 0, 0, ...</td>\n",
       "      <td>ok</td>\n",
       "      <td>[Самыми, известными, являются, курганы, Накаод...</td>\n",
       "      <td>[0, 0, 0, 0, 5, 0, 0, 5, 0, 5, 0, 5, 0, 0, 5]</td>\n",
       "      <td>ok</td>\n",
       "    </tr>\n",
       "    <tr>\n",
       "      <th>...</th>\n",
       "      <td>...</td>\n",
       "      <td>...</td>\n",
       "      <td>...</td>\n",
       "      <td>...</td>\n",
       "      <td>...</td>\n",
       "      <td>...</td>\n",
       "    </tr>\n",
       "    <tr>\n",
       "      <th>115405</th>\n",
       "      <td>[За, день, до, боя, оба, боксёра, посетили, ве...</td>\n",
       "      <td>[0, 0, 0, 0, 0, 0, 0, 0, 0, 0, 0, 1, 0]</td>\n",
       "      <td>ok</td>\n",
       "      <td>[За, день, до, боя, оба, боксёра, посетили, ве...</td>\n",
       "      <td>[0, 0, 0, 0, 0, 0, 0, 0, 0, 0, 1]</td>\n",
       "      <td>ok</td>\n",
       "    </tr>\n",
       "    <tr>\n",
       "      <th>115406</th>\n",
       "      <td>[Согласно, боксёрским, традициям, ,, Али, как,...</td>\n",
       "      <td>[0, 0, 0, 0, 1, 0, 0, 0, 0, 0, 0, 0]</td>\n",
       "      <td>ok</td>\n",
       "      <td>[Согласно, боксёрским, традициям, Али, как, пр...</td>\n",
       "      <td>[0, 0, 0, 1, 0, 0, 0, 0, 0, 0]</td>\n",
       "      <td>ok</td>\n",
       "    </tr>\n",
       "    <tr>\n",
       "      <th>115407</th>\n",
       "      <td>[Во, время, того, ,, как, рефери, напоминал, б...</td>\n",
       "      <td>[0, 0, 0, 0, 0, 0, 0, 0, 0, 0, 0, 1, 0, 0, 0, ...</td>\n",
       "      <td>ok</td>\n",
       "      <td>[Во, время, того, как, рефери, напоминал, бокс...</td>\n",
       "      <td>[0, 0, 0, 0, 0, 0, 0, 0, 0, 1, 0, 0, 0, 0, 1, ...</td>\n",
       "      <td>ok</td>\n",
       "    </tr>\n",
       "    <tr>\n",
       "      <th>115408</th>\n",
       "      <td>[Виктория, является, вторым, по, площади, остр...</td>\n",
       "      <td>[5, 0, 0, 0, 0, 0, 0, 5, 0]</td>\n",
       "      <td>ok</td>\n",
       "      <td>[Виктория, является, вторым, по, площади, остр...</td>\n",
       "      <td>[5, 0, 0, 0, 0, 0, 0, 5]</td>\n",
       "      <td>ok</td>\n",
       "    </tr>\n",
       "    <tr>\n",
       "      <th>115409</th>\n",
       "      <td>[Эвдикоты, -, монофилетическая, группа, ,, в, ...</td>\n",
       "      <td>[0, 0, 0, 0, 0, 0, 0, 0, 0, 0, 0, 0, 0, 0, 0, ...</td>\n",
       "      <td>ok</td>\n",
       "      <td>[Эвдикоты, монофилетическая, группа, в, её, со...</td>\n",
       "      <td>[0, 0, 0, 0, 0, 0, 0, 0, 0, 0, 0, 0, 0, 0, 0, 5]</td>\n",
       "      <td>ok</td>\n",
       "    </tr>\n",
       "  </tbody>\n",
       "</table>\n",
       "<p>115410 rows × 6 columns</p>\n",
       "</div>"
      ],
      "text/plain": [
       "                                                   tokens  \\\n",
       "0       [Детство, провёл, в, Надьсомбате, ,, с, 1860, ...   \n",
       "1       [На, самом, деле, 6, августа, был, датирован, ...   \n",
       "2                                             [фунтов, .]   \n",
       "3                          [Исидор, Севильский, (, ок, .]   \n",
       "4       [Самыми, известными, являются, курганы, Накаод...   \n",
       "...                                                   ...   \n",
       "115405  [За, день, до, боя, оба, боксёра, посетили, ве...   \n",
       "115406  [Согласно, боксёрским, традициям, ,, Али, как,...   \n",
       "115407  [Во, время, того, ,, как, рефери, напоминал, б...   \n",
       "115408  [Виктория, является, вторым, по, площади, остр...   \n",
       "115409  [Эвдикоты, -, монофилетическая, группа, ,, в, ...   \n",
       "\n",
       "                                                 ner_tags len_check  \\\n",
       "0                             [0, 0, 0, 5, 0, 0, 0, 0, 0]        ok   \n",
       "1        [0, 0, 0, 0, 0, 0, 0, 0, 0, 0, 0, 0, 0, 0, 1, 0]        ok   \n",
       "2                                                  [7, 0]        ok   \n",
       "3                                         [1, 2, 0, 0, 0]        ok   \n",
       "4       [0, 0, 0, 0, 5, 0, 0, 5, 0, 0, 5, 0, 5, 0, 0, ...        ok   \n",
       "...                                                   ...       ...   \n",
       "115405            [0, 0, 0, 0, 0, 0, 0, 0, 0, 0, 0, 1, 0]        ok   \n",
       "115406               [0, 0, 0, 0, 1, 0, 0, 0, 0, 0, 0, 0]        ok   \n",
       "115407  [0, 0, 0, 0, 0, 0, 0, 0, 0, 0, 0, 1, 0, 0, 0, ...        ok   \n",
       "115408                        [5, 0, 0, 0, 0, 0, 0, 5, 0]        ok   \n",
       "115409  [0, 0, 0, 0, 0, 0, 0, 0, 0, 0, 0, 0, 0, 0, 0, ...        ok   \n",
       "\n",
       "                                         augmented_tokens  \\\n",
       "0              [Детство, провёл, в, Надьсомбате, с, 1860]   \n",
       "1       [На, самом, деле, 6, августа, был, датирован, ...   \n",
       "2                                                [фунтов]   \n",
       "3                                [Исидор, Севильский, ок]   \n",
       "4       [Самыми, известными, являются, курганы, Накаод...   \n",
       "...                                                   ...   \n",
       "115405  [За, день, до, боя, оба, боксёра, посетили, ве...   \n",
       "115406  [Согласно, боксёрским, традициям, Али, как, пр...   \n",
       "115407  [Во, время, того, как, рефери, напоминал, бокс...   \n",
       "115408  [Виктория, является, вторым, по, площади, остр...   \n",
       "115409  [Эвдикоты, монофилетическая, группа, в, её, со...   \n",
       "\n",
       "                                       augmented_ner_tags  \\\n",
       "0                                      [0, 0, 0, 5, 0, 0]   \n",
       "1              [0, 0, 0, 0, 0, 0, 0, 0, 0, 0, 0, 0, 0, 1]   \n",
       "2                                                     [7]   \n",
       "3                                               [1, 2, 0]   \n",
       "4           [0, 0, 0, 0, 5, 0, 0, 5, 0, 5, 0, 5, 0, 0, 5]   \n",
       "...                                                   ...   \n",
       "115405                  [0, 0, 0, 0, 0, 0, 0, 0, 0, 0, 1]   \n",
       "115406                     [0, 0, 0, 1, 0, 0, 0, 0, 0, 0]   \n",
       "115407  [0, 0, 0, 0, 0, 0, 0, 0, 0, 1, 0, 0, 0, 0, 1, ...   \n",
       "115408                           [5, 0, 0, 0, 0, 0, 0, 5]   \n",
       "115409   [0, 0, 0, 0, 0, 0, 0, 0, 0, 0, 0, 0, 0, 0, 0, 5]   \n",
       "\n",
       "       augmented_length_check  \n",
       "0                          ok  \n",
       "1                          ok  \n",
       "2                          ok  \n",
       "3                          ok  \n",
       "4                          ok  \n",
       "...                       ...  \n",
       "115405                     ok  \n",
       "115406                     ok  \n",
       "115407                     ok  \n",
       "115408                     ok  \n",
       "115409                     ok  \n",
       "\n",
       "[115410 rows x 6 columns]"
      ]
     },
     "execution_count": 37,
     "metadata": {},
     "output_type": "execute_result"
    }
   ],
   "source": [
    "df_main"
   ]
  },
  {
   "cell_type": "code",
   "execution_count": 38,
   "id": "54d5fb8a",
   "metadata": {},
   "outputs": [],
   "source": [
    "def replace_numerical_with_words(tokens, ner_tags):\n",
    "    adjusted_ner_tags = []\n",
    "    \n",
    "    for i, token in enumerate(tokens):\n",
    "        if token.isnumeric():\n",
    "            index = i\n",
    "            new_tokens = num2words(int(token), lang='ru').split()\n",
    "            tag_to_insert = ner_tags[i]\n",
    "            count = len(new_tokens)\n",
    "            del ner_tags[i]\n",
    "            del tokens[i] \n",
    "            for _ in range(len(new_tokens)):\n",
    "                ner_tags.insert(index, tag_to_insert)\n",
    "                tokens.insert(index, new_tokens[_])\n",
    "                index += 1 \n",
    "                \n",
    "    return tokens, ner_tags"
   ]
  },
  {
   "cell_type": "code",
   "execution_count": 39,
   "id": "3fe4584b",
   "metadata": {},
   "outputs": [],
   "source": [
    "def look_for_trash(trash):\n",
    "    for i in range(len(df_main)):\n",
    "        if trash in df_main['augmented_tokens'][i]:\n",
    "            print(i)\n",
    "            print(df_main['augmented_tokens'][i])"
   ]
  },
  {
   "cell_type": "code",
   "execution_count": 40,
   "id": "25868b93",
   "metadata": {},
   "outputs": [
    {
     "name": "stdout",
     "output_type": "stream",
     "text": [
      "91574\n",
      "['Например', 'для', 'получения', 'удовлетворительного', 'результата', 'необходимо', 'добавить', 'вещества', 'вызывающие', 'усиление', 'реакции', 'или', 'прибавить', 'флюсы', 'такие', 'как', 'плавиковый', 'шпат', 'CaF', '₂', 'или', 'сплавить', 'восстановляемые', 'окислы', 'с', 'энергично', 'действующими', 'металлами', 'или', 'как', 'при', 'восстановлении', 'хрома', 'прибавлять', 'хромовокислые', 'соли']\n"
     ]
    }
   ],
   "source": [
    "trash_2 = '₂'\n",
    "look_for_trash(trash_2)"
   ]
  },
  {
   "cell_type": "code",
   "execution_count": 41,
   "id": "29e2b2eb",
   "metadata": {},
   "outputs": [
    {
     "data": {
      "text/plain": [
       "19"
      ]
     },
     "execution_count": 41,
     "metadata": {},
     "output_type": "execute_result"
    }
   ],
   "source": [
    "df_main['augmented_tokens'][91574].index(trash_2)"
   ]
  },
  {
   "cell_type": "code",
   "execution_count": 42,
   "id": "36739dbb",
   "metadata": {},
   "outputs": [],
   "source": [
    "del df_main['augmented_tokens'][91574][19]\n",
    "del df_main['augmented_ner_tags'][91574][19]"
   ]
  },
  {
   "cell_type": "code",
   "execution_count": 43,
   "id": "64a3cf6c",
   "metadata": {},
   "outputs": [
    {
     "name": "stdout",
     "output_type": "stream",
     "text": [
      "69622\n",
      "['Для', 'олеума', 'минимальное', 'ρ', 'при', 'концентрации', '10', 'SO', '₃']\n"
     ]
    }
   ],
   "source": [
    "trash_1 = '₃'\n",
    "look_for_trash(trash_1)"
   ]
  },
  {
   "cell_type": "code",
   "execution_count": 44,
   "id": "01159614",
   "metadata": {},
   "outputs": [
    {
     "data": {
      "text/plain": [
       "['Для', 'олеума', 'минимальное', 'ρ', 'при', 'концентрации', '10', 'SO', '₃']"
      ]
     },
     "execution_count": 44,
     "metadata": {},
     "output_type": "execute_result"
    }
   ],
   "source": [
    "df_main['augmented_tokens'][69622]"
   ]
  },
  {
   "cell_type": "code",
   "execution_count": 45,
   "id": "ea57f510",
   "metadata": {},
   "outputs": [],
   "source": [
    "del df_main['augmented_tokens'][69622][8]\n",
    "del df_main['augmented_ner_tags'][69622][8]"
   ]
  },
  {
   "cell_type": "code",
   "execution_count": 46,
   "id": "9a8b7082",
   "metadata": {},
   "outputs": [
    {
     "name": "stdout",
     "output_type": "stream",
     "text": [
      "114169\n",
      "['Кроме', 'того', 'в', 'составе', 'батальона', 'присутствовало', 'медицинское', 'подразделение', 'в', 'составе', '11', 'человек', 'имевшее', 'бронетранспортёр', 'M3', 'в', 'санитарном', 'варианте', 'и', '¼', 'тонный', 'автомобиль', 'повышенной', 'проходимости', 'с', '1тонным', 'прицепом']\n"
     ]
    }
   ],
   "source": [
    "trash_3 = '¼'\n",
    "look_for_trash(trash_3)"
   ]
  },
  {
   "cell_type": "code",
   "execution_count": 47,
   "id": "628a79af",
   "metadata": {},
   "outputs": [],
   "source": [
    "df_main['augmented_tokens'][114169][19] = 'четверть'"
   ]
  },
  {
   "cell_type": "code",
   "execution_count": 48,
   "id": "ed74a6ce",
   "metadata": {},
   "outputs": [
    {
     "name": "stdout",
     "output_type": "stream",
     "text": [
      "13808\n",
      "['Наси', 'самоназвание', '¹', 'na', 'квадратный', 'khi', 'народ', 'в', 'Китае', 'населяющий', 'предгорья', 'Гималаев']\n"
     ]
    }
   ],
   "source": [
    "trash_4 = '¹'\n",
    "look_for_trash(trash_4)"
   ]
  },
  {
   "cell_type": "code",
   "execution_count": 49,
   "id": "435632e0",
   "metadata": {},
   "outputs": [],
   "source": [
    "del df_main['augmented_tokens'][13808][2]\n",
    "del df_main['augmented_ner_tags'][13808][2]"
   ]
  },
  {
   "cell_type": "code",
   "execution_count": 50,
   "id": "b79fad63",
   "metadata": {},
   "outputs": [
    {
     "data": {
      "application/vnd.jupyter.widget-view+json": {
       "model_id": "86149d29feda488d8cfaea1bb700b49f",
       "version_major": 2,
       "version_minor": 0
      },
      "text/plain": [
       "VBox(children=(HBox(children=(IntProgress(value=0, description='0.00%', max=7214), Label(value='0 / 7214'))), …"
      ]
     },
     "metadata": {},
     "output_type": "display_data"
    }
   ],
   "source": [
    "df_main[['augmented_tokens', 'augmented_ner_tags']] = df_main.parallel_apply(lambda row: pd.Series(replace_numerical_with_words(row['augmented_tokens'], row['augmented_ner_tags'])), axis=1)"
   ]
  },
  {
   "cell_type": "code",
   "execution_count": 51,
   "id": "5937902d",
   "metadata": {},
   "outputs": [
    {
     "data": {
      "text/html": [
       "<div>\n",
       "<style scoped>\n",
       "    .dataframe tbody tr th:only-of-type {\n",
       "        vertical-align: middle;\n",
       "    }\n",
       "\n",
       "    .dataframe tbody tr th {\n",
       "        vertical-align: top;\n",
       "    }\n",
       "\n",
       "    .dataframe thead th {\n",
       "        text-align: right;\n",
       "    }\n",
       "</style>\n",
       "<table border=\"1\" class=\"dataframe\">\n",
       "  <thead>\n",
       "    <tr style=\"text-align: right;\">\n",
       "      <th></th>\n",
       "      <th>tokens</th>\n",
       "      <th>ner_tags</th>\n",
       "      <th>len_check</th>\n",
       "      <th>augmented_tokens</th>\n",
       "      <th>augmented_ner_tags</th>\n",
       "      <th>augmented_length_check</th>\n",
       "    </tr>\n",
       "  </thead>\n",
       "  <tbody>\n",
       "    <tr>\n",
       "      <th>0</th>\n",
       "      <td>[Детство, провёл, в, Надьсомбате, ,, с, 1860, ...</td>\n",
       "      <td>[0, 0, 0, 5, 0, 0, 0, 0, 0]</td>\n",
       "      <td>ok</td>\n",
       "      <td>[Детство, провёл, в, Надьсомбате, с, одна, тыс...</td>\n",
       "      <td>[0, 0, 0, 5, 0, 0, 0, 0, 0]</td>\n",
       "      <td>ok</td>\n",
       "    </tr>\n",
       "    <tr>\n",
       "      <th>1</th>\n",
       "      <td>[На, самом, деле, 6, августа, был, датирован, ...</td>\n",
       "      <td>[0, 0, 0, 0, 0, 0, 0, 0, 0, 0, 0, 0, 0, 0, 1, 0]</td>\n",
       "      <td>ok</td>\n",
       "      <td>[На, самом, деле, шесть, августа, был, датиров...</td>\n",
       "      <td>[0, 0, 0, 0, 0, 0, 0, 0, 0, 0, 0, 0, 0, 1]</td>\n",
       "      <td>ok</td>\n",
       "    </tr>\n",
       "    <tr>\n",
       "      <th>2</th>\n",
       "      <td>[фунтов, .]</td>\n",
       "      <td>[7, 0]</td>\n",
       "      <td>ok</td>\n",
       "      <td>[фунтов]</td>\n",
       "      <td>[7]</td>\n",
       "      <td>ok</td>\n",
       "    </tr>\n",
       "    <tr>\n",
       "      <th>3</th>\n",
       "      <td>[Исидор, Севильский, (, ок, .]</td>\n",
       "      <td>[1, 2, 0, 0, 0]</td>\n",
       "      <td>ok</td>\n",
       "      <td>[Исидор, Севильский, ок]</td>\n",
       "      <td>[1, 2, 0]</td>\n",
       "      <td>ok</td>\n",
       "    </tr>\n",
       "    <tr>\n",
       "      <th>4</th>\n",
       "      <td>[Самыми, известными, являются, курганы, Накаод...</td>\n",
       "      <td>[0, 0, 0, 0, 5, 0, 0, 5, 0, 0, 5, 0, 5, 0, 0, ...</td>\n",
       "      <td>ok</td>\n",
       "      <td>[Самыми, известными, являются, курганы, Накаод...</td>\n",
       "      <td>[0, 0, 0, 0, 5, 0, 0, 5, 0, 5, 0, 5, 0, 0, 5]</td>\n",
       "      <td>ok</td>\n",
       "    </tr>\n",
       "    <tr>\n",
       "      <th>...</th>\n",
       "      <td>...</td>\n",
       "      <td>...</td>\n",
       "      <td>...</td>\n",
       "      <td>...</td>\n",
       "      <td>...</td>\n",
       "      <td>...</td>\n",
       "    </tr>\n",
       "    <tr>\n",
       "      <th>115405</th>\n",
       "      <td>[За, день, до, боя, оба, боксёра, посетили, ве...</td>\n",
       "      <td>[0, 0, 0, 0, 0, 0, 0, 0, 0, 0, 0, 1, 0]</td>\n",
       "      <td>ok</td>\n",
       "      <td>[За, день, до, боя, оба, боксёра, посетили, ве...</td>\n",
       "      <td>[0, 0, 0, 0, 0, 0, 0, 0, 0, 0, 1]</td>\n",
       "      <td>ok</td>\n",
       "    </tr>\n",
       "    <tr>\n",
       "      <th>115406</th>\n",
       "      <td>[Согласно, боксёрским, традициям, ,, Али, как,...</td>\n",
       "      <td>[0, 0, 0, 0, 1, 0, 0, 0, 0, 0, 0, 0]</td>\n",
       "      <td>ok</td>\n",
       "      <td>[Согласно, боксёрским, традициям, Али, как, пр...</td>\n",
       "      <td>[0, 0, 0, 1, 0, 0, 0, 0, 0, 0]</td>\n",
       "      <td>ok</td>\n",
       "    </tr>\n",
       "    <tr>\n",
       "      <th>115407</th>\n",
       "      <td>[Во, время, того, ,, как, рефери, напоминал, б...</td>\n",
       "      <td>[0, 0, 0, 0, 0, 0, 0, 0, 0, 0, 0, 1, 0, 0, 0, ...</td>\n",
       "      <td>ok</td>\n",
       "      <td>[Во, время, того, как, рефери, напоминал, бокс...</td>\n",
       "      <td>[0, 0, 0, 0, 0, 0, 0, 0, 0, 1, 0, 0, 0, 0, 1, ...</td>\n",
       "      <td>ok</td>\n",
       "    </tr>\n",
       "    <tr>\n",
       "      <th>115408</th>\n",
       "      <td>[Виктория, является, вторым, по, площади, остр...</td>\n",
       "      <td>[5, 0, 0, 0, 0, 0, 0, 5, 0]</td>\n",
       "      <td>ok</td>\n",
       "      <td>[Виктория, является, вторым, по, площади, остр...</td>\n",
       "      <td>[5, 0, 0, 0, 0, 0, 0, 5]</td>\n",
       "      <td>ok</td>\n",
       "    </tr>\n",
       "    <tr>\n",
       "      <th>115409</th>\n",
       "      <td>[Эвдикоты, -, монофилетическая, группа, ,, в, ...</td>\n",
       "      <td>[0, 0, 0, 0, 0, 0, 0, 0, 0, 0, 0, 0, 0, 0, 0, ...</td>\n",
       "      <td>ok</td>\n",
       "      <td>[Эвдикоты, монофилетическая, группа, в, её, со...</td>\n",
       "      <td>[0, 0, 0, 0, 0, 0, 0, 0, 0, 0, 0, 0, 0, 0, 0, 5]</td>\n",
       "      <td>ok</td>\n",
       "    </tr>\n",
       "  </tbody>\n",
       "</table>\n",
       "<p>115410 rows × 6 columns</p>\n",
       "</div>"
      ],
      "text/plain": [
       "                                                   tokens  \\\n",
       "0       [Детство, провёл, в, Надьсомбате, ,, с, 1860, ...   \n",
       "1       [На, самом, деле, 6, августа, был, датирован, ...   \n",
       "2                                             [фунтов, .]   \n",
       "3                          [Исидор, Севильский, (, ок, .]   \n",
       "4       [Самыми, известными, являются, курганы, Накаод...   \n",
       "...                                                   ...   \n",
       "115405  [За, день, до, боя, оба, боксёра, посетили, ве...   \n",
       "115406  [Согласно, боксёрским, традициям, ,, Али, как,...   \n",
       "115407  [Во, время, того, ,, как, рефери, напоминал, б...   \n",
       "115408  [Виктория, является, вторым, по, площади, остр...   \n",
       "115409  [Эвдикоты, -, монофилетическая, группа, ,, в, ...   \n",
       "\n",
       "                                                 ner_tags len_check  \\\n",
       "0                             [0, 0, 0, 5, 0, 0, 0, 0, 0]        ok   \n",
       "1        [0, 0, 0, 0, 0, 0, 0, 0, 0, 0, 0, 0, 0, 0, 1, 0]        ok   \n",
       "2                                                  [7, 0]        ok   \n",
       "3                                         [1, 2, 0, 0, 0]        ok   \n",
       "4       [0, 0, 0, 0, 5, 0, 0, 5, 0, 0, 5, 0, 5, 0, 0, ...        ok   \n",
       "...                                                   ...       ...   \n",
       "115405            [0, 0, 0, 0, 0, 0, 0, 0, 0, 0, 0, 1, 0]        ok   \n",
       "115406               [0, 0, 0, 0, 1, 0, 0, 0, 0, 0, 0, 0]        ok   \n",
       "115407  [0, 0, 0, 0, 0, 0, 0, 0, 0, 0, 0, 1, 0, 0, 0, ...        ok   \n",
       "115408                        [5, 0, 0, 0, 0, 0, 0, 5, 0]        ok   \n",
       "115409  [0, 0, 0, 0, 0, 0, 0, 0, 0, 0, 0, 0, 0, 0, 0, ...        ok   \n",
       "\n",
       "                                         augmented_tokens  \\\n",
       "0       [Детство, провёл, в, Надьсомбате, с, одна, тыс...   \n",
       "1       [На, самом, деле, шесть, августа, был, датиров...   \n",
       "2                                                [фунтов]   \n",
       "3                                [Исидор, Севильский, ок]   \n",
       "4       [Самыми, известными, являются, курганы, Накаод...   \n",
       "...                                                   ...   \n",
       "115405  [За, день, до, боя, оба, боксёра, посетили, ве...   \n",
       "115406  [Согласно, боксёрским, традициям, Али, как, пр...   \n",
       "115407  [Во, время, того, как, рефери, напоминал, бокс...   \n",
       "115408  [Виктория, является, вторым, по, площади, остр...   \n",
       "115409  [Эвдикоты, монофилетическая, группа, в, её, со...   \n",
       "\n",
       "                                       augmented_ner_tags  \\\n",
       "0                             [0, 0, 0, 5, 0, 0, 0, 0, 0]   \n",
       "1              [0, 0, 0, 0, 0, 0, 0, 0, 0, 0, 0, 0, 0, 1]   \n",
       "2                                                     [7]   \n",
       "3                                               [1, 2, 0]   \n",
       "4           [0, 0, 0, 0, 5, 0, 0, 5, 0, 5, 0, 5, 0, 0, 5]   \n",
       "...                                                   ...   \n",
       "115405                  [0, 0, 0, 0, 0, 0, 0, 0, 0, 0, 1]   \n",
       "115406                     [0, 0, 0, 1, 0, 0, 0, 0, 0, 0]   \n",
       "115407  [0, 0, 0, 0, 0, 0, 0, 0, 0, 1, 0, 0, 0, 0, 1, ...   \n",
       "115408                           [5, 0, 0, 0, 0, 0, 0, 5]   \n",
       "115409   [0, 0, 0, 0, 0, 0, 0, 0, 0, 0, 0, 0, 0, 0, 0, 5]   \n",
       "\n",
       "       augmented_length_check  \n",
       "0                          ok  \n",
       "1                          ok  \n",
       "2                          ok  \n",
       "3                          ok  \n",
       "4                          ok  \n",
       "...                       ...  \n",
       "115405                     ok  \n",
       "115406                     ok  \n",
       "115407                     ok  \n",
       "115408                     ok  \n",
       "115409                     ok  \n",
       "\n",
       "[115410 rows x 6 columns]"
      ]
     },
     "execution_count": 51,
     "metadata": {},
     "output_type": "execute_result"
    }
   ],
   "source": [
    "df_main"
   ]
  },
  {
   "cell_type": "code",
   "execution_count": 52,
   "id": "41c7edef",
   "metadata": {},
   "outputs": [
    {
     "data": {
      "text/plain": [
       "ok    115410\n",
       "Name: augmented_length_check, dtype: int64"
      ]
     },
     "execution_count": 52,
     "metadata": {},
     "output_type": "execute_result"
    }
   ],
   "source": [
    "df_main['augmented_length_check'] = df_main.apply(lambda row: length_check(row['augmented_tokens'], row['augmented_ner_tags']), axis=1)\n",
    "df_main['augmented_length_check'].value_counts()"
   ]
  },
  {
   "cell_type": "code",
   "execution_count": 53,
   "id": "4e9a5c40",
   "metadata": {},
   "outputs": [],
   "source": [
    "def lowercasing(tokens):\n",
    "    return [token.lower() for token in tokens]"
   ]
  },
  {
   "cell_type": "code",
   "execution_count": 54,
   "id": "d670f60c",
   "metadata": {},
   "outputs": [
    {
     "data": {
      "application/vnd.jupyter.widget-view+json": {
       "model_id": "a0a6f1908aa248a3be9f8b4fcfa87687",
       "version_major": 2,
       "version_minor": 0
      },
      "text/plain": [
       "VBox(children=(HBox(children=(IntProgress(value=0, description='0.00%', max=7214), Label(value='0 / 7214'))), …"
      ]
     },
     "metadata": {},
     "output_type": "display_data"
    }
   ],
   "source": [
    "df_main['augmented_tokens'] = df_main['augmented_tokens'].parallel_apply(lambda x: lowercasing(x))"
   ]
  },
  {
   "cell_type": "code",
   "execution_count": 55,
   "id": "754f9845",
   "metadata": {},
   "outputs": [],
   "source": [
    "df_main.to_csv('Wikineural_augmented.csv', index=False)"
   ]
  },
  {
   "cell_type": "code",
   "execution_count": null,
   "id": "199cc067",
   "metadata": {},
   "outputs": [],
   "source": []
  }
 ],
 "metadata": {
  "kernelspec": {
   "display_name": "Python 3 (ipykernel)",
   "language": "python",
   "name": "python3"
  },
  "language_info": {
   "codemirror_mode": {
    "name": "ipython",
    "version": 3
   },
   "file_extension": ".py",
   "mimetype": "text/x-python",
   "name": "python",
   "nbconvert_exporter": "python",
   "pygments_lexer": "ipython3",
   "version": "3.9.13"
  }
 },
 "nbformat": 4,
 "nbformat_minor": 5
}
