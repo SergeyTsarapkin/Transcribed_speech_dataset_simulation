{
 "cells": [
  {
   "cell_type": "code",
   "execution_count": 1,
   "id": "8fde2e65",
   "metadata": {},
   "outputs": [
    {
     "data": {
      "text/html": [
       "<style>.container { width:95% !important; }</style>"
      ],
      "text/plain": [
       "<IPython.core.display.HTML object>"
      ]
     },
     "metadata": {},
     "output_type": "display_data"
    }
   ],
   "source": [
    "from IPython.display import display, HTML\n",
    "display(HTML(\"<style>.container { width:95% !important; }</style>\"))"
   ]
  },
  {
   "cell_type": "code",
   "execution_count": 2,
   "id": "eb4cb7fb",
   "metadata": {},
   "outputs": [
    {
     "name": "stdout",
     "output_type": "stream",
     "text": [
      "INFO: Pandarallel will run on 16 workers.\n",
      "INFO: Pandarallel will use Memory file system to transfer data between the main process and workers.\n"
     ]
    }
   ],
   "source": [
    "import pandas as pd\n",
    "import numpy as np\n",
    "import string\n",
    "import re\n",
    "from num2words import num2words\n",
    "\n",
    "from pandarallel import pandarallel\n",
    "pandarallel.initialize(progress_bar=True, nb_workers=16)\n",
    "\n",
    "from functools import lru_cache\n",
    "\n",
    "import pymorphy3\n",
    "import random\n",
    "\n",
    "morph = pymorphy3.MorphAnalyzer()\n",
    "punctuation = string.punctuation"
   ]
  },
  {
   "cell_type": "code",
   "execution_count": 3,
   "id": "9c9025d7",
   "metadata": {},
   "outputs": [],
   "source": [
    "markup = {'O': 0, 'B-PER': 1, 'I-PER': 2, 'B-ORG': 3, 'I-ORG': 4, 'B-LOC': 5, 'I-LOC': 6, 'B-MISC': 7, 'I-MISC': 8}"
   ]
  },
  {
   "cell_type": "code",
   "execution_count": 4,
   "id": "d4c732c5",
   "metadata": {},
   "outputs": [],
   "source": [
    "with open('multinerd_train_ru.tsv') as f:\n",
    "    lines = f.readlines()\n",
    "    df_train = pd.DataFrame(lines)"
   ]
  },
  {
   "cell_type": "code",
   "execution_count": 5,
   "id": "9a03d902",
   "metadata": {},
   "outputs": [],
   "source": [
    "with open('multinerd_test_ru.tsv') as f:\n",
    "    lines = f.readlines()\n",
    "    df_test = pd.DataFrame(lines)"
   ]
  },
  {
   "cell_type": "code",
   "execution_count": 6,
   "id": "9e20ed79",
   "metadata": {},
   "outputs": [],
   "source": [
    "with open('multinerd_dev_ru.tsv') as f:\n",
    "    lines = f.readlines()\n",
    "    df_val= pd.DataFrame(lines)"
   ]
  },
  {
   "cell_type": "code",
   "execution_count": 7,
   "id": "339c578d",
   "metadata": {},
   "outputs": [],
   "source": [
    "df = pd.concat([df_train, df_test, df_val], ignore_index=True)"
   ]
  },
  {
   "cell_type": "code",
   "execution_count": 8,
   "id": "59aad306",
   "metadata": {},
   "outputs": [],
   "source": [
    "df['split'] = df[0].apply(lambda x: x.split('\\t'))"
   ]
  },
  {
   "cell_type": "code",
   "execution_count": 9,
   "id": "11d1e570",
   "metadata": {},
   "outputs": [],
   "source": [
    "df['word_index'] = df['split'].apply(lambda x: x[0])\n",
    "df['word'] = [row[1] if len(row) > 1 else '' for row in df['split']]"
   ]
  },
  {
   "cell_type": "code",
   "execution_count": 10,
   "id": "060e307b",
   "metadata": {},
   "outputs": [],
   "source": [
    "df['token'] = [row[2] if len(row) > 2 else '' for row in df['split']]\n",
    "df['token'] = df['token'].apply(lambda x: x.replace('\\n', ''))"
   ]
  },
  {
   "cell_type": "code",
   "execution_count": 11,
   "id": "b69e0054",
   "metadata": {},
   "outputs": [
    {
     "data": {
      "text/html": [
       "<div>\n",
       "<style scoped>\n",
       "    .dataframe tbody tr th:only-of-type {\n",
       "        vertical-align: middle;\n",
       "    }\n",
       "\n",
       "    .dataframe tbody tr th {\n",
       "        vertical-align: top;\n",
       "    }\n",
       "\n",
       "    .dataframe thead th {\n",
       "        text-align: right;\n",
       "    }\n",
       "</style>\n",
       "<table border=\"1\" class=\"dataframe\">\n",
       "  <thead>\n",
       "    <tr style=\"text-align: right;\">\n",
       "      <th></th>\n",
       "      <th>0</th>\n",
       "      <th>split</th>\n",
       "      <th>word_index</th>\n",
       "      <th>word</th>\n",
       "      <th>token</th>\n",
       "    </tr>\n",
       "  </thead>\n",
       "  <tbody>\n",
       "    <tr>\n",
       "      <th>0</th>\n",
       "      <td>0\\tСуществовали\\tO\\n</td>\n",
       "      <td>[0, Существовали, O\\n]</td>\n",
       "      <td>0</td>\n",
       "      <td>Существовали</td>\n",
       "      <td>O</td>\n",
       "    </tr>\n",
       "    <tr>\n",
       "      <th>1</th>\n",
       "      <td>1\\tвиды\\tO\\n</td>\n",
       "      <td>[1, виды, O\\n]</td>\n",
       "      <td>1</td>\n",
       "      <td>виды</td>\n",
       "      <td>O</td>\n",
       "    </tr>\n",
       "    <tr>\n",
       "      <th>2</th>\n",
       "      <td>2\\t,\\tO\\n</td>\n",
       "      <td>[2, ,, O\\n]</td>\n",
       "      <td>2</td>\n",
       "      <td>,</td>\n",
       "      <td>O</td>\n",
       "    </tr>\n",
       "    <tr>\n",
       "      <th>3</th>\n",
       "      <td>3\\tнапоминавшие\\tO\\n</td>\n",
       "      <td>[3, напоминавшие, O\\n]</td>\n",
       "      <td>3</td>\n",
       "      <td>напоминавшие</td>\n",
       "      <td>O</td>\n",
       "    </tr>\n",
       "    <tr>\n",
       "      <th>4</th>\n",
       "      <td>4\\tвследствие\\tO\\n</td>\n",
       "      <td>[4, вследствие, O\\n]</td>\n",
       "      <td>4</td>\n",
       "      <td>вследствие</td>\n",
       "      <td>O</td>\n",
       "    </tr>\n",
       "  </tbody>\n",
       "</table>\n",
       "</div>"
      ],
      "text/plain": [
       "                      0                   split word_index          word token\n",
       "0  0\\tСуществовали\\tO\\n  [0, Существовали, O\\n]          0  Существовали     O\n",
       "1          1\\tвиды\\tO\\n          [1, виды, O\\n]          1          виды     O\n",
       "2             2\\t,\\tO\\n             [2, ,, O\\n]          2             ,     O\n",
       "3  3\\tнапоминавшие\\tO\\n  [3, напоминавшие, O\\n]          3  напоминавшие     O\n",
       "4    4\\tвследствие\\tO\\n    [4, вследствие, O\\n]          4    вследствие     O"
      ]
     },
     "execution_count": 11,
     "metadata": {},
     "output_type": "execute_result"
    }
   ],
   "source": [
    "df.head()"
   ]
  },
  {
   "cell_type": "code",
   "execution_count": 12,
   "id": "9e31cd7f",
   "metadata": {},
   "outputs": [],
   "source": [
    "df['token_BI'] = [row.split('-')[0] if len(row.split('-')) > 1 else '' for row in df['token']]"
   ]
  },
  {
   "cell_type": "code",
   "execution_count": 13,
   "id": "9ea62226",
   "metadata": {},
   "outputs": [],
   "source": [
    "df['token_NER'] = [row.split('-')[1] if len(row.split('-')) > 1 else '' for row in df['token']]"
   ]
  },
  {
   "cell_type": "code",
   "execution_count": 14,
   "id": "50f484ac",
   "metadata": {},
   "outputs": [
    {
     "data": {
      "text/plain": [
       "     1293090\n",
       "B     115216\n",
       "I      77441\n",
       "Name: token_BI, dtype: int64"
      ]
     },
     "execution_count": 14,
     "metadata": {},
     "output_type": "execute_result"
    }
   ],
   "source": [
    "df['token_BI'].value_counts()"
   ]
  },
  {
   "cell_type": "code",
   "execution_count": 15,
   "id": "0039fd16",
   "metadata": {},
   "outputs": [
    {
     "data": {
      "text/plain": [
       "         1293090\n",
       "PER        69761\n",
       "LOC        51110\n",
       "ORG        17613\n",
       "EVE        16339\n",
       "ANIM       10017\n",
       "MEDIA       8305\n",
       "PLANT       5223\n",
       "DIS         4010\n",
       "TIME        3954\n",
       "FOOD        2343\n",
       "CEL         2071\n",
       "INST         671\n",
       "VEHI         618\n",
       "MYTH         594\n",
       "BIO           28\n",
       "Name: token_NER, dtype: int64"
      ]
     },
     "execution_count": 15,
     "metadata": {},
     "output_type": "execute_result"
    }
   ],
   "source": [
    "df['token_NER'].value_counts()"
   ]
  },
  {
   "cell_type": "code",
   "execution_count": 16,
   "id": "06129c0c",
   "metadata": {},
   "outputs": [],
   "source": [
    "split_keys = [key.split('-')[1] if len(key.split('-'))>1 else '' for key in markup.keys()]\n",
    "df['token_fixed'] = ['MISC' if token not in split_keys else token for token in df['token_NER']]"
   ]
  },
  {
   "cell_type": "code",
   "execution_count": 17,
   "id": "947af186",
   "metadata": {},
   "outputs": [
    {
     "data": {
      "text/plain": [
       "        1293090\n",
       "PER       69761\n",
       "MISC      54173\n",
       "LOC       51110\n",
       "ORG       17613\n",
       "Name: token_fixed, dtype: int64"
      ]
     },
     "execution_count": 17,
     "metadata": {},
     "output_type": "execute_result"
    }
   ],
   "source": [
    "df['token_fixed'].value_counts()"
   ]
  },
  {
   "cell_type": "code",
   "execution_count": 18,
   "id": "d318ab75",
   "metadata": {},
   "outputs": [],
   "source": [
    "df.drop('token_NER', inplace=True, axis=1)"
   ]
  },
  {
   "cell_type": "code",
   "execution_count": 19,
   "id": "25744086",
   "metadata": {},
   "outputs": [],
   "source": [
    "df['ner_token'] = df['token_BI'] + '-' + df['token_fixed']"
   ]
  },
  {
   "cell_type": "code",
   "execution_count": 20,
   "id": "b8f8d26f",
   "metadata": {},
   "outputs": [],
   "source": [
    "df.drop('token_BI', inplace=True, axis=1)\n",
    "df.drop('token_fixed', inplace=True, axis=1)\n",
    "df['ner_token'][df['ner_token'] == '-'] = 'O'"
   ]
  },
  {
   "cell_type": "code",
   "execution_count": 21,
   "id": "e204b6bc",
   "metadata": {},
   "outputs": [],
   "source": [
    "df.drop(0, inplace=True, axis=1)\n",
    "df.drop('split', inplace=True, axis=1)"
   ]
  },
  {
   "cell_type": "code",
   "execution_count": 22,
   "id": "ac32cbae",
   "metadata": {},
   "outputs": [],
   "source": [
    "df.drop('token', inplace=True, axis=1)"
   ]
  },
  {
   "cell_type": "code",
   "execution_count": 23,
   "id": "025eabcb",
   "metadata": {},
   "outputs": [
    {
     "data": {
      "text/plain": [
       "O         1293090\n",
       "B-LOC       41293\n",
       "I-PER       35068\n",
       "B-PER       34693\n",
       "B-MISC      31195\n",
       "I-MISC      22978\n",
       "I-LOC        9817\n",
       "I-ORG        9578\n",
       "B-ORG        8035\n",
       "Name: ner_token, dtype: int64"
      ]
     },
     "execution_count": 23,
     "metadata": {},
     "output_type": "execute_result"
    }
   ],
   "source": [
    "df.ner_token.value_counts()"
   ]
  },
  {
   "cell_type": "code",
   "execution_count": 24,
   "id": "211164cf",
   "metadata": {},
   "outputs": [
    {
     "data": {
      "text/html": [
       "<div>\n",
       "<style scoped>\n",
       "    .dataframe tbody tr th:only-of-type {\n",
       "        vertical-align: middle;\n",
       "    }\n",
       "\n",
       "    .dataframe tbody tr th {\n",
       "        vertical-align: top;\n",
       "    }\n",
       "\n",
       "    .dataframe thead th {\n",
       "        text-align: right;\n",
       "    }\n",
       "</style>\n",
       "<table border=\"1\" class=\"dataframe\">\n",
       "  <thead>\n",
       "    <tr style=\"text-align: right;\">\n",
       "      <th></th>\n",
       "      <th>word_index</th>\n",
       "      <th>word</th>\n",
       "      <th>ner_token</th>\n",
       "    </tr>\n",
       "  </thead>\n",
       "  <tbody>\n",
       "    <tr>\n",
       "      <th>0</th>\n",
       "      <td>0</td>\n",
       "      <td>Существовали</td>\n",
       "      <td>O</td>\n",
       "    </tr>\n",
       "    <tr>\n",
       "      <th>1</th>\n",
       "      <td>1</td>\n",
       "      <td>виды</td>\n",
       "      <td>O</td>\n",
       "    </tr>\n",
       "    <tr>\n",
       "      <th>2</th>\n",
       "      <td>2</td>\n",
       "      <td>,</td>\n",
       "      <td>O</td>\n",
       "    </tr>\n",
       "    <tr>\n",
       "      <th>3</th>\n",
       "      <td>3</td>\n",
       "      <td>напоминавшие</td>\n",
       "      <td>O</td>\n",
       "    </tr>\n",
       "    <tr>\n",
       "      <th>4</th>\n",
       "      <td>4</td>\n",
       "      <td>вследствие</td>\n",
       "      <td>O</td>\n",
       "    </tr>\n",
       "    <tr>\n",
       "      <th>...</th>\n",
       "      <td>...</td>\n",
       "      <td>...</td>\n",
       "      <td>...</td>\n",
       "    </tr>\n",
       "    <tr>\n",
       "      <th>1485742</th>\n",
       "      <td>34</td>\n",
       "      <td>за</td>\n",
       "      <td>O</td>\n",
       "    </tr>\n",
       "    <tr>\n",
       "      <th>1485743</th>\n",
       "      <td>35</td>\n",
       "      <td>право</td>\n",
       "      <td>O</td>\n",
       "    </tr>\n",
       "    <tr>\n",
       "      <th>1485744</th>\n",
       "      <td>36</td>\n",
       "      <td>спариваться</td>\n",
       "      <td>O</td>\n",
       "    </tr>\n",
       "    <tr>\n",
       "      <th>1485745</th>\n",
       "      <td>37</td>\n",
       "      <td>.</td>\n",
       "      <td>O</td>\n",
       "    </tr>\n",
       "    <tr>\n",
       "      <th>1485746</th>\n",
       "      <td>\\n</td>\n",
       "      <td></td>\n",
       "      <td>O</td>\n",
       "    </tr>\n",
       "  </tbody>\n",
       "</table>\n",
       "<p>1485747 rows × 3 columns</p>\n",
       "</div>"
      ],
      "text/plain": [
       "        word_index          word ner_token\n",
       "0                0  Существовали         O\n",
       "1                1          виды         O\n",
       "2                2             ,         O\n",
       "3                3  напоминавшие         O\n",
       "4                4    вследствие         O\n",
       "...            ...           ...       ...\n",
       "1485742         34            за         O\n",
       "1485743         35         право         O\n",
       "1485744         36   спариваться         O\n",
       "1485745         37             .         O\n",
       "1485746         \\n                       O\n",
       "\n",
       "[1485747 rows x 3 columns]"
      ]
     },
     "execution_count": 24,
     "metadata": {},
     "output_type": "execute_result"
    }
   ],
   "source": [
    "df"
   ]
  },
  {
   "cell_type": "code",
   "execution_count": 25,
   "id": "431b124b",
   "metadata": {},
   "outputs": [],
   "source": [
    "df['ner_token'] = [markup[token] for token in df['ner_token']]"
   ]
  },
  {
   "cell_type": "code",
   "execution_count": 26,
   "id": "fdee646d",
   "metadata": {},
   "outputs": [],
   "source": [
    "def create_main(df):\n",
    "    main = {'tokens': [], 'ner_tags': []}\n",
    "    length = len(df)\n",
    "    tokens = []\n",
    "    ner_tokens = []\n",
    "    for i in range(length):\n",
    "        index = df['word_index'][i]\n",
    "        if index != '\\n':\n",
    "            tokens.append(df['word'][i])\n",
    "            ner_tokens.append(df['ner_token'][i])\n",
    "                \n",
    "        elif index == '\\n':\n",
    "            main['tokens'].append(tokens)\n",
    "            main['ner_tags'].append(ner_tokens)\n",
    "            tokens, ner_tokens = [], []\n",
    "                \n",
    "    return main"
   ]
  },
  {
   "cell_type": "code",
   "execution_count": 27,
   "id": "92c339b1",
   "metadata": {},
   "outputs": [],
   "source": [
    "df_main = create_main(df)\n",
    "df_main = pd.DataFrame(df_main)"
   ]
  },
  {
   "cell_type": "code",
   "execution_count": 28,
   "id": "ce09e4ca",
   "metadata": {},
   "outputs": [],
   "source": [
    "# Function to check if number of tokens equals number of ner tags for a given row\n",
    "def length_check(tokens, ner_tags):\n",
    "    return 'ok' if len(tokens) == len(ner_tags) else 'WRONG'"
   ]
  },
  {
   "cell_type": "code",
   "execution_count": 29,
   "id": "2fcc9c18",
   "metadata": {},
   "outputs": [],
   "source": [
    "df_main['len_check'] = df_main.apply(lambda row: length_check(row['tokens'], row['ner_tags']), axis=1)"
   ]
  },
  {
   "cell_type": "code",
   "execution_count": 30,
   "id": "5b827faa",
   "metadata": {},
   "outputs": [
    {
     "data": {
      "text/plain": [
       "ok    82858\n",
       "Name: len_check, dtype: int64"
      ]
     },
     "execution_count": 30,
     "metadata": {},
     "output_type": "execute_result"
    }
   ],
   "source": [
    "df_main['len_check'].value_counts()"
   ]
  },
  {
   "cell_type": "code",
   "execution_count": 31,
   "id": "6633c8d5",
   "metadata": {},
   "outputs": [],
   "source": [
    "df_main['augmented_tokens'] = df_main['tokens']\n",
    "df_main['augmented_ner_tags'] = df_main['ner_tags']"
   ]
  },
  {
   "cell_type": "code",
   "execution_count": 32,
   "id": "20f5d089",
   "metadata": {},
   "outputs": [],
   "source": [
    "# Takes a list of tokens, and changes 1 or 2 (based on number of tokens)\n",
    "# random tokens to its lemma, simulating transcribed speech system mistake,\n",
    "# with the following conditions:\n",
    "# -  original token should be at elast 7 characters long,\n",
    "#    since transcribed speech system will probably recognize short words more accurately\n",
    "# -  token should not start with uppercase, to aviod changing unique names\n",
    "# -  the original token and its lemma must not differ in more than 5 characters.\n",
    "#    since transcribed words should not be too different (assuming we arent using utter trash\n",
    "#    transcription system.)\n",
    "def simulate_mistakes(tokens):\n",
    "    suitable_for_augmentation = []\n",
    "    \n",
    "    @lru_cache(maxsize=512)\n",
    "    def get_lemma(word):\n",
    "        parsed_word = morph.parse(word)[0]\n",
    "        lemma = parsed_word.normal_form\n",
    "        return lemma\n",
    "    \n",
    "    def lemmatize_tokens(tokens, suitable_for_augmentation, k):\n",
    "        to_augment = random.sample(suitable_for_augmentation, k)\n",
    "        for i in to_augment:\n",
    "            tokens[i] = get_lemma(tokens[i])\n",
    "    \n",
    "    for i in range(len(tokens)):\n",
    "        word = tokens[i]\n",
    "        if len(word) > 6 and not word[0].isupper():\n",
    "            lemma = get_lemma(word)\n",
    "            if lemma != word:\n",
    "                difference_counter = abs(len(word) - len(lemma))\n",
    "                for index in range(min(len(word), len(lemma))):\n",
    "                    if word[index] != lemma[index]:\n",
    "                        difference_counter += 1\n",
    "\n",
    "                if difference_counter < 6:\n",
    "                        suitable_for_augmentation.append(i)\n",
    "                    \n",
    "    if suitable_for_augmentation:\n",
    "        if len(tokens) <=10:\n",
    "            lemmatize_tokens(tokens, suitable_for_augmentation, 1)\n",
    "        elif len(suitable_for_augmentation) > 3:\n",
    "            lemmatize_tokens(tokens, suitable_for_augmentation, 2)\n",
    "       \n",
    "    return tokens"
   ]
  },
  {
   "cell_type": "code",
   "execution_count": 33,
   "id": "8ce93a8c",
   "metadata": {},
   "outputs": [
    {
     "data": {
      "application/vnd.jupyter.widget-view+json": {
       "model_id": "a883eea7233d4ea687fe5e4a4ff48025",
       "version_major": 2,
       "version_minor": 0
      },
      "text/plain": [
       "VBox(children=(HBox(children=(IntProgress(value=0, description='0.00%', max=5179), Label(value='0 / 5179'))), …"
      ]
     },
     "metadata": {},
     "output_type": "display_data"
    }
   ],
   "source": [
    "df_main['augmented_tokens'] = df_main['augmented_tokens'].parallel_apply(lambda x: simulate_mistakes(x))"
   ]
  },
  {
   "cell_type": "code",
   "execution_count": 34,
   "id": "8f10ed18",
   "metadata": {},
   "outputs": [],
   "source": [
    "# Function that splits tokens by hyphen (since hyphen is not going to be in trascribed speech)\n",
    "# and adjusts the ner_tags accordingly (iserting same tags, as the original token had)\n",
    "def split_hyphen(tokens, ner_tags):\n",
    "    \n",
    "    for i in range(len(tokens)):\n",
    "        if '-' in tokens[i] or '—' in tokens[i]:\n",
    "            new_tokens = tokens[i].split('-')\n",
    "            new_tokens = tokens[i].split('—')\n",
    "            tag_to_insert = ner_tags[i]\n",
    "            del ner_tags[i]\n",
    "            del tokens[i] \n",
    "            index = i\n",
    "            \n",
    "            for _ in range(len(new_tokens)):\n",
    "                ner_tags.insert(index, tag_to_insert)\n",
    "                tokens.insert(index, new_tokens[_])\n",
    "                index += 1 \n",
    "               \n",
    "    return tokens, ner_tags"
   ]
  },
  {
   "cell_type": "code",
   "execution_count": 35,
   "id": "d3156b89",
   "metadata": {},
   "outputs": [
    {
     "data": {
      "application/vnd.jupyter.widget-view+json": {
       "model_id": "e5dab82c3ea94112afaf92186723d73d",
       "version_major": 2,
       "version_minor": 0
      },
      "text/plain": [
       "VBox(children=(HBox(children=(IntProgress(value=0, description='0.00%', max=5179), Label(value='0 / 5179'))), …"
      ]
     },
     "metadata": {},
     "output_type": "display_data"
    }
   ],
   "source": [
    "df_main[['augmented_tokens', 'augmented_ner_tags']] = df_main.parallel_apply(lambda row: pd.Series(split_hyphen(row['tokens'], row['ner_tags'])), axis=1)"
   ]
  },
  {
   "cell_type": "code",
   "execution_count": 36,
   "id": "b97013d3",
   "metadata": {},
   "outputs": [
    {
     "data": {
      "text/plain": [
       "ok    82858\n",
       "Name: augmented_length_check, dtype: int64"
      ]
     },
     "execution_count": 36,
     "metadata": {},
     "output_type": "execute_result"
    }
   ],
   "source": [
    "df_main['augmented_length_check'] = df_main.apply(lambda row: length_check(row['augmented_tokens'], row['augmented_ner_tags']), axis=1)\n",
    "df_main['augmented_length_check'].value_counts()"
   ]
  },
  {
   "cell_type": "code",
   "execution_count": 37,
   "id": "ad0da21e",
   "metadata": {},
   "outputs": [
    {
     "data": {
      "text/html": [
       "<div>\n",
       "<style scoped>\n",
       "    .dataframe tbody tr th:only-of-type {\n",
       "        vertical-align: middle;\n",
       "    }\n",
       "\n",
       "    .dataframe tbody tr th {\n",
       "        vertical-align: top;\n",
       "    }\n",
       "\n",
       "    .dataframe thead th {\n",
       "        text-align: right;\n",
       "    }\n",
       "</style>\n",
       "<table border=\"1\" class=\"dataframe\">\n",
       "  <thead>\n",
       "    <tr style=\"text-align: right;\">\n",
       "      <th></th>\n",
       "      <th>tokens</th>\n",
       "      <th>ner_tags</th>\n",
       "      <th>len_check</th>\n",
       "      <th>augmented_tokens</th>\n",
       "      <th>augmented_ner_tags</th>\n",
       "      <th>augmented_length_check</th>\n",
       "    </tr>\n",
       "  </thead>\n",
       "  <tbody>\n",
       "    <tr>\n",
       "      <th>0</th>\n",
       "      <td>[Существовали, виды, ,, напоминавшие, вследств...</td>\n",
       "      <td>[0, 0, 0, 0, 0, 0, 0, 0, 7, 0, 7, 0, 0, 0, 0, ...</td>\n",
       "      <td>ok</td>\n",
       "      <td>[Существовали, виды, ,, напоминавшие, вследств...</td>\n",
       "      <td>[0, 0, 0, 0, 0, 0, 0, 0, 7, 0, 7, 0, 0, 0, 0, ...</td>\n",
       "      <td>ok</td>\n",
       "    </tr>\n",
       "    <tr>\n",
       "      <th>1</th>\n",
       "      <td>[Экранизация, одноимённого, произведения, 1982...</td>\n",
       "      <td>[0, 0, 0, 0, 0, 0, 0, 1, 2, 2, 0]</td>\n",
       "      <td>ok</td>\n",
       "      <td>[Экранизация, одноимённого, произведения, 1982...</td>\n",
       "      <td>[0, 0, 0, 0, 0, 0, 0, 1, 2, 2, 0]</td>\n",
       "      <td>ok</td>\n",
       "    </tr>\n",
       "    <tr>\n",
       "      <th>2</th>\n",
       "      <td>[\", Карликовые, гремучники, \", (, ), -, род, я...</td>\n",
       "      <td>[0, 0, 0, 0, 0, 0, 0, 0, 0, 7, 0, 7, 0, 0, 0]</td>\n",
       "      <td>ok</td>\n",
       "      <td>[\", Карликовые, гремучники, \", (, ), -, род, я...</td>\n",
       "      <td>[0, 0, 0, 0, 0, 0, 0, 0, 0, 7, 0, 7, 0, 0, 0]</td>\n",
       "      <td>ok</td>\n",
       "    </tr>\n",
       "    <tr>\n",
       "      <th>3</th>\n",
       "      <td>[В, 1638, году, на, берегах, реки, Делавэр, бы...</td>\n",
       "      <td>[0, 0, 0, 0, 0, 0, 5, 0, 0, 0, 5, 6, 0, 0, 5, ...</td>\n",
       "      <td>ok</td>\n",
       "      <td>[В, 1638, году, на, берегах, реки, Делавэр, бы...</td>\n",
       "      <td>[0, 0, 0, 0, 0, 0, 5, 0, 0, 0, 5, 6, 0, 0, 5, ...</td>\n",
       "      <td>ok</td>\n",
       "    </tr>\n",
       "    <tr>\n",
       "      <th>4</th>\n",
       "      <td>[Кроме, этого, ,, распространён, на, западном,...</td>\n",
       "      <td>[0, 0, 0, 0, 0, 0, 0, 5, 6, 0, 0, 0, 0, 0, 0, 0]</td>\n",
       "      <td>ok</td>\n",
       "      <td>[Кроме, этого, ,, распространён, на, западном,...</td>\n",
       "      <td>[0, 0, 0, 0, 0, 0, 0, 5, 6, 0, 0, 0, 0, 0, 0, 0]</td>\n",
       "      <td>ok</td>\n",
       "    </tr>\n",
       "  </tbody>\n",
       "</table>\n",
       "</div>"
      ],
      "text/plain": [
       "                                              tokens  \\\n",
       "0  [Существовали, виды, ,, напоминавшие, вследств...   \n",
       "1  [Экранизация, одноимённого, произведения, 1982...   \n",
       "2  [\", Карликовые, гремучники, \", (, ), -, род, я...   \n",
       "3  [В, 1638, году, на, берегах, реки, Делавэр, бы...   \n",
       "4  [Кроме, этого, ,, распространён, на, западном,...   \n",
       "\n",
       "                                            ner_tags len_check  \\\n",
       "0  [0, 0, 0, 0, 0, 0, 0, 0, 7, 0, 7, 0, 0, 0, 0, ...        ok   \n",
       "1                  [0, 0, 0, 0, 0, 0, 0, 1, 2, 2, 0]        ok   \n",
       "2      [0, 0, 0, 0, 0, 0, 0, 0, 0, 7, 0, 7, 0, 0, 0]        ok   \n",
       "3  [0, 0, 0, 0, 0, 0, 5, 0, 0, 0, 5, 6, 0, 0, 5, ...        ok   \n",
       "4   [0, 0, 0, 0, 0, 0, 0, 5, 6, 0, 0, 0, 0, 0, 0, 0]        ok   \n",
       "\n",
       "                                    augmented_tokens  \\\n",
       "0  [Существовали, виды, ,, напоминавшие, вследств...   \n",
       "1  [Экранизация, одноимённого, произведения, 1982...   \n",
       "2  [\", Карликовые, гремучники, \", (, ), -, род, я...   \n",
       "3  [В, 1638, году, на, берегах, реки, Делавэр, бы...   \n",
       "4  [Кроме, этого, ,, распространён, на, западном,...   \n",
       "\n",
       "                                  augmented_ner_tags augmented_length_check  \n",
       "0  [0, 0, 0, 0, 0, 0, 0, 0, 7, 0, 7, 0, 0, 0, 0, ...                     ok  \n",
       "1                  [0, 0, 0, 0, 0, 0, 0, 1, 2, 2, 0]                     ok  \n",
       "2      [0, 0, 0, 0, 0, 0, 0, 0, 0, 7, 0, 7, 0, 0, 0]                     ok  \n",
       "3  [0, 0, 0, 0, 0, 0, 5, 0, 0, 0, 5, 6, 0, 0, 5, ...                     ok  \n",
       "4   [0, 0, 0, 0, 0, 0, 0, 5, 6, 0, 0, 0, 0, 0, 0, 0]                     ok  "
      ]
     },
     "execution_count": 37,
     "metadata": {},
     "output_type": "execute_result"
    }
   ],
   "source": [
    "df_main.head()"
   ]
  },
  {
   "cell_type": "code",
   "execution_count": 38,
   "id": "d97ae1d7",
   "metadata": {},
   "outputs": [],
   "source": [
    "def cubes_squares_punct_etc(tokens, ner_tags):\n",
    "    \n",
    "    def switch_ner_tags(ner_tags, i):\n",
    "        ner_tags[i-1], ner_tags[i] = ner_tags[i], ner_tags[i-1]\n",
    "        \n",
    "    def switch_tokens(tokens, i):\n",
    "        tokens[i-1], tokens[i] = tokens[i], tokens[i-1]\n",
    "        \n",
    "    def m_km(tokens, i):\n",
    "        if tokens[i-1] == 'километр':\n",
    "            switch_tokens(tokens, i)\n",
    "            switch_ner_tags(ner_tags, i)\n",
    "        elif tokens[i-1] == 'метр':\n",
    "            switch_tokens(tokens, i)\n",
    "            switch_ner_tags(ner_tags, i)\n",
    "    \n",
    "    square, cube, half, third = '²', '³', '½', '⅓'\n",
    "    thousand, million, billion = 'тыс', 'млн', 'млрд'\n",
    "    km, m = 'км', 'м'\n",
    "   \n",
    "    for i in range(len(tokens)):\n",
    "        tokens[i] = re.sub(r'[^\\w\\s]+', '', tokens[i])\n",
    "        if tokens[i] == half: tokens[i] = 'с половиной'\n",
    "        elif tokens[i] == third: tokens[i] = 'одна треть'\n",
    "        elif tokens[i] == thousand: tokens[i] = 'тысяч'\n",
    "        elif tokens[i] == million: tokens[i] = 'миллионов'\n",
    "        elif tokens[i] == billion: tokens[i] = 'миллиадров'\n",
    "        elif tokens[i] == km: tokens[i] = 'километр'\n",
    "        elif tokens[i] == m: tokens[i] = 'метр'\n",
    "        \n",
    "        elif tokens[i] == square:\n",
    "            tokens[i] = 'квадратный'\n",
    "            m_km(tokens, i)\n",
    "        \n",
    "        elif tokens[i] == cube:\n",
    "            tokens[i] = 'кубический'\n",
    "            m_km(tokens, i)\n",
    "            \n",
    "    return tokens, ner_tags"
   ]
  },
  {
   "cell_type": "code",
   "execution_count": 39,
   "id": "aac21438",
   "metadata": {},
   "outputs": [
    {
     "data": {
      "application/vnd.jupyter.widget-view+json": {
       "model_id": "f8ddc105659a48f0803dd82cbe7c5ac6",
       "version_major": 2,
       "version_minor": 0
      },
      "text/plain": [
       "VBox(children=(HBox(children=(IntProgress(value=0, description='0.00%', max=5179), Label(value='0 / 5179'))), …"
      ]
     },
     "metadata": {},
     "output_type": "display_data"
    }
   ],
   "source": [
    "df_main[['augmented_tokens', 'augmented_ner_tags']] = df_main.parallel_apply(lambda row: pd.Series(cubes_squares_punct_etc(row['augmented_tokens'], row['augmented_ner_tags'])), axis=1)"
   ]
  },
  {
   "cell_type": "code",
   "execution_count": 40,
   "id": "ed439c94",
   "metadata": {},
   "outputs": [
    {
     "data": {
      "text/plain": [
       "ok    82858\n",
       "Name: augmented_length_check, dtype: int64"
      ]
     },
     "execution_count": 40,
     "metadata": {},
     "output_type": "execute_result"
    }
   ],
   "source": [
    "df_main['augmented_length_check'] = df_main.apply(lambda row: length_check(row['augmented_tokens'], row['augmented_ner_tags']), axis=1)\n",
    "df_main['augmented_length_check'].value_counts()"
   ]
  },
  {
   "cell_type": "code",
   "execution_count": 41,
   "id": "ab8a87f0",
   "metadata": {},
   "outputs": [
    {
     "data": {
      "text/html": [
       "<div>\n",
       "<style scoped>\n",
       "    .dataframe tbody tr th:only-of-type {\n",
       "        vertical-align: middle;\n",
       "    }\n",
       "\n",
       "    .dataframe tbody tr th {\n",
       "        vertical-align: top;\n",
       "    }\n",
       "\n",
       "    .dataframe thead th {\n",
       "        text-align: right;\n",
       "    }\n",
       "</style>\n",
       "<table border=\"1\" class=\"dataframe\">\n",
       "  <thead>\n",
       "    <tr style=\"text-align: right;\">\n",
       "      <th></th>\n",
       "      <th>tokens</th>\n",
       "      <th>ner_tags</th>\n",
       "      <th>len_check</th>\n",
       "      <th>augmented_tokens</th>\n",
       "      <th>augmented_ner_tags</th>\n",
       "      <th>augmented_length_check</th>\n",
       "    </tr>\n",
       "  </thead>\n",
       "  <tbody>\n",
       "    <tr>\n",
       "      <th>0</th>\n",
       "      <td>[Существовали, виды, ,, напоминавшие, вследств...</td>\n",
       "      <td>[0, 0, 0, 0, 0, 0, 0, 0, 7, 0, 7, 0, 0, 0, 0, ...</td>\n",
       "      <td>ok</td>\n",
       "      <td>[Существовали, виды, , напоминавшие, вследстви...</td>\n",
       "      <td>[0, 0, 0, 0, 0, 0, 0, 0, 7, 0, 7, 0, 0, 0, 0, ...</td>\n",
       "      <td>ok</td>\n",
       "    </tr>\n",
       "    <tr>\n",
       "      <th>1</th>\n",
       "      <td>[Экранизация, одноимённого, произведения, 1982...</td>\n",
       "      <td>[0, 0, 0, 0, 0, 0, 0, 1, 2, 2, 0]</td>\n",
       "      <td>ok</td>\n",
       "      <td>[Экранизация, одноимённого, произведения, 1982...</td>\n",
       "      <td>[0, 0, 0, 0, 0, 0, 0, 1, 2, 2, 0]</td>\n",
       "      <td>ok</td>\n",
       "    </tr>\n",
       "    <tr>\n",
       "      <th>2</th>\n",
       "      <td>[\", Карликовые, гремучники, \", (, ), -, род, я...</td>\n",
       "      <td>[0, 0, 0, 0, 0, 0, 0, 0, 0, 7, 0, 7, 0, 0, 0]</td>\n",
       "      <td>ok</td>\n",
       "      <td>[, Карликовые, гремучники, , , , , род, ядовит...</td>\n",
       "      <td>[0, 0, 0, 0, 0, 0, 0, 0, 0, 7, 0, 7, 0, 0, 0]</td>\n",
       "      <td>ok</td>\n",
       "    </tr>\n",
       "    <tr>\n",
       "      <th>3</th>\n",
       "      <td>[В, 1638, году, на, берегах, реки, Делавэр, бы...</td>\n",
       "      <td>[0, 0, 0, 0, 0, 0, 5, 0, 0, 0, 5, 6, 0, 0, 5, ...</td>\n",
       "      <td>ok</td>\n",
       "      <td>[В, 1638, году, на, берегах, реки, Делавэр, бы...</td>\n",
       "      <td>[0, 0, 0, 0, 0, 0, 5, 0, 0, 0, 5, 6, 0, 0, 5, ...</td>\n",
       "      <td>ok</td>\n",
       "    </tr>\n",
       "    <tr>\n",
       "      <th>4</th>\n",
       "      <td>[Кроме, этого, ,, распространён, на, западном,...</td>\n",
       "      <td>[0, 0, 0, 0, 0, 0, 0, 5, 6, 0, 0, 0, 0, 0, 0, 0]</td>\n",
       "      <td>ok</td>\n",
       "      <td>[Кроме, этого, , распространён, на, западном, ...</td>\n",
       "      <td>[0, 0, 0, 0, 0, 0, 0, 5, 6, 0, 0, 0, 0, 0, 0, 0]</td>\n",
       "      <td>ok</td>\n",
       "    </tr>\n",
       "  </tbody>\n",
       "</table>\n",
       "</div>"
      ],
      "text/plain": [
       "                                              tokens  \\\n",
       "0  [Существовали, виды, ,, напоминавшие, вследств...   \n",
       "1  [Экранизация, одноимённого, произведения, 1982...   \n",
       "2  [\", Карликовые, гремучники, \", (, ), -, род, я...   \n",
       "3  [В, 1638, году, на, берегах, реки, Делавэр, бы...   \n",
       "4  [Кроме, этого, ,, распространён, на, западном,...   \n",
       "\n",
       "                                            ner_tags len_check  \\\n",
       "0  [0, 0, 0, 0, 0, 0, 0, 0, 7, 0, 7, 0, 0, 0, 0, ...        ok   \n",
       "1                  [0, 0, 0, 0, 0, 0, 0, 1, 2, 2, 0]        ok   \n",
       "2      [0, 0, 0, 0, 0, 0, 0, 0, 0, 7, 0, 7, 0, 0, 0]        ok   \n",
       "3  [0, 0, 0, 0, 0, 0, 5, 0, 0, 0, 5, 6, 0, 0, 5, ...        ok   \n",
       "4   [0, 0, 0, 0, 0, 0, 0, 5, 6, 0, 0, 0, 0, 0, 0, 0]        ok   \n",
       "\n",
       "                                    augmented_tokens  \\\n",
       "0  [Существовали, виды, , напоминавшие, вследстви...   \n",
       "1  [Экранизация, одноимённого, произведения, 1982...   \n",
       "2  [, Карликовые, гремучники, , , , , род, ядовит...   \n",
       "3  [В, 1638, году, на, берегах, реки, Делавэр, бы...   \n",
       "4  [Кроме, этого, , распространён, на, западном, ...   \n",
       "\n",
       "                                  augmented_ner_tags augmented_length_check  \n",
       "0  [0, 0, 0, 0, 0, 0, 0, 0, 7, 0, 7, 0, 0, 0, 0, ...                     ok  \n",
       "1                  [0, 0, 0, 0, 0, 0, 0, 1, 2, 2, 0]                     ok  \n",
       "2      [0, 0, 0, 0, 0, 0, 0, 0, 0, 7, 0, 7, 0, 0, 0]                     ok  \n",
       "3  [0, 0, 0, 0, 0, 0, 5, 0, 0, 0, 5, 6, 0, 0, 5, ...                     ok  \n",
       "4   [0, 0, 0, 0, 0, 0, 0, 5, 6, 0, 0, 0, 0, 0, 0, 0]                     ok  "
      ]
     },
     "execution_count": 41,
     "metadata": {},
     "output_type": "execute_result"
    }
   ],
   "source": [
    "df_main.head()"
   ]
  },
  {
   "cell_type": "code",
   "execution_count": 42,
   "id": "8afc8ff1",
   "metadata": {},
   "outputs": [],
   "source": [
    "def filter_non_words(tokens, ner_tags):\n",
    "    \n",
    "    # Remove 'г's, using that just in case there are multiple occurences in one row\n",
    "    if 'г' in tokens:\n",
    "        g_indexes = [index for index, value in enumerate(tokens) if value == 'г']\n",
    "        tokens = [value for index, value in enumerate(tokens) if index not in g_indexes]\n",
    "        \n",
    "    filtered_tags = [tag if token.isalnum() else np.nan for token, tag in zip(tokens, ner_tags)]\n",
    "    filtered_tokens = [token for token in tokens if token != '' ]\n",
    "    return filtered_tokens, [tag for tag in filtered_tags if pd.notnull(tag)]"
   ]
  },
  {
   "cell_type": "code",
   "execution_count": 43,
   "id": "67854bf0",
   "metadata": {},
   "outputs": [
    {
     "data": {
      "application/vnd.jupyter.widget-view+json": {
       "model_id": "5b6a48573dc4417b877427c7e61a2c39",
       "version_major": 2,
       "version_minor": 0
      },
      "text/plain": [
       "VBox(children=(HBox(children=(IntProgress(value=0, description='0.00%', max=5179), Label(value='0 / 5179'))), …"
      ]
     },
     "metadata": {},
     "output_type": "display_data"
    }
   ],
   "source": [
    "df_main[['augmented_tokens', 'augmented_ner_tags']] = df_main.parallel_apply(lambda row: pd.Series(filter_non_words(row['augmented_tokens'], row['augmented_ner_tags'])), axis=1)"
   ]
  },
  {
   "cell_type": "code",
   "execution_count": 44,
   "id": "9f6a4256",
   "metadata": {},
   "outputs": [
    {
     "data": {
      "text/plain": [
       "ok       82836\n",
       "WRONG       22\n",
       "Name: augmented_length_check, dtype: int64"
      ]
     },
     "execution_count": 44,
     "metadata": {},
     "output_type": "execute_result"
    }
   ],
   "source": [
    "df_main['augmented_length_check'] = df_main.apply(lambda row: length_check(row['augmented_tokens'], row['augmented_ner_tags']), axis=1)\n",
    "df_main['augmented_length_check'].value_counts()"
   ]
  },
  {
   "cell_type": "code",
   "execution_count": 45,
   "id": "33bbddfe",
   "metadata": {},
   "outputs": [
    {
     "data": {
      "text/html": [
       "<div>\n",
       "<style scoped>\n",
       "    .dataframe tbody tr th:only-of-type {\n",
       "        vertical-align: middle;\n",
       "    }\n",
       "\n",
       "    .dataframe tbody tr th {\n",
       "        vertical-align: top;\n",
       "    }\n",
       "\n",
       "    .dataframe thead th {\n",
       "        text-align: right;\n",
       "    }\n",
       "</style>\n",
       "<table border=\"1\" class=\"dataframe\">\n",
       "  <thead>\n",
       "    <tr style=\"text-align: right;\">\n",
       "      <th></th>\n",
       "      <th>tokens</th>\n",
       "      <th>ner_tags</th>\n",
       "      <th>len_check</th>\n",
       "      <th>augmented_tokens</th>\n",
       "      <th>augmented_ner_tags</th>\n",
       "      <th>augmented_length_check</th>\n",
       "    </tr>\n",
       "  </thead>\n",
       "  <tbody>\n",
       "    <tr>\n",
       "      <th>1218</th>\n",
       "      <td>[Ещё, одним, источником, романа, послужила, но...</td>\n",
       "      <td>[0, 0, 0, 0, 0, 0, 0, 1, 2, 2, 0, 0, 0, 0, 0, ...</td>\n",
       "      <td>ok</td>\n",
       "      <td>[Ещё, одним, источником, романа, послужила, но...</td>\n",
       "      <td>[0, 0, 0, 0, 0, 0, 0, 1, 2, 2, 0, 0, 0, 0]</td>\n",
       "      <td>WRONG</td>\n",
       "    </tr>\n",
       "    <tr>\n",
       "      <th>7074</th>\n",
       "      <td>[для, «, Библиотеки, всемирной, литературы, »,...</td>\n",
       "      <td>[0, 0, 0, 0, 0, 0, 0, 0, 0, 0, 1, 2, 2, 0, 0, ...</td>\n",
       "      <td>ok</td>\n",
       "      <td>[для, Библиотеки, всемирной, литературы, подго...</td>\n",
       "      <td>[0, 0, 0, 0, 0, 0, 0, 0, 1, 2, 2, 0, 0, 0, 0]</td>\n",
       "      <td>WRONG</td>\n",
       "    </tr>\n",
       "    <tr>\n",
       "      <th>9271</th>\n",
       "      <td>[Порядок, судебного, поединка, в, Чехии, регла...</td>\n",
       "      <td>[0, 0, 0, 0, 5, 0, 0, 0, 0, 0, 0, 0, 0, 0, 0]</td>\n",
       "      <td>ok</td>\n",
       "      <td>[Порядок, судебного, поединка, в, Чехии, регла...</td>\n",
       "      <td>[0, 0, 0, 0, 5, 0, 0, 0, 0]</td>\n",
       "      <td>WRONG</td>\n",
       "    </tr>\n",
       "    <tr>\n",
       "      <th>12708</th>\n",
       "      <td>[На, 2, очка, отстали, Смейкал, и, Андерссон, ...</td>\n",
       "      <td>[0, 0, 0, 0, 1, 0, 1, 0, 0, 0, 0, 0, 1, 0]</td>\n",
       "      <td>ok</td>\n",
       "      <td>[На, 2, очка, отстали, Смейкал, и, Андерссон, ...</td>\n",
       "      <td>[0, 0, 0, 0, 1, 0, 1, 0, 0, 1]</td>\n",
       "      <td>WRONG</td>\n",
       "    </tr>\n",
       "    <tr>\n",
       "      <th>13183</th>\n",
       "      <td>[Со, счётом, 3, ½, :, 6, ½, уступил, звание, ч...</td>\n",
       "      <td>[0, 0, 0, 0, 0, 0, 0, 0, 0, 0, 0, 0, 0, 0, 0, ...</td>\n",
       "      <td>ok</td>\n",
       "      <td>[Со, счётом, 3, с половиной, 6, с половиной, у...</td>\n",
       "      <td>[0, 0, 0, 0, 0, 0, 0, 0, 0, 0, 0, 0, 0, 0, 5]</td>\n",
       "      <td>WRONG</td>\n",
       "    </tr>\n",
       "    <tr>\n",
       "      <th>13188</th>\n",
       "      <td>[В, ноябре, 2014, года, в, российском, городе,...</td>\n",
       "      <td>[0, 0, 0, 0, 0, 0, 0, 5, 0, 0, 0, 0, 0, 0, 0, ...</td>\n",
       "      <td>ok</td>\n",
       "      <td>[В, ноябре, 2014, года, в, российском, городе,...</td>\n",
       "      <td>[0, 0, 0, 0, 0, 0, 0, 5, 0, 0, 0, 0, 0, 0, 0, ...</td>\n",
       "      <td>WRONG</td>\n",
       "    </tr>\n",
       "    <tr>\n",
       "      <th>22591</th>\n",
       "      <td>[Он, выиграл, три, партии, подряд, с, 11-го, п...</td>\n",
       "      <td>[0, 0, 0, 0, 0, 0, 0, 0, 0, 0, 0, 0, 1, 0, 1, ...</td>\n",
       "      <td>ok</td>\n",
       "      <td>[Он, выиграл, три, партии, подряд, с, 11го, по...</td>\n",
       "      <td>[0, 0, 0, 0, 0, 0, 0, 0, 0, 0, 0, 1, 1, 0, 1, ...</td>\n",
       "      <td>WRONG</td>\n",
       "    </tr>\n",
       "    <tr>\n",
       "      <th>23379</th>\n",
       "      <td>[Автор, методического, труда, о, скрипичной, и...</td>\n",
       "      <td>[0, 0, 0, 0, 0, 0, 0, 0, 0, 0, 0, 0, 0, 0, 0, ...</td>\n",
       "      <td>ok</td>\n",
       "      <td>[Автор, методического, труда, о, скрипичной, и...</td>\n",
       "      <td>[0, 0, 0, 0, 0, 0, 0, 0, 0, 0, 0, 5, 0, 0, 0, ...</td>\n",
       "      <td>WRONG</td>\n",
       "    </tr>\n",
       "    <tr>\n",
       "      <th>24486</th>\n",
       "      <td>[Древнеримский, учёный, Плиний, Старший, (, \",...</td>\n",
       "      <td>[0, 0, 1, 2, 0, 0, 0, 0, 0, 0, 0, 0, 0, 0]</td>\n",
       "      <td>ok</td>\n",
       "      <td>[Древнеримский, учёный, Плиний, Старший, Естес...</td>\n",
       "      <td>[0, 0, 1, 2, 0, 0, 0]</td>\n",
       "      <td>WRONG</td>\n",
       "    </tr>\n",
       "    <tr>\n",
       "      <th>36630</th>\n",
       "      <td>[Это, музыкальная, обработка, сценария, Федери...</td>\n",
       "      <td>[0, 0, 0, 0, 1, 2, 0, 0, 0, 0, 0, 0, 0, 0, 0, ...</td>\n",
       "      <td>ok</td>\n",
       "      <td>[Это, музыкальная, обработка, сценария, Федери...</td>\n",
       "      <td>[0, 0, 0, 0, 1, 2, 0, 0, 0, 0, 0, 0]</td>\n",
       "      <td>WRONG</td>\n",
       "    </tr>\n",
       "    <tr>\n",
       "      <th>38462</th>\n",
       "      <td>[В, 1978, выиграл, матч, у, У., Андерссона, :,...</td>\n",
       "      <td>[0, 0, 0, 0, 0, 1, 2, 0, 0, 0, 0, 0, 0, 0, 0, ...</td>\n",
       "      <td>ok</td>\n",
       "      <td>[В, 1978, выиграл, матч, у, У, Андерссона, 6, ...</td>\n",
       "      <td>[0, 0, 0, 0, 0, 1, 2, 0, 0, 0, 0, 0]</td>\n",
       "      <td>WRONG</td>\n",
       "    </tr>\n",
       "    <tr>\n",
       "      <th>54851</th>\n",
       "      <td>[\", «, 8, ½, женщин, », \", (, \", «, Восемь, с,...</td>\n",
       "      <td>[0, 0, 0, 0, 0, 0, 0, 0, 0, 0, 0, 0, 0, 0, 0, ...</td>\n",
       "      <td>ok</td>\n",
       "      <td>[8, с половиной, женщин, Восемь, с, половиной,...</td>\n",
       "      <td>[0, 0, 0, 0, 0, 0, 0, 1, 2]</td>\n",
       "      <td>WRONG</td>\n",
       "    </tr>\n",
       "    <tr>\n",
       "      <th>55130</th>\n",
       "      <td>[org, /, 10x10, -, the-film, /, the-writers, /...</td>\n",
       "      <td>[0, 0, 0, 0, 0, 0, 0, 0, 0, 0, 0, 0, 0, 0, 0, ...</td>\n",
       "      <td>ok</td>\n",
       "      <td>[org, 10x10, thefilm, thewriters, http10x10act...</td>\n",
       "      <td>[0, 0, 0, 0, 0, 0, 0, 0, 0, 0, 0, 0, 7]</td>\n",
       "      <td>WRONG</td>\n",
       "    </tr>\n",
       "    <tr>\n",
       "      <th>56074</th>\n",
       "      <td>[По, данным, Международного, союза, охраны, пр...</td>\n",
       "      <td>[0, 0, 3, 4, 4, 4, 0, 0, 0, 0, 0, 0, 0, 0, 0, 0]</td>\n",
       "      <td>ok</td>\n",
       "      <td>[По, данным, Международного, союза, охраны, пр...</td>\n",
       "      <td>[0, 0, 3, 4, 4, 4, 0, 0, 0, 0, 0]</td>\n",
       "      <td>WRONG</td>\n",
       "    </tr>\n",
       "    <tr>\n",
       "      <th>56276</th>\n",
       "      <td>[\", «, Утиный, суп, », \", (, ), -, американски...</td>\n",
       "      <td>[0, 0, 0, 0, 0, 0, 0, 0, 0, 0, 0, 0, 0, 0, 0, ...</td>\n",
       "      <td>ok</td>\n",
       "      <td>[Утиный, суп, американский, httpsbooksgoogleco...</td>\n",
       "      <td>[0, 0, 0, 0, 0, 0, 0, 0, 0, 0, 0, 0, 0, 0, 0, ...</td>\n",
       "      <td>WRONG</td>\n",
       "    </tr>\n",
       "    <tr>\n",
       "      <th>56291</th>\n",
       "      <td>[В, Апеннинах, этот, краб, встречается, только...</td>\n",
       "      <td>[0, 5, 0, 0, 0, 0, 0, 0, 0, 0, 0, 0, 0, 0, 0, ...</td>\n",
       "      <td>ok</td>\n",
       "      <td>[В, Апеннинах, этот, краб, встречается, только...</td>\n",
       "      <td>[0, 5, 0, 0, 0, 0, 0, 0, 0, 0, 0, 0, 0, 0, 0, ...</td>\n",
       "      <td>WRONG</td>\n",
       "    </tr>\n",
       "    <tr>\n",
       "      <th>59708</th>\n",
       "      <td>[Первой, стала, \", Duck, Dodgers, in, the, 24,...</td>\n",
       "      <td>[0, 0, 0, 7, 8, 8, 8, 8, 8, 8, 8, 0, 0, 0, 0, ...</td>\n",
       "      <td>ok</td>\n",
       "      <td>[Первой, стала, Duck, Dodgers, in, the, 24, с ...</td>\n",
       "      <td>[0, 0, 7, 8, 8, 8, 8, 8, 8, 0, 0, 1, 2]</td>\n",
       "      <td>WRONG</td>\n",
       "    </tr>\n",
       "    <tr>\n",
       "      <th>60039</th>\n",
       "      <td>[Впоследствии, Гюстав, Кориолис, внёс, в, опре...</td>\n",
       "      <td>[0, 1, 2, 0, 0, 0, 0, 0, 0, 0, 0, 0, 0, 0, 0, ...</td>\n",
       "      <td>ok</td>\n",
       "      <td>[Впоследствии, Гюстав, Кориолис, внёс, в, опре...</td>\n",
       "      <td>[0, 1, 2, 0, 0, 0, 0, 0, 0, 0, 0, 0, 0, 0, 0, ...</td>\n",
       "      <td>WRONG</td>\n",
       "    </tr>\n",
       "    <tr>\n",
       "      <th>62222</th>\n",
       "      <td>[Для, приготовления, традиционного, салата, из...</td>\n",
       "      <td>[0, 0, 0, 0, 0, 0, 0, 0, 0, 0, 0, 0, 7, 8, 0, ...</td>\n",
       "      <td>ok</td>\n",
       "      <td>[Для, приготовления, традиционного, салата, из...</td>\n",
       "      <td>[0, 0, 0, 0, 0, 0, 0, 0, 0, 0, 0, 7, 8, 0, 0, ...</td>\n",
       "      <td>WRONG</td>\n",
       "    </tr>\n",
       "    <tr>\n",
       "      <th>62724</th>\n",
       "      <td>[Отдельные, города, чеканили, монеты, тех, же,...</td>\n",
       "      <td>[0, 0, 0, 0, 0, 0, 0, 0, 0, 0, 5, 0, 0, 0, 0, ...</td>\n",
       "      <td>ok</td>\n",
       "      <td>[Отдельные, города, чеканили, монеты, тех, же,...</td>\n",
       "      <td>[0, 0, 0, 0, 0, 0, 0, 0, 0, 5, 0, 0, 0, 0, 0, ...</td>\n",
       "      <td>WRONG</td>\n",
       "    </tr>\n",
       "    <tr>\n",
       "      <th>81801</th>\n",
       "      <td>[На, самих, играх, сказалось, отсутствие, опыт...</td>\n",
       "      <td>[0, 0, 0, 0, 0, 0, 0, 0, 0, 0, 0, 0, 0, 0, 0, ...</td>\n",
       "      <td>ok</td>\n",
       "      <td>[На, самих, играх, сказалось, отсутствие, опыт...</td>\n",
       "      <td>[0, 0, 0, 0, 0, 0, 0, 0, 0, 0, 0, 0, 0, 0, 0, ...</td>\n",
       "      <td>WRONG</td>\n",
       "    </tr>\n",
       "    <tr>\n",
       "      <th>82046</th>\n",
       "      <td>[содержания, ,, например, ,, «, Искупление, »,...</td>\n",
       "      <td>[0, 0, 0, 0, 0, 0, 0, 1, 2, 0, 0, 0, 0, 0, 0, ...</td>\n",
       "      <td>ok</td>\n",
       "      <td>[содержания, например, Искупление, С, Франка, ...</td>\n",
       "      <td>[0, 0, 0, 1, 2, 0, 0, 0, 0, 0, 0, 1, 2, 0, 0, ...</td>\n",
       "      <td>WRONG</td>\n",
       "    </tr>\n",
       "  </tbody>\n",
       "</table>\n",
       "</div>"
      ],
      "text/plain": [
       "                                                  tokens  \\\n",
       "1218   [Ещё, одним, источником, романа, послужила, но...   \n",
       "7074   [для, «, Библиотеки, всемирной, литературы, »,...   \n",
       "9271   [Порядок, судебного, поединка, в, Чехии, регла...   \n",
       "12708  [На, 2, очка, отстали, Смейкал, и, Андерссон, ...   \n",
       "13183  [Со, счётом, 3, ½, :, 6, ½, уступил, звание, ч...   \n",
       "13188  [В, ноябре, 2014, года, в, российском, городе,...   \n",
       "22591  [Он, выиграл, три, партии, подряд, с, 11-го, п...   \n",
       "23379  [Автор, методического, труда, о, скрипичной, и...   \n",
       "24486  [Древнеримский, учёный, Плиний, Старший, (, \",...   \n",
       "36630  [Это, музыкальная, обработка, сценария, Федери...   \n",
       "38462  [В, 1978, выиграл, матч, у, У., Андерссона, :,...   \n",
       "54851  [\", «, 8, ½, женщин, », \", (, \", «, Восемь, с,...   \n",
       "55130  [org, /, 10x10, -, the-film, /, the-writers, /...   \n",
       "56074  [По, данным, Международного, союза, охраны, пр...   \n",
       "56276  [\", «, Утиный, суп, », \", (, ), -, американски...   \n",
       "56291  [В, Апеннинах, этот, краб, встречается, только...   \n",
       "59708  [Первой, стала, \", Duck, Dodgers, in, the, 24,...   \n",
       "60039  [Впоследствии, Гюстав, Кориолис, внёс, в, опре...   \n",
       "62222  [Для, приготовления, традиционного, салата, из...   \n",
       "62724  [Отдельные, города, чеканили, монеты, тех, же,...   \n",
       "81801  [На, самих, играх, сказалось, отсутствие, опыт...   \n",
       "82046  [содержания, ,, например, ,, «, Искупление, »,...   \n",
       "\n",
       "                                                ner_tags len_check  \\\n",
       "1218   [0, 0, 0, 0, 0, 0, 0, 1, 2, 2, 0, 0, 0, 0, 0, ...        ok   \n",
       "7074   [0, 0, 0, 0, 0, 0, 0, 0, 0, 0, 1, 2, 2, 0, 0, ...        ok   \n",
       "9271       [0, 0, 0, 0, 5, 0, 0, 0, 0, 0, 0, 0, 0, 0, 0]        ok   \n",
       "12708         [0, 0, 0, 0, 1, 0, 1, 0, 0, 0, 0, 0, 1, 0]        ok   \n",
       "13183  [0, 0, 0, 0, 0, 0, 0, 0, 0, 0, 0, 0, 0, 0, 0, ...        ok   \n",
       "13188  [0, 0, 0, 0, 0, 0, 0, 5, 0, 0, 0, 0, 0, 0, 0, ...        ok   \n",
       "22591  [0, 0, 0, 0, 0, 0, 0, 0, 0, 0, 0, 0, 1, 0, 1, ...        ok   \n",
       "23379  [0, 0, 0, 0, 0, 0, 0, 0, 0, 0, 0, 0, 0, 0, 0, ...        ok   \n",
       "24486         [0, 0, 1, 2, 0, 0, 0, 0, 0, 0, 0, 0, 0, 0]        ok   \n",
       "36630  [0, 0, 0, 0, 1, 2, 0, 0, 0, 0, 0, 0, 0, 0, 0, ...        ok   \n",
       "38462  [0, 0, 0, 0, 0, 1, 2, 0, 0, 0, 0, 0, 0, 0, 0, ...        ok   \n",
       "54851  [0, 0, 0, 0, 0, 0, 0, 0, 0, 0, 0, 0, 0, 0, 0, ...        ok   \n",
       "55130  [0, 0, 0, 0, 0, 0, 0, 0, 0, 0, 0, 0, 0, 0, 0, ...        ok   \n",
       "56074   [0, 0, 3, 4, 4, 4, 0, 0, 0, 0, 0, 0, 0, 0, 0, 0]        ok   \n",
       "56276  [0, 0, 0, 0, 0, 0, 0, 0, 0, 0, 0, 0, 0, 0, 0, ...        ok   \n",
       "56291  [0, 5, 0, 0, 0, 0, 0, 0, 0, 0, 0, 0, 0, 0, 0, ...        ok   \n",
       "59708  [0, 0, 0, 7, 8, 8, 8, 8, 8, 8, 8, 0, 0, 0, 0, ...        ok   \n",
       "60039  [0, 1, 2, 0, 0, 0, 0, 0, 0, 0, 0, 0, 0, 0, 0, ...        ok   \n",
       "62222  [0, 0, 0, 0, 0, 0, 0, 0, 0, 0, 0, 0, 7, 8, 0, ...        ok   \n",
       "62724  [0, 0, 0, 0, 0, 0, 0, 0, 0, 0, 5, 0, 0, 0, 0, ...        ok   \n",
       "81801  [0, 0, 0, 0, 0, 0, 0, 0, 0, 0, 0, 0, 0, 0, 0, ...        ok   \n",
       "82046  [0, 0, 0, 0, 0, 0, 0, 1, 2, 0, 0, 0, 0, 0, 0, ...        ok   \n",
       "\n",
       "                                        augmented_tokens  \\\n",
       "1218   [Ещё, одним, источником, романа, послужила, но...   \n",
       "7074   [для, Библиотеки, всемирной, литературы, подго...   \n",
       "9271   [Порядок, судебного, поединка, в, Чехии, регла...   \n",
       "12708  [На, 2, очка, отстали, Смейкал, и, Андерссон, ...   \n",
       "13183  [Со, счётом, 3, с половиной, 6, с половиной, у...   \n",
       "13188  [В, ноябре, 2014, года, в, российском, городе,...   \n",
       "22591  [Он, выиграл, три, партии, подряд, с, 11го, по...   \n",
       "23379  [Автор, методического, труда, о, скрипичной, и...   \n",
       "24486  [Древнеримский, учёный, Плиний, Старший, Естес...   \n",
       "36630  [Это, музыкальная, обработка, сценария, Федери...   \n",
       "38462  [В, 1978, выиграл, матч, у, У, Андерссона, 6, ...   \n",
       "54851  [8, с половиной, женщин, Восемь, с, половиной,...   \n",
       "55130  [org, 10x10, thefilm, thewriters, http10x10act...   \n",
       "56074  [По, данным, Международного, союза, охраны, пр...   \n",
       "56276  [Утиный, суп, американский, httpsbooksgoogleco...   \n",
       "56291  [В, Апеннинах, этот, краб, встречается, только...   \n",
       "59708  [Первой, стала, Duck, Dodgers, in, the, 24, с ...   \n",
       "60039  [Впоследствии, Гюстав, Кориолис, внёс, в, опре...   \n",
       "62222  [Для, приготовления, традиционного, салата, из...   \n",
       "62724  [Отдельные, города, чеканили, монеты, тех, же,...   \n",
       "81801  [На, самих, играх, сказалось, отсутствие, опыт...   \n",
       "82046  [содержания, например, Искупление, С, Франка, ...   \n",
       "\n",
       "                                      augmented_ner_tags  \\\n",
       "1218          [0, 0, 0, 0, 0, 0, 0, 1, 2, 2, 0, 0, 0, 0]   \n",
       "7074       [0, 0, 0, 0, 0, 0, 0, 0, 1, 2, 2, 0, 0, 0, 0]   \n",
       "9271                         [0, 0, 0, 0, 5, 0, 0, 0, 0]   \n",
       "12708                     [0, 0, 0, 0, 1, 0, 1, 0, 0, 1]   \n",
       "13183      [0, 0, 0, 0, 0, 0, 0, 0, 0, 0, 0, 0, 0, 0, 5]   \n",
       "13188  [0, 0, 0, 0, 0, 0, 0, 5, 0, 0, 0, 0, 0, 0, 0, ...   \n",
       "22591  [0, 0, 0, 0, 0, 0, 0, 0, 0, 0, 0, 1, 1, 0, 1, ...   \n",
       "23379  [0, 0, 0, 0, 0, 0, 0, 0, 0, 0, 0, 5, 0, 0, 0, ...   \n",
       "24486                              [0, 0, 1, 2, 0, 0, 0]   \n",
       "36630               [0, 0, 0, 0, 1, 2, 0, 0, 0, 0, 0, 0]   \n",
       "38462               [0, 0, 0, 0, 0, 1, 2, 0, 0, 0, 0, 0]   \n",
       "54851                        [0, 0, 0, 0, 0, 0, 0, 1, 2]   \n",
       "55130            [0, 0, 0, 0, 0, 0, 0, 0, 0, 0, 0, 0, 7]   \n",
       "56074                  [0, 0, 3, 4, 4, 4, 0, 0, 0, 0, 0]   \n",
       "56276  [0, 0, 0, 0, 0, 0, 0, 0, 0, 0, 0, 0, 0, 0, 0, ...   \n",
       "56291  [0, 5, 0, 0, 0, 0, 0, 0, 0, 0, 0, 0, 0, 0, 0, ...   \n",
       "59708            [0, 0, 7, 8, 8, 8, 8, 8, 8, 0, 0, 1, 2]   \n",
       "60039  [0, 1, 2, 0, 0, 0, 0, 0, 0, 0, 0, 0, 0, 0, 0, ...   \n",
       "62222  [0, 0, 0, 0, 0, 0, 0, 0, 0, 0, 0, 7, 8, 0, 0, ...   \n",
       "62724  [0, 0, 0, 0, 0, 0, 0, 0, 0, 5, 0, 0, 0, 0, 0, ...   \n",
       "81801  [0, 0, 0, 0, 0, 0, 0, 0, 0, 0, 0, 0, 0, 0, 0, ...   \n",
       "82046  [0, 0, 0, 1, 2, 0, 0, 0, 0, 0, 0, 1, 2, 0, 0, ...   \n",
       "\n",
       "      augmented_length_check  \n",
       "1218                   WRONG  \n",
       "7074                   WRONG  \n",
       "9271                   WRONG  \n",
       "12708                  WRONG  \n",
       "13183                  WRONG  \n",
       "13188                  WRONG  \n",
       "22591                  WRONG  \n",
       "23379                  WRONG  \n",
       "24486                  WRONG  \n",
       "36630                  WRONG  \n",
       "38462                  WRONG  \n",
       "54851                  WRONG  \n",
       "55130                  WRONG  \n",
       "56074                  WRONG  \n",
       "56276                  WRONG  \n",
       "56291                  WRONG  \n",
       "59708                  WRONG  \n",
       "60039                  WRONG  \n",
       "62222                  WRONG  \n",
       "62724                  WRONG  \n",
       "81801                  WRONG  \n",
       "82046                  WRONG  "
      ]
     },
     "execution_count": 45,
     "metadata": {},
     "output_type": "execute_result"
    }
   ],
   "source": [
    "df_main[df_main['augmented_length_check']== 'WRONG']"
   ]
  },
  {
   "cell_type": "code",
   "execution_count": 46,
   "id": "0f3504e8",
   "metadata": {},
   "outputs": [],
   "source": [
    "df_main.drop(df_main[df_main['augmented_length_check'] == 'WRONG'].index, inplace=True)\n",
    "df_main.reset_index(drop=True, inplace=True)"
   ]
  },
  {
   "cell_type": "code",
   "execution_count": 47,
   "id": "77db1fc1",
   "metadata": {},
   "outputs": [],
   "source": [
    "def look_for_trash(trash):\n",
    "    for i in range(len(df_main)):\n",
    "        if trash in df_main['augmented_tokens'][i]:\n",
    "            print(i)\n",
    "            print(df_main['augmented_tokens'][i])"
   ]
  },
  {
   "cell_type": "code",
   "execution_count": 48,
   "id": "40f6abe2",
   "metadata": {},
   "outputs": [
    {
     "name": "stdout",
     "output_type": "stream",
     "text": [
      "3309\n",
      "['Селективные', 'антагонисты', '5HT', '₆', 'рецепторов', 'такие', 'как', 'латрепирдин', 'идалопирдин', 'Lu', 'AE58054', 'и', 'SB742', '457', 'в', 'настоящее', 'время', 'проходят', 'клинические', 'испытания', 'в', 'качестве', 'потенциальных', 'новых', 'средств', 'лечения', 'болезни', 'Альцгеймера', 'и', 'других', 'форм', 'деменции']\n",
      "74469\n",
      "['В', 'последнее', 'время', 'селективные', 'агонисты', '5HT', '₆', 'рецепторов', 'WAY181', '187', 'и', 'WAY208', '466', 'показали', 'активность', 'в', 'моделях', 'на', 'крысах', 'таких', 'психических', 'заболеваний', 'как', 'большая', 'депрессия', 'тревожные', 'расстройства', 'обсессивнокомпульсивное', 'расстройство', 'ОКР']\n"
     ]
    }
   ],
   "source": [
    "trash_1 = '₆'\n",
    "look_for_trash(trash_1)"
   ]
  },
  {
   "cell_type": "code",
   "execution_count": 49,
   "id": "de3e5909",
   "metadata": {},
   "outputs": [],
   "source": [
    "del df_main['augmented_tokens'][3309][3]\n",
    "del df_main['augmented_ner_tags'][3309][3]"
   ]
  },
  {
   "cell_type": "code",
   "execution_count": 50,
   "id": "d1811e92",
   "metadata": {},
   "outputs": [],
   "source": [
    "del df_main['augmented_tokens'][74469][6]\n",
    "del df_main['augmented_ner_tags'][74469][6]"
   ]
  },
  {
   "cell_type": "code",
   "execution_count": 51,
   "id": "6aea4cb7",
   "metadata": {},
   "outputs": [
    {
     "name": "stdout",
     "output_type": "stream",
     "text": [
      "11644\n",
      "['И', 'напротив', 'было', 'показано', 'что', 'антагонисты', '5HT', '₁', 'рецепторов', 'такие', 'как', 'лекозотан', 'способны', 'улучшать', 'определённые', 'аспекты', 'обучаемости', 'и', 'памяти', 'по', 'крайней', 'мере', 'в', 'опытах', 'на', 'крысах', 'и', 'как', 'следствие', 'в', 'настоящее', 'время', 'изучаются', 'в', 'качестве', 'потенциальных', 'кандидатов', 'на', 'лекарства', 'для', 'лечения', 'болезни', 'Альцгеймера']\n"
     ]
    }
   ],
   "source": [
    "trash_2 = '₁'\n",
    "look_for_trash(trash_2)"
   ]
  },
  {
   "cell_type": "code",
   "execution_count": 52,
   "id": "5bce5448",
   "metadata": {},
   "outputs": [],
   "source": [
    "del df_main['augmented_tokens'][11644][7]\n",
    "del df_main['augmented_ner_tags'][11644][7]"
   ]
  },
  {
   "cell_type": "code",
   "execution_count": 53,
   "id": "92844ae8",
   "metadata": {},
   "outputs": [
    {
     "name": "stdout",
     "output_type": "stream",
     "text": [
      "29534\n",
      "['Из', '6', 'территории', 'страны', 'покрытых', 'лесом', 'около', '⅔', 'являются', 'искусственными', 'насаждениями', 'а', 'также', 'тысячи', 'видов', 'насекомых', 'включая', 'более', 'ста', 'видов', 'бабочек']\n"
     ]
    }
   ],
   "source": [
    "trash_3 = '⅔'\n",
    "look_for_trash(trash_3)"
   ]
  },
  {
   "cell_type": "code",
   "execution_count": 54,
   "id": "9f227a1f",
   "metadata": {},
   "outputs": [
    {
     "data": {
      "text/plain": [
       "7"
      ]
     },
     "execution_count": 54,
     "metadata": {},
     "output_type": "execute_result"
    }
   ],
   "source": [
    "df_main['augmented_tokens'][29534].index(trash_3)"
   ]
  },
  {
   "cell_type": "code",
   "execution_count": 55,
   "id": "d9a019db",
   "metadata": {},
   "outputs": [],
   "source": [
    "df_main['augmented_tokens'][29534].insert(7, 'двух')\n",
    "df_main['augmented_tokens'][29534].insert(8, 'третей')"
   ]
  },
  {
   "cell_type": "code",
   "execution_count": 56,
   "id": "581902d6",
   "metadata": {},
   "outputs": [],
   "source": [
    "del df_main['augmented_tokens'][29534][9]"
   ]
  },
  {
   "cell_type": "code",
   "execution_count": 57,
   "id": "9e6b8d42",
   "metadata": {},
   "outputs": [],
   "source": [
    "tag_to_indert = df_main['augmented_ner_tags'][29534][7]"
   ]
  },
  {
   "cell_type": "code",
   "execution_count": 58,
   "id": "248a5c73",
   "metadata": {},
   "outputs": [],
   "source": [
    "df_main['augmented_ner_tags'][29534].insert(7, tag_to_indert)"
   ]
  },
  {
   "cell_type": "code",
   "execution_count": 59,
   "id": "0c4c23b6",
   "metadata": {},
   "outputs": [
    {
     "data": {
      "text/plain": [
       "82836"
      ]
     },
     "execution_count": 59,
     "metadata": {},
     "output_type": "execute_result"
    }
   ],
   "source": [
    "len(df_main)"
   ]
  },
  {
   "cell_type": "code",
   "execution_count": null,
   "id": "358f5db4",
   "metadata": {},
   "outputs": [],
   "source": []
  },
  {
   "cell_type": "code",
   "execution_count": 60,
   "id": "929e5337",
   "metadata": {},
   "outputs": [],
   "source": [
    "def replace_numerical_with_words(tokens, ner_tags):\n",
    "    adjusted_ner_tags = []\n",
    "    \n",
    "    for i, token in enumerate(tokens):\n",
    "        if token.isnumeric():\n",
    "            index = i\n",
    "            new_tokens = num2words(int(token), lang='ru').split()\n",
    "            tag_to_insert = ner_tags[i]\n",
    "            count = len(new_tokens)\n",
    "            del ner_tags[i]\n",
    "            del tokens[i] \n",
    "            for _ in range(len(new_tokens)):\n",
    "                ner_tags.insert(index, tag_to_insert)\n",
    "                tokens.insert(index, new_tokens[_])\n",
    "                index += 1 \n",
    "                \n",
    "    return tokens, ner_tags"
   ]
  },
  {
   "cell_type": "code",
   "execution_count": 61,
   "id": "dda267c7",
   "metadata": {},
   "outputs": [
    {
     "data": {
      "application/vnd.jupyter.widget-view+json": {
       "model_id": "a44d9f8a575c4c4f93482100a7303c36",
       "version_major": 2,
       "version_minor": 0
      },
      "text/plain": [
       "VBox(children=(HBox(children=(IntProgress(value=0, description='0.00%', max=5178), Label(value='0 / 5178'))), …"
      ]
     },
     "metadata": {},
     "output_type": "display_data"
    }
   ],
   "source": [
    "df_main[['augmented_tokens', 'augmented_ner_tags']] = df_main.parallel_apply(lambda row: pd.Series(replace_numerical_with_words(row['augmented_tokens'], row['augmented_ner_tags'])), axis=1)"
   ]
  },
  {
   "cell_type": "code",
   "execution_count": 62,
   "id": "4c4c35f2",
   "metadata": {},
   "outputs": [
    {
     "data": {
      "text/html": [
       "<div>\n",
       "<style scoped>\n",
       "    .dataframe tbody tr th:only-of-type {\n",
       "        vertical-align: middle;\n",
       "    }\n",
       "\n",
       "    .dataframe tbody tr th {\n",
       "        vertical-align: top;\n",
       "    }\n",
       "\n",
       "    .dataframe thead th {\n",
       "        text-align: right;\n",
       "    }\n",
       "</style>\n",
       "<table border=\"1\" class=\"dataframe\">\n",
       "  <thead>\n",
       "    <tr style=\"text-align: right;\">\n",
       "      <th></th>\n",
       "      <th>tokens</th>\n",
       "      <th>ner_tags</th>\n",
       "      <th>len_check</th>\n",
       "      <th>augmented_tokens</th>\n",
       "      <th>augmented_ner_tags</th>\n",
       "      <th>augmented_length_check</th>\n",
       "    </tr>\n",
       "  </thead>\n",
       "  <tbody>\n",
       "    <tr>\n",
       "      <th>0</th>\n",
       "      <td>[Существовали, виды, ,, напоминавшие, вследств...</td>\n",
       "      <td>[0, 0, 0, 0, 0, 0, 0, 0, 7, 0, 7, 0, 0, 0, 0, ...</td>\n",
       "      <td>ok</td>\n",
       "      <td>[Существовали, виды, напоминавшие, вследствие,...</td>\n",
       "      <td>[0, 0, 0, 0, 0, 0, 0, 7, 7, 0, 0, 0, 0, 0, 0]</td>\n",
       "      <td>ok</td>\n",
       "    </tr>\n",
       "    <tr>\n",
       "      <th>1</th>\n",
       "      <td>[Экранизация, одноимённого, произведения, 1982...</td>\n",
       "      <td>[0, 0, 0, 0, 0, 0, 0, 1, 2, 2, 0]</td>\n",
       "      <td>ok</td>\n",
       "      <td>[Экранизация, одноимённого, произведения, одна...</td>\n",
       "      <td>[0, 0, 0, 0, 0, 0, 0, 0, 0, 0, 1, 2, 2]</td>\n",
       "      <td>ok</td>\n",
       "    </tr>\n",
       "    <tr>\n",
       "      <th>2</th>\n",
       "      <td>[\", Карликовые, гремучники, \", (, ), -, род, я...</td>\n",
       "      <td>[0, 0, 0, 0, 0, 0, 0, 0, 0, 7, 0, 7, 0, 0, 0]</td>\n",
       "      <td>ok</td>\n",
       "      <td>[Карликовые, гремучники, род, ядовитых, змей, ...</td>\n",
       "      <td>[0, 0, 0, 0, 7, 0, 7, 0, 0]</td>\n",
       "      <td>ok</td>\n",
       "    </tr>\n",
       "    <tr>\n",
       "      <th>3</th>\n",
       "      <td>[В, 1638, году, на, берегах, реки, Делавэр, бы...</td>\n",
       "      <td>[0, 0, 0, 0, 0, 0, 5, 0, 0, 0, 5, 6, 0, 0, 5, ...</td>\n",
       "      <td>ok</td>\n",
       "      <td>[В, одна, тысяча, шестьсот, тридцать, восемь, ...</td>\n",
       "      <td>[0, 0, 0, 0, 0, 0, 0, 0, 0, 0, 5, 0, 0, 0, 5, ...</td>\n",
       "      <td>ok</td>\n",
       "    </tr>\n",
       "    <tr>\n",
       "      <th>4</th>\n",
       "      <td>[Кроме, этого, ,, распространён, на, западном,...</td>\n",
       "      <td>[0, 0, 0, 0, 0, 0, 0, 5, 6, 0, 0, 0, 0, 0, 0, 0]</td>\n",
       "      <td>ok</td>\n",
       "      <td>[Кроме, этого, распространён, на, западном, бе...</td>\n",
       "      <td>[0, 0, 0, 0, 0, 0, 5, 6, 0, 0, 0, 0, 0]</td>\n",
       "      <td>ok</td>\n",
       "    </tr>\n",
       "    <tr>\n",
       "      <th>...</th>\n",
       "      <td>...</td>\n",
       "      <td>...</td>\n",
       "      <td>...</td>\n",
       "      <td>...</td>\n",
       "      <td>...</td>\n",
       "      <td>...</td>\n",
       "    </tr>\n",
       "    <tr>\n",
       "      <th>82831</th>\n",
       "      <td>[Дебютировал, в, матче, 1, тура, против, «, Ми...</td>\n",
       "      <td>[0, 0, 0, 0, 0, 0, 3, 4, 4, 0]</td>\n",
       "      <td>ok</td>\n",
       "      <td>[Дебютировал, в, матче, один, тура, против, Ми...</td>\n",
       "      <td>[0, 0, 0, 0, 0, 0, 4]</td>\n",
       "      <td>ok</td>\n",
       "    </tr>\n",
       "    <tr>\n",
       "      <th>82832</th>\n",
       "      <td>[Дебют, состоялся, 26, туре, против, «, Сибири...</td>\n",
       "      <td>[0, 0, 0, 0, 0, 3, 4, 4, 0]</td>\n",
       "      <td>ok</td>\n",
       "      <td>[Дебют, состоялся, двадцать, шесть, туре, прот...</td>\n",
       "      <td>[0, 0, 0, 0, 0, 0, 4]</td>\n",
       "      <td>ok</td>\n",
       "    </tr>\n",
       "    <tr>\n",
       "      <th>82833</th>\n",
       "      <td>[Эктор, также, представлял, свою, страну, на, ...</td>\n",
       "      <td>[0, 0, 0, 0, 0, 0, 7, 8, 8, 0, 7, 8, 8, 8, 0]</td>\n",
       "      <td>ok</td>\n",
       "      <td>[Эктор, также, представлял, свою, страну, на, ...</td>\n",
       "      <td>[0, 0, 0, 0, 0, 0, 7, 8, 8, 8, 8, 0, 7, 8, 8, ...</td>\n",
       "      <td>ok</td>\n",
       "    </tr>\n",
       "    <tr>\n",
       "      <th>82834</th>\n",
       "      <td>[Q, дал, альбому, четыре, звезды, из, пяти, .]</td>\n",
       "      <td>[7, 0, 0, 0, 0, 0, 0, 0]</td>\n",
       "      <td>ok</td>\n",
       "      <td>[Q, дал, альбому, четыре, звезды, из, пяти]</td>\n",
       "      <td>[7, 0, 0, 0, 0, 0, 0]</td>\n",
       "      <td>ok</td>\n",
       "    </tr>\n",
       "    <tr>\n",
       "      <th>82835</th>\n",
       "      <td>[Большие, ,, толстые, рога, самцов, ,, как, по...</td>\n",
       "      <td>[0, 0, 0, 0, 0, 0, 0, 0, 0, 0, 0, 0, 0, 0, 0, ...</td>\n",
       "      <td>ok</td>\n",
       "      <td>[Большие, толстые, рога, самцов, как, полагают...</td>\n",
       "      <td>[0, 0, 0, 0, 0, 0, 0, 0, 0, 0, 0, 0, 0, 0, 0, ...</td>\n",
       "      <td>ok</td>\n",
       "    </tr>\n",
       "  </tbody>\n",
       "</table>\n",
       "<p>82836 rows × 6 columns</p>\n",
       "</div>"
      ],
      "text/plain": [
       "                                                  tokens  \\\n",
       "0      [Существовали, виды, ,, напоминавшие, вследств...   \n",
       "1      [Экранизация, одноимённого, произведения, 1982...   \n",
       "2      [\", Карликовые, гремучники, \", (, ), -, род, я...   \n",
       "3      [В, 1638, году, на, берегах, реки, Делавэр, бы...   \n",
       "4      [Кроме, этого, ,, распространён, на, западном,...   \n",
       "...                                                  ...   \n",
       "82831  [Дебютировал, в, матче, 1, тура, против, «, Ми...   \n",
       "82832  [Дебют, состоялся, 26, туре, против, «, Сибири...   \n",
       "82833  [Эктор, также, представлял, свою, страну, на, ...   \n",
       "82834     [Q, дал, альбому, четыре, звезды, из, пяти, .]   \n",
       "82835  [Большие, ,, толстые, рога, самцов, ,, как, по...   \n",
       "\n",
       "                                                ner_tags len_check  \\\n",
       "0      [0, 0, 0, 0, 0, 0, 0, 0, 7, 0, 7, 0, 0, 0, 0, ...        ok   \n",
       "1                      [0, 0, 0, 0, 0, 0, 0, 1, 2, 2, 0]        ok   \n",
       "2          [0, 0, 0, 0, 0, 0, 0, 0, 0, 7, 0, 7, 0, 0, 0]        ok   \n",
       "3      [0, 0, 0, 0, 0, 0, 5, 0, 0, 0, 5, 6, 0, 0, 5, ...        ok   \n",
       "4       [0, 0, 0, 0, 0, 0, 0, 5, 6, 0, 0, 0, 0, 0, 0, 0]        ok   \n",
       "...                                                  ...       ...   \n",
       "82831                     [0, 0, 0, 0, 0, 0, 3, 4, 4, 0]        ok   \n",
       "82832                        [0, 0, 0, 0, 0, 3, 4, 4, 0]        ok   \n",
       "82833      [0, 0, 0, 0, 0, 0, 7, 8, 8, 0, 7, 8, 8, 8, 0]        ok   \n",
       "82834                           [7, 0, 0, 0, 0, 0, 0, 0]        ok   \n",
       "82835  [0, 0, 0, 0, 0, 0, 0, 0, 0, 0, 0, 0, 0, 0, 0, ...        ok   \n",
       "\n",
       "                                        augmented_tokens  \\\n",
       "0      [Существовали, виды, напоминавшие, вследствие,...   \n",
       "1      [Экранизация, одноимённого, произведения, одна...   \n",
       "2      [Карликовые, гремучники, род, ядовитых, змей, ...   \n",
       "3      [В, одна, тысяча, шестьсот, тридцать, восемь, ...   \n",
       "4      [Кроме, этого, распространён, на, западном, бе...   \n",
       "...                                                  ...   \n",
       "82831  [Дебютировал, в, матче, один, тура, против, Ми...   \n",
       "82832  [Дебют, состоялся, двадцать, шесть, туре, прот...   \n",
       "82833  [Эктор, также, представлял, свою, страну, на, ...   \n",
       "82834        [Q, дал, альбому, четыре, звезды, из, пяти]   \n",
       "82835  [Большие, толстые, рога, самцов, как, полагают...   \n",
       "\n",
       "                                      augmented_ner_tags  \\\n",
       "0          [0, 0, 0, 0, 0, 0, 0, 7, 7, 0, 0, 0, 0, 0, 0]   \n",
       "1                [0, 0, 0, 0, 0, 0, 0, 0, 0, 0, 1, 2, 2]   \n",
       "2                            [0, 0, 0, 0, 7, 0, 7, 0, 0]   \n",
       "3      [0, 0, 0, 0, 0, 0, 0, 0, 0, 0, 5, 0, 0, 0, 5, ...   \n",
       "4                [0, 0, 0, 0, 0, 0, 5, 6, 0, 0, 0, 0, 0]   \n",
       "...                                                  ...   \n",
       "82831                              [0, 0, 0, 0, 0, 0, 4]   \n",
       "82832                              [0, 0, 0, 0, 0, 0, 4]   \n",
       "82833  [0, 0, 0, 0, 0, 0, 7, 8, 8, 8, 8, 0, 7, 8, 8, ...   \n",
       "82834                              [7, 0, 0, 0, 0, 0, 0]   \n",
       "82835  [0, 0, 0, 0, 0, 0, 0, 0, 0, 0, 0, 0, 0, 0, 0, ...   \n",
       "\n",
       "      augmented_length_check  \n",
       "0                         ok  \n",
       "1                         ok  \n",
       "2                         ok  \n",
       "3                         ok  \n",
       "4                         ok  \n",
       "...                      ...  \n",
       "82831                     ok  \n",
       "82832                     ok  \n",
       "82833                     ok  \n",
       "82834                     ok  \n",
       "82835                     ok  \n",
       "\n",
       "[82836 rows x 6 columns]"
      ]
     },
     "execution_count": 62,
     "metadata": {},
     "output_type": "execute_result"
    }
   ],
   "source": [
    "df_main"
   ]
  },
  {
   "cell_type": "code",
   "execution_count": 63,
   "id": "e304c0bc",
   "metadata": {},
   "outputs": [
    {
     "data": {
      "text/plain": [
       "ok    82836\n",
       "Name: augmented_length_check, dtype: int64"
      ]
     },
     "execution_count": 63,
     "metadata": {},
     "output_type": "execute_result"
    }
   ],
   "source": [
    "df_main['augmented_length_check'] = df_main.apply(lambda row: length_check(row['augmented_tokens'], row['augmented_ner_tags']), axis=1)\n",
    "df_main['augmented_length_check'].value_counts()"
   ]
  },
  {
   "cell_type": "code",
   "execution_count": 67,
   "id": "86468e0f",
   "metadata": {},
   "outputs": [],
   "source": [
    "def lowercasing(tokens):\n",
    "    return [token.lower() for token in tokens]"
   ]
  },
  {
   "cell_type": "code",
   "execution_count": 68,
   "id": "f0280cb1",
   "metadata": {},
   "outputs": [
    {
     "data": {
      "application/vnd.jupyter.widget-view+json": {
       "model_id": "dea95f31af814cb0b6620f332be591b6",
       "version_major": 2,
       "version_minor": 0
      },
      "text/plain": [
       "VBox(children=(HBox(children=(IntProgress(value=0, description='0.00%', max=5178), Label(value='0 / 5178'))), …"
      ]
     },
     "metadata": {},
     "output_type": "display_data"
    }
   ],
   "source": [
    "df_main['augmented_tokens'] = df_main['augmented_tokens'].parallel_apply(lambda x: lowercasing(x))"
   ]
  },
  {
   "cell_type": "code",
   "execution_count": 69,
   "id": "95493a0d",
   "metadata": {},
   "outputs": [],
   "source": [
    "df_main.to_csv('MultiNERD_augmented.csv', index=False)"
   ]
  },
  {
   "cell_type": "code",
   "execution_count": 70,
   "id": "4209bf0c",
   "metadata": {},
   "outputs": [],
   "source": [
    "df = pd.read_csv('MultiNERD_augmented.csv')"
   ]
  },
  {
   "cell_type": "code",
   "execution_count": 71,
   "id": "29943ffa",
   "metadata": {},
   "outputs": [
    {
     "data": {
      "text/html": [
       "<div>\n",
       "<style scoped>\n",
       "    .dataframe tbody tr th:only-of-type {\n",
       "        vertical-align: middle;\n",
       "    }\n",
       "\n",
       "    .dataframe tbody tr th {\n",
       "        vertical-align: top;\n",
       "    }\n",
       "\n",
       "    .dataframe thead th {\n",
       "        text-align: right;\n",
       "    }\n",
       "</style>\n",
       "<table border=\"1\" class=\"dataframe\">\n",
       "  <thead>\n",
       "    <tr style=\"text-align: right;\">\n",
       "      <th></th>\n",
       "      <th>tokens</th>\n",
       "      <th>ner_tags</th>\n",
       "      <th>len_check</th>\n",
       "      <th>augmented_tokens</th>\n",
       "      <th>augmented_ner_tags</th>\n",
       "      <th>augmented_length_check</th>\n",
       "    </tr>\n",
       "  </thead>\n",
       "  <tbody>\n",
       "    <tr>\n",
       "      <th>0</th>\n",
       "      <td>['Существовали', 'виды', ',', 'напоминавшие', ...</td>\n",
       "      <td>[0, 0, 0, 0, 0, 0, 0, 0, 7, 0, 7, 0, 0, 0, 0, ...</td>\n",
       "      <td>ok</td>\n",
       "      <td>['существовали', 'виды', 'напоминавшие', 'всле...</td>\n",
       "      <td>[0, 0, 0, 0, 0, 0, 0, 7, 7, 0, 0, 0, 0, 0, 0]</td>\n",
       "      <td>ok</td>\n",
       "    </tr>\n",
       "    <tr>\n",
       "      <th>1</th>\n",
       "      <td>['Экранизация', 'одноимённого', 'произведения'...</td>\n",
       "      <td>[0, 0, 0, 0, 0, 0, 0, 1, 2, 2, 0]</td>\n",
       "      <td>ok</td>\n",
       "      <td>['экранизация', 'одноимённого', 'произведения'...</td>\n",
       "      <td>[0, 0, 0, 0, 0, 0, 0, 0, 0, 0, 1, 2, 2]</td>\n",
       "      <td>ok</td>\n",
       "    </tr>\n",
       "    <tr>\n",
       "      <th>2</th>\n",
       "      <td>['\"', 'Карликовые', 'гремучники', '\"', '(', ')...</td>\n",
       "      <td>[0, 0, 0, 0, 0, 0, 0, 0, 0, 7, 0, 7, 0, 0, 0]</td>\n",
       "      <td>ok</td>\n",
       "      <td>['карликовые', 'гремучники', 'род', 'ядовитых'...</td>\n",
       "      <td>[0, 0, 0, 0, 7, 0, 7, 0, 0]</td>\n",
       "      <td>ok</td>\n",
       "    </tr>\n",
       "    <tr>\n",
       "      <th>3</th>\n",
       "      <td>['В', '1638', 'году', 'на', 'берегах', 'реки',...</td>\n",
       "      <td>[0, 0, 0, 0, 0, 0, 5, 0, 0, 0, 5, 6, 0, 0, 5, ...</td>\n",
       "      <td>ok</td>\n",
       "      <td>['в', 'одна', 'тысяча', 'шестьсот', 'тридцать'...</td>\n",
       "      <td>[0, 0, 0, 0, 0, 0, 0, 0, 0, 0, 5, 0, 0, 0, 5, ...</td>\n",
       "      <td>ok</td>\n",
       "    </tr>\n",
       "    <tr>\n",
       "      <th>4</th>\n",
       "      <td>['Кроме', 'этого', ',', 'распространён', 'на',...</td>\n",
       "      <td>[0, 0, 0, 0, 0, 0, 0, 5, 6, 0, 0, 0, 0, 0, 0, 0]</td>\n",
       "      <td>ok</td>\n",
       "      <td>['кроме', 'этого', 'распространён', 'на', 'зап...</td>\n",
       "      <td>[0, 0, 0, 0, 0, 0, 5, 6, 0, 0, 0, 0, 0]</td>\n",
       "      <td>ok</td>\n",
       "    </tr>\n",
       "    <tr>\n",
       "      <th>...</th>\n",
       "      <td>...</td>\n",
       "      <td>...</td>\n",
       "      <td>...</td>\n",
       "      <td>...</td>\n",
       "      <td>...</td>\n",
       "      <td>...</td>\n",
       "    </tr>\n",
       "    <tr>\n",
       "      <th>82831</th>\n",
       "      <td>['Дебютировал', 'в', 'матче', '1', 'тура', 'пр...</td>\n",
       "      <td>[0, 0, 0, 0, 0, 0, 3, 4, 4, 0]</td>\n",
       "      <td>ok</td>\n",
       "      <td>['дебютировал', 'в', 'матче', 'один', 'тура', ...</td>\n",
       "      <td>[0, 0, 0, 0, 0, 0, 4]</td>\n",
       "      <td>ok</td>\n",
       "    </tr>\n",
       "    <tr>\n",
       "      <th>82832</th>\n",
       "      <td>['Дебют', 'состоялся', '26', 'туре', 'против',...</td>\n",
       "      <td>[0, 0, 0, 0, 0, 3, 4, 4, 0]</td>\n",
       "      <td>ok</td>\n",
       "      <td>['дебют', 'состоялся', 'двадцать', 'шесть', 'т...</td>\n",
       "      <td>[0, 0, 0, 0, 0, 0, 4]</td>\n",
       "      <td>ok</td>\n",
       "    </tr>\n",
       "    <tr>\n",
       "      <th>82833</th>\n",
       "      <td>['Эктор', 'также', 'представлял', 'свою', 'стр...</td>\n",
       "      <td>[0, 0, 0, 0, 0, 0, 7, 8, 8, 0, 7, 8, 8, 8, 0]</td>\n",
       "      <td>ok</td>\n",
       "      <td>['эктор', 'также', 'представлял', 'свою', 'стр...</td>\n",
       "      <td>[0, 0, 0, 0, 0, 0, 7, 8, 8, 8, 8, 0, 7, 8, 8, ...</td>\n",
       "      <td>ok</td>\n",
       "    </tr>\n",
       "    <tr>\n",
       "      <th>82834</th>\n",
       "      <td>['Q', 'дал', 'альбому', 'четыре', 'звезды', 'и...</td>\n",
       "      <td>[7, 0, 0, 0, 0, 0, 0, 0]</td>\n",
       "      <td>ok</td>\n",
       "      <td>['q', 'дал', 'альбому', 'четыре', 'звезды', 'и...</td>\n",
       "      <td>[7, 0, 0, 0, 0, 0, 0]</td>\n",
       "      <td>ok</td>\n",
       "    </tr>\n",
       "    <tr>\n",
       "      <th>82835</th>\n",
       "      <td>['Большие', ',', 'толстые', 'рога', 'самцов', ...</td>\n",
       "      <td>[0, 0, 0, 0, 0, 0, 0, 0, 0, 0, 0, 0, 0, 0, 0, ...</td>\n",
       "      <td>ok</td>\n",
       "      <td>['большие', 'толстые', 'рога', 'самцов', 'как'...</td>\n",
       "      <td>[0, 0, 0, 0, 0, 0, 0, 0, 0, 0, 0, 0, 0, 0, 0, ...</td>\n",
       "      <td>ok</td>\n",
       "    </tr>\n",
       "  </tbody>\n",
       "</table>\n",
       "<p>82836 rows × 6 columns</p>\n",
       "</div>"
      ],
      "text/plain": [
       "                                                  tokens  \\\n",
       "0      ['Существовали', 'виды', ',', 'напоминавшие', ...   \n",
       "1      ['Экранизация', 'одноимённого', 'произведения'...   \n",
       "2      ['\"', 'Карликовые', 'гремучники', '\"', '(', ')...   \n",
       "3      ['В', '1638', 'году', 'на', 'берегах', 'реки',...   \n",
       "4      ['Кроме', 'этого', ',', 'распространён', 'на',...   \n",
       "...                                                  ...   \n",
       "82831  ['Дебютировал', 'в', 'матче', '1', 'тура', 'пр...   \n",
       "82832  ['Дебют', 'состоялся', '26', 'туре', 'против',...   \n",
       "82833  ['Эктор', 'также', 'представлял', 'свою', 'стр...   \n",
       "82834  ['Q', 'дал', 'альбому', 'четыре', 'звезды', 'и...   \n",
       "82835  ['Большие', ',', 'толстые', 'рога', 'самцов', ...   \n",
       "\n",
       "                                                ner_tags len_check  \\\n",
       "0      [0, 0, 0, 0, 0, 0, 0, 0, 7, 0, 7, 0, 0, 0, 0, ...        ok   \n",
       "1                      [0, 0, 0, 0, 0, 0, 0, 1, 2, 2, 0]        ok   \n",
       "2          [0, 0, 0, 0, 0, 0, 0, 0, 0, 7, 0, 7, 0, 0, 0]        ok   \n",
       "3      [0, 0, 0, 0, 0, 0, 5, 0, 0, 0, 5, 6, 0, 0, 5, ...        ok   \n",
       "4       [0, 0, 0, 0, 0, 0, 0, 5, 6, 0, 0, 0, 0, 0, 0, 0]        ok   \n",
       "...                                                  ...       ...   \n",
       "82831                     [0, 0, 0, 0, 0, 0, 3, 4, 4, 0]        ok   \n",
       "82832                        [0, 0, 0, 0, 0, 3, 4, 4, 0]        ok   \n",
       "82833      [0, 0, 0, 0, 0, 0, 7, 8, 8, 0, 7, 8, 8, 8, 0]        ok   \n",
       "82834                           [7, 0, 0, 0, 0, 0, 0, 0]        ok   \n",
       "82835  [0, 0, 0, 0, 0, 0, 0, 0, 0, 0, 0, 0, 0, 0, 0, ...        ok   \n",
       "\n",
       "                                        augmented_tokens  \\\n",
       "0      ['существовали', 'виды', 'напоминавшие', 'всле...   \n",
       "1      ['экранизация', 'одноимённого', 'произведения'...   \n",
       "2      ['карликовые', 'гремучники', 'род', 'ядовитых'...   \n",
       "3      ['в', 'одна', 'тысяча', 'шестьсот', 'тридцать'...   \n",
       "4      ['кроме', 'этого', 'распространён', 'на', 'зап...   \n",
       "...                                                  ...   \n",
       "82831  ['дебютировал', 'в', 'матче', 'один', 'тура', ...   \n",
       "82832  ['дебют', 'состоялся', 'двадцать', 'шесть', 'т...   \n",
       "82833  ['эктор', 'также', 'представлял', 'свою', 'стр...   \n",
       "82834  ['q', 'дал', 'альбому', 'четыре', 'звезды', 'и...   \n",
       "82835  ['большие', 'толстые', 'рога', 'самцов', 'как'...   \n",
       "\n",
       "                                      augmented_ner_tags  \\\n",
       "0          [0, 0, 0, 0, 0, 0, 0, 7, 7, 0, 0, 0, 0, 0, 0]   \n",
       "1                [0, 0, 0, 0, 0, 0, 0, 0, 0, 0, 1, 2, 2]   \n",
       "2                            [0, 0, 0, 0, 7, 0, 7, 0, 0]   \n",
       "3      [0, 0, 0, 0, 0, 0, 0, 0, 0, 0, 5, 0, 0, 0, 5, ...   \n",
       "4                [0, 0, 0, 0, 0, 0, 5, 6, 0, 0, 0, 0, 0]   \n",
       "...                                                  ...   \n",
       "82831                              [0, 0, 0, 0, 0, 0, 4]   \n",
       "82832                              [0, 0, 0, 0, 0, 0, 4]   \n",
       "82833  [0, 0, 0, 0, 0, 0, 7, 8, 8, 8, 8, 0, 7, 8, 8, ...   \n",
       "82834                              [7, 0, 0, 0, 0, 0, 0]   \n",
       "82835  [0, 0, 0, 0, 0, 0, 0, 0, 0, 0, 0, 0, 0, 0, 0, ...   \n",
       "\n",
       "      augmented_length_check  \n",
       "0                         ok  \n",
       "1                         ok  \n",
       "2                         ok  \n",
       "3                         ok  \n",
       "4                         ok  \n",
       "...                      ...  \n",
       "82831                     ok  \n",
       "82832                     ok  \n",
       "82833                     ok  \n",
       "82834                     ok  \n",
       "82835                     ok  \n",
       "\n",
       "[82836 rows x 6 columns]"
      ]
     },
     "execution_count": 71,
     "metadata": {},
     "output_type": "execute_result"
    }
   ],
   "source": [
    "df"
   ]
  },
  {
   "cell_type": "code",
   "execution_count": null,
   "id": "e2a5e328",
   "metadata": {},
   "outputs": [],
   "source": []
  }
 ],
 "metadata": {
  "kernelspec": {
   "display_name": "Python 3 (ipykernel)",
   "language": "python",
   "name": "python3"
  },
  "language_info": {
   "codemirror_mode": {
    "name": "ipython",
    "version": 3
   },
   "file_extension": ".py",
   "mimetype": "text/x-python",
   "name": "python",
   "nbconvert_exporter": "python",
   "pygments_lexer": "ipython3",
   "version": "3.9.13"
  }
 },
 "nbformat": 4,
 "nbformat_minor": 5
}
