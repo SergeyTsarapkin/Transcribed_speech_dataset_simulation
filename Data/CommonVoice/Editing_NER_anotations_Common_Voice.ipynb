{
 "cells": [
  {
   "cell_type": "code",
   "execution_count": 1,
   "id": "07a03721",
   "metadata": {},
   "outputs": [
    {
     "data": {
      "text/html": [
       "<style>.container { width:95% !important; }</style>"
      ],
      "text/plain": [
       "<IPython.core.display.HTML object>"
      ]
     },
     "metadata": {},
     "output_type": "display_data"
    }
   ],
   "source": [
    "from IPython.display import display, HTML\n",
    "display(HTML(\"<style>.container { width:95% !important; }</style>\"))"
   ]
  },
  {
   "cell_type": "code",
   "execution_count": 2,
   "id": "e99749b2",
   "metadata": {},
   "outputs": [],
   "source": [
    "import pandas as pd\n",
    "import numpy as np\n",
    "from ast import literal_eval\n",
    "from tqdm import tqdm\n",
    "tqdm.pandas()\n",
    "import re"
   ]
  },
  {
   "cell_type": "markdown",
   "id": "48ccff70",
   "metadata": {},
   "source": [
    "#### part 1: getting NER markup on the clean text"
   ]
  },
  {
   "cell_type": "code",
   "execution_count": 3,
   "id": "29c7d901",
   "metadata": {},
   "outputs": [],
   "source": [
    "path = '/home/sergey/Python_projects/RU_NER/Project_Data/Data/CommonVoice/Converted_Common_Voice_ru.csv'"
   ]
  },
  {
   "cell_type": "code",
   "execution_count": 4,
   "id": "f6e39293",
   "metadata": {},
   "outputs": [],
   "source": [
    "df = pd.read_csv(path, index_col=0, low_memory=False)"
   ]
  },
  {
   "cell_type": "code",
   "execution_count": 6,
   "id": "29e5300f",
   "metadata": {},
   "outputs": [
    {
     "data": {
      "text/html": [
       "<div>\n",
       "<style scoped>\n",
       "    .dataframe tbody tr th:only-of-type {\n",
       "        vertical-align: middle;\n",
       "    }\n",
       "\n",
       "    .dataframe tbody tr th {\n",
       "        vertical-align: top;\n",
       "    }\n",
       "\n",
       "    .dataframe thead th {\n",
       "        text-align: right;\n",
       "    }\n",
       "</style>\n",
       "<table border=\"1\" class=\"dataframe\">\n",
       "  <thead>\n",
       "    <tr style=\"text-align: right;\">\n",
       "      <th></th>\n",
       "      <th>id</th>\n",
       "      <th>sentence</th>\n",
       "      <th>transcription</th>\n",
       "      <th>difference</th>\n",
       "      <th>label</th>\n",
       "      <th>up_votes</th>\n",
       "      <th>down_votes</th>\n",
       "      <th>age</th>\n",
       "      <th>gender</th>\n",
       "      <th>accents</th>\n",
       "      <th>variant</th>\n",
       "      <th>locale</th>\n",
       "      <th>segment</th>\n",
       "    </tr>\n",
       "  </thead>\n",
       "  <tbody>\n",
       "    <tr>\n",
       "      <th>0</th>\n",
       "      <td>18849003</td>\n",
       "      <td>Владимир вытащил пробку.</td>\n",
       "      <td>владимир вытащил пробку</td>\n",
       "      <td>[]</td>\n",
       "      <td>validated</td>\n",
       "      <td>2</td>\n",
       "      <td>0</td>\n",
       "      <td>twenties</td>\n",
       "      <td>male</td>\n",
       "      <td>NaN</td>\n",
       "      <td>NaN</td>\n",
       "      <td>ru</td>\n",
       "      <td>NaN</td>\n",
       "    </tr>\n",
       "    <tr>\n",
       "      <th>1</th>\n",
       "      <td>18849004</td>\n",
       "      <td>Слово имеет уважаемый представитель Республики...</td>\n",
       "      <td>слово имеет уважаемый представитель в республи...</td>\n",
       "      <td>['в', 'корее', 'корея', 'республике', 'республ...</td>\n",
       "      <td>validated</td>\n",
       "      <td>2</td>\n",
       "      <td>0</td>\n",
       "      <td>twenties</td>\n",
       "      <td>male</td>\n",
       "      <td>NaN</td>\n",
       "      <td>NaN</td>\n",
       "      <td>ru</td>\n",
       "      <td>NaN</td>\n",
       "    </tr>\n",
       "    <tr>\n",
       "      <th>2</th>\n",
       "      <td>18849005</td>\n",
       "      <td>Совет Безопасности приступает к рассмотрению п...</td>\n",
       "      <td>совет безопасности приступает к рассмотрению п...</td>\n",
       "      <td>[]</td>\n",
       "      <td>validated</td>\n",
       "      <td>2</td>\n",
       "      <td>0</td>\n",
       "      <td>twenties</td>\n",
       "      <td>male</td>\n",
       "      <td>NaN</td>\n",
       "      <td>NaN</td>\n",
       "      <td>ru</td>\n",
       "      <td>NaN</td>\n",
       "    </tr>\n",
       "    <tr>\n",
       "      <th>3</th>\n",
       "      <td>18849006</td>\n",
       "      <td>Не лезь!</td>\n",
       "      <td>не лезь</td>\n",
       "      <td>[]</td>\n",
       "      <td>validated</td>\n",
       "      <td>2</td>\n",
       "      <td>0</td>\n",
       "      <td>twenties</td>\n",
       "      <td>male</td>\n",
       "      <td>NaN</td>\n",
       "      <td>NaN</td>\n",
       "      <td>ru</td>\n",
       "      <td>NaN</td>\n",
       "    </tr>\n",
       "    <tr>\n",
       "      <th>4</th>\n",
       "      <td>18849007</td>\n",
       "      <td>И даже смеяться перестали.</td>\n",
       "      <td>даже смеяться перестали</td>\n",
       "      <td>['и']</td>\n",
       "      <td>validated</td>\n",
       "      <td>2</td>\n",
       "      <td>0</td>\n",
       "      <td>twenties</td>\n",
       "      <td>male</td>\n",
       "      <td>NaN</td>\n",
       "      <td>NaN</td>\n",
       "      <td>ru</td>\n",
       "      <td>NaN</td>\n",
       "    </tr>\n",
       "  </tbody>\n",
       "</table>\n",
       "</div>"
      ],
      "text/plain": [
       "         id                                           sentence  \\\n",
       "0  18849003                           Владимир вытащил пробку.   \n",
       "1  18849004  Слово имеет уважаемый представитель Республики...   \n",
       "2  18849005  Совет Безопасности приступает к рассмотрению п...   \n",
       "3  18849006                                           Не лезь!   \n",
       "4  18849007                         И даже смеяться перестали.   \n",
       "\n",
       "                                       transcription  \\\n",
       "0                            владимир вытащил пробку   \n",
       "1  слово имеет уважаемый представитель в республи...   \n",
       "2  совет безопасности приступает к рассмотрению п...   \n",
       "3                                            не лезь   \n",
       "4                            даже смеяться перестали   \n",
       "\n",
       "                                          difference      label  up_votes  \\\n",
       "0                                                 []  validated         2   \n",
       "1  ['в', 'корее', 'корея', 'республике', 'республ...  validated         2   \n",
       "2                                                 []  validated         2   \n",
       "3                                                 []  validated         2   \n",
       "4                                              ['и']  validated         2   \n",
       "\n",
       "   down_votes       age gender accents  variant locale segment  \n",
       "0           0  twenties   male     NaN      NaN     ru     NaN  \n",
       "1           0  twenties   male     NaN      NaN     ru     NaN  \n",
       "2           0  twenties   male     NaN      NaN     ru     NaN  \n",
       "3           0  twenties   male     NaN      NaN     ru     NaN  \n",
       "4           0  twenties   male     NaN      NaN     ru     NaN  "
      ]
     },
     "execution_count": 6,
     "metadata": {},
     "output_type": "execute_result"
    }
   ],
   "source": [
    "df.head()"
   ]
  },
  {
   "cell_type": "code",
   "execution_count": 5,
   "id": "4ab8a420",
   "metadata": {},
   "outputs": [],
   "source": [
    "from transformers import AutoTokenizer, AutoModelForTokenClassification\n",
    "from transformers import pipeline\n",
    "\n",
    "tokenizer = AutoTokenizer.from_pretrained(\"Babelscape/wikineural-multilingual-ner\")\n",
    "model = AutoModelForTokenClassification.from_pretrained(\"Babelscape/wikineural-multilingual-ner\")\n",
    "\n",
    "nlp = pipeline(\"ner\", model=model, tokenizer=tokenizer, aggregation_strategy=\"simple\")"
   ]
  },
  {
   "cell_type": "code",
   "execution_count": 6,
   "id": "3dac6619",
   "metadata": {},
   "outputs": [],
   "source": [
    "test_sentence = df['sentence'][1]"
   ]
  },
  {
   "cell_type": "code",
   "execution_count": 7,
   "id": "f43a5f72",
   "metadata": {},
   "outputs": [
    {
     "name": "stdout",
     "output_type": "stream",
     "text": [
      "[{'entity_group': 'LOC', 'score': 0.99750185, 'word': 'Республики Корея', 'start': 36, 'end': 52}]\n"
     ]
    }
   ],
   "source": [
    "ner_results = nlp(test_sentence)\n",
    "print(ner_results)"
   ]
  },
  {
   "cell_type": "code",
   "execution_count": null,
   "id": "19e83ba2",
   "metadata": {},
   "outputs": [],
   "source": [
    "df['NER'] = df['sentence'].progress_apply(lambda x: nlp(x))"
   ]
  },
  {
   "cell_type": "code",
   "execution_count": null,
   "id": "3e5bf3b5",
   "metadata": {},
   "outputs": [],
   "source": [
    "#df.to_csv('/home/sergey/Python_projects/RU_NER/Data/CommonVoice/NER_Common_Voice_ru.csv')"
   ]
  },
  {
   "cell_type": "markdown",
   "id": "8d7821be",
   "metadata": {},
   "source": [
    "##### part2: adjusting NER markup so it is accurate for transcribed texts"
   ]
  },
  {
   "cell_type": "code",
   "execution_count": 147,
   "id": "4595d5c7",
   "metadata": {},
   "outputs": [],
   "source": [
    "df = pd.read_csv('NER_Common_Voice_ru.csv', index_col=0, low_memory=False)"
   ]
  },
  {
   "cell_type": "markdown",
   "id": "b2a63388",
   "metadata": {},
   "source": [
    "Сначала вычищу датасет, уберу дубликаты (разноголосые записи), пропуски распознавания (30 записей было сделано шепотом, и их не распознало):"
   ]
  },
  {
   "cell_type": "code",
   "execution_count": 148,
   "id": "8b14af5d",
   "metadata": {},
   "outputs": [
    {
     "data": {
      "text/html": [
       "<div>\n",
       "<style scoped>\n",
       "    .dataframe tbody tr th:only-of-type {\n",
       "        vertical-align: middle;\n",
       "    }\n",
       "\n",
       "    .dataframe tbody tr th {\n",
       "        vertical-align: top;\n",
       "    }\n",
       "\n",
       "    .dataframe thead th {\n",
       "        text-align: right;\n",
       "    }\n",
       "</style>\n",
       "<table border=\"1\" class=\"dataframe\">\n",
       "  <thead>\n",
       "    <tr style=\"text-align: right;\">\n",
       "      <th></th>\n",
       "      <th>id</th>\n",
       "      <th>sentence</th>\n",
       "      <th>transcription</th>\n",
       "      <th>difference</th>\n",
       "      <th>label</th>\n",
       "      <th>up_votes</th>\n",
       "      <th>down_votes</th>\n",
       "      <th>age</th>\n",
       "      <th>gender</th>\n",
       "      <th>accents</th>\n",
       "      <th>variant</th>\n",
       "      <th>locale</th>\n",
       "      <th>segment</th>\n",
       "      <th>NER</th>\n",
       "    </tr>\n",
       "  </thead>\n",
       "  <tbody>\n",
       "    <tr>\n",
       "      <th>85702</th>\n",
       "      <td>24967389</td>\n",
       "      <td>- Сейчас заканчиваю.</td>\n",
       "      <td>сейчас заканчиваю</td>\n",
       "      <td>['']</td>\n",
       "      <td>validated</td>\n",
       "      <td>2</td>\n",
       "      <td>0</td>\n",
       "      <td>twenties</td>\n",
       "      <td>male</td>\n",
       "      <td>NaN</td>\n",
       "      <td>NaN</td>\n",
       "      <td>ru</td>\n",
       "      <td>NaN</td>\n",
       "      <td>[{'entity_group': 'MISC', 'score': 0.7337075, ...</td>\n",
       "    </tr>\n",
       "    <tr>\n",
       "      <th>92469</th>\n",
       "      <td>25969972</td>\n",
       "      <td>- Сейчас заканчиваю.</td>\n",
       "      <td>сейчас заканчиваю</td>\n",
       "      <td>['']</td>\n",
       "      <td>validated</td>\n",
       "      <td>2</td>\n",
       "      <td>0</td>\n",
       "      <td>thirties</td>\n",
       "      <td>male</td>\n",
       "      <td>NaN</td>\n",
       "      <td>NaN</td>\n",
       "      <td>ru</td>\n",
       "      <td>NaN</td>\n",
       "      <td>[{'entity_group': 'MISC', 'score': 0.7337075, ...</td>\n",
       "    </tr>\n",
       "    <tr>\n",
       "      <th>56669</th>\n",
       "      <td>20801207</td>\n",
       "      <td>- Смотрите же, братцы, не отставать!</td>\n",
       "      <td>смотрите же братцы не отставать</td>\n",
       "      <td>['']</td>\n",
       "      <td>dev</td>\n",
       "      <td>2</td>\n",
       "      <td>0</td>\n",
       "      <td>twenties</td>\n",
       "      <td>male</td>\n",
       "      <td>NaN</td>\n",
       "      <td>NaN</td>\n",
       "      <td>ru</td>\n",
       "      <td>NaN</td>\n",
       "      <td>[]</td>\n",
       "    </tr>\n",
       "    <tr>\n",
       "      <th>91101</th>\n",
       "      <td>25835936</td>\n",
       "      <td>- Смотрите же, братцы, не отставать!</td>\n",
       "      <td>смотрите же братцы не отставать</td>\n",
       "      <td>['']</td>\n",
       "      <td>validated</td>\n",
       "      <td>2</td>\n",
       "      <td>0</td>\n",
       "      <td>twenties</td>\n",
       "      <td>male</td>\n",
       "      <td>NaN</td>\n",
       "      <td>NaN</td>\n",
       "      <td>ru</td>\n",
       "      <td>NaN</td>\n",
       "      <td>[]</td>\n",
       "    </tr>\n",
       "    <tr>\n",
       "      <th>8920</th>\n",
       "      <td>18912323</td>\n",
       "      <td>Cтесненное положение перестало в последнее вре...</td>\n",
       "      <td>стеснённое положение перестало в последнее вре...</td>\n",
       "      <td>['cтесненное', 'стеснённое']</td>\n",
       "      <td>validated</td>\n",
       "      <td>2</td>\n",
       "      <td>1</td>\n",
       "      <td>twenties</td>\n",
       "      <td>female</td>\n",
       "      <td>NaN</td>\n",
       "      <td>NaN</td>\n",
       "      <td>ru</td>\n",
       "      <td>NaN</td>\n",
       "      <td>[{'entity_group': 'MISC', 'score': 0.6892858, ...</td>\n",
       "    </tr>\n",
       "    <tr>\n",
       "      <th>20679</th>\n",
       "      <td>18934178</td>\n",
       "      <td>Cтесненное положение перестало в последнее вре...</td>\n",
       "      <td>стеснённое положение перестало в последнее вре...</td>\n",
       "      <td>['cтесненное', 'стеснённое']</td>\n",
       "      <td>validated</td>\n",
       "      <td>2</td>\n",
       "      <td>0</td>\n",
       "      <td>fifties</td>\n",
       "      <td>female</td>\n",
       "      <td>NaN</td>\n",
       "      <td>NaN</td>\n",
       "      <td>ru</td>\n",
       "      <td>NaN</td>\n",
       "      <td>[{'entity_group': 'MISC', 'score': 0.6892858, ...</td>\n",
       "    </tr>\n",
       "    <tr>\n",
       "      <th>24075</th>\n",
       "      <td>18948049</td>\n",
       "      <td>Cтесненное положение перестало в последнее вре...</td>\n",
       "      <td>стеснённое положение перестало в последнее вре...</td>\n",
       "      <td>['cтесненное', 'стеснённое']</td>\n",
       "      <td>validated</td>\n",
       "      <td>2</td>\n",
       "      <td>0</td>\n",
       "      <td>twenties</td>\n",
       "      <td>male</td>\n",
       "      <td>NaN</td>\n",
       "      <td>NaN</td>\n",
       "      <td>ru</td>\n",
       "      <td>NaN</td>\n",
       "      <td>[{'entity_group': 'MISC', 'score': 0.6892858, ...</td>\n",
       "    </tr>\n",
       "    <tr>\n",
       "      <th>15014</th>\n",
       "      <td>18922914</td>\n",
       "      <td>Cтесненное положение перестало в последнее вре...</td>\n",
       "      <td>стеснённое положение перестало в последнее вре...</td>\n",
       "      <td>['cтесненное', 'стеснённое']</td>\n",
       "      <td>validated</td>\n",
       "      <td>2</td>\n",
       "      <td>0</td>\n",
       "      <td>twenties</td>\n",
       "      <td>female</td>\n",
       "      <td>NaN</td>\n",
       "      <td>NaN</td>\n",
       "      <td>ru</td>\n",
       "      <td>NaN</td>\n",
       "      <td>[{'entity_group': 'MISC', 'score': 0.6892858, ...</td>\n",
       "    </tr>\n",
       "    <tr>\n",
       "      <th>30414</th>\n",
       "      <td>18989967</td>\n",
       "      <td>Cтесненное положение перестало в последнее вре...</td>\n",
       "      <td>стеснённое положение перестало в последнее вре...</td>\n",
       "      <td>['cтесненное', 'стеснённое']</td>\n",
       "      <td>train</td>\n",
       "      <td>2</td>\n",
       "      <td>0</td>\n",
       "      <td>twenties</td>\n",
       "      <td>male</td>\n",
       "      <td>NaN</td>\n",
       "      <td>NaN</td>\n",
       "      <td>ru</td>\n",
       "      <td>NaN</td>\n",
       "      <td>[{'entity_group': 'MISC', 'score': 0.6892858, ...</td>\n",
       "    </tr>\n",
       "    <tr>\n",
       "      <th>28962</th>\n",
       "      <td>18971196</td>\n",
       "      <td>Cтолько злобного презрения накопилось в душе м...</td>\n",
       "      <td>сколько злобного презрения накопилось в душе м...</td>\n",
       "      <td>['cтолько', 'сколько']</td>\n",
       "      <td>validated</td>\n",
       "      <td>2</td>\n",
       "      <td>1</td>\n",
       "      <td>fourties</td>\n",
       "      <td>male</td>\n",
       "      <td>NaN</td>\n",
       "      <td>NaN</td>\n",
       "      <td>ru</td>\n",
       "      <td>NaN</td>\n",
       "      <td>[]</td>\n",
       "    </tr>\n",
       "  </tbody>\n",
       "</table>\n",
       "</div>"
      ],
      "text/plain": [
       "             id                                           sentence  \\\n",
       "85702  24967389                               - Сейчас заканчиваю.   \n",
       "92469  25969972                               - Сейчас заканчиваю.   \n",
       "56669  20801207               - Смотрите же, братцы, не отставать!   \n",
       "91101  25835936               - Смотрите же, братцы, не отставать!   \n",
       "8920   18912323  Cтесненное положение перестало в последнее вре...   \n",
       "20679  18934178  Cтесненное положение перестало в последнее вре...   \n",
       "24075  18948049  Cтесненное положение перестало в последнее вре...   \n",
       "15014  18922914  Cтесненное положение перестало в последнее вре...   \n",
       "30414  18989967  Cтесненное положение перестало в последнее вре...   \n",
       "28962  18971196  Cтолько злобного презрения накопилось в душе м...   \n",
       "\n",
       "                                           transcription  \\\n",
       "85702                                  сейчас заканчиваю   \n",
       "92469                                  сейчас заканчиваю   \n",
       "56669                    смотрите же братцы не отставать   \n",
       "91101                    смотрите же братцы не отставать   \n",
       "8920   стеснённое положение перестало в последнее вре...   \n",
       "20679  стеснённое положение перестало в последнее вре...   \n",
       "24075  стеснённое положение перестало в последнее вре...   \n",
       "15014  стеснённое положение перестало в последнее вре...   \n",
       "30414  стеснённое положение перестало в последнее вре...   \n",
       "28962  сколько злобного презрения накопилось в душе м...   \n",
       "\n",
       "                         difference      label  up_votes  down_votes  \\\n",
       "85702                          ['']  validated         2           0   \n",
       "92469                          ['']  validated         2           0   \n",
       "56669                          ['']        dev         2           0   \n",
       "91101                          ['']  validated         2           0   \n",
       "8920   ['cтесненное', 'стеснённое']  validated         2           1   \n",
       "20679  ['cтесненное', 'стеснённое']  validated         2           0   \n",
       "24075  ['cтесненное', 'стеснённое']  validated         2           0   \n",
       "15014  ['cтесненное', 'стеснённое']  validated         2           0   \n",
       "30414  ['cтесненное', 'стеснённое']      train         2           0   \n",
       "28962        ['cтолько', 'сколько']  validated         2           1   \n",
       "\n",
       "            age  gender accents  variant locale segment  \\\n",
       "85702  twenties    male     NaN      NaN     ru     NaN   \n",
       "92469  thirties    male     NaN      NaN     ru     NaN   \n",
       "56669  twenties    male     NaN      NaN     ru     NaN   \n",
       "91101  twenties    male     NaN      NaN     ru     NaN   \n",
       "8920   twenties  female     NaN      NaN     ru     NaN   \n",
       "20679   fifties  female     NaN      NaN     ru     NaN   \n",
       "24075  twenties    male     NaN      NaN     ru     NaN   \n",
       "15014  twenties  female     NaN      NaN     ru     NaN   \n",
       "30414  twenties    male     NaN      NaN     ru     NaN   \n",
       "28962  fourties    male     NaN      NaN     ru     NaN   \n",
       "\n",
       "                                                     NER  \n",
       "85702  [{'entity_group': 'MISC', 'score': 0.7337075, ...  \n",
       "92469  [{'entity_group': 'MISC', 'score': 0.7337075, ...  \n",
       "56669                                                 []  \n",
       "91101                                                 []  \n",
       "8920   [{'entity_group': 'MISC', 'score': 0.6892858, ...  \n",
       "20679  [{'entity_group': 'MISC', 'score': 0.6892858, ...  \n",
       "24075  [{'entity_group': 'MISC', 'score': 0.6892858, ...  \n",
       "15014  [{'entity_group': 'MISC', 'score': 0.6892858, ...  \n",
       "30414  [{'entity_group': 'MISC', 'score': 0.6892858, ...  \n",
       "28962                                                 []  "
      ]
     },
     "execution_count": 148,
     "metadata": {},
     "output_type": "execute_result"
    }
   ],
   "source": [
    "dups_mask = df.duplicated(subset='sentence')\n",
    "df[dups_mask].sort_values(by='sentence').head(10)"
   ]
  },
  {
   "cell_type": "code",
   "execution_count": 149,
   "id": "da7aa0d9",
   "metadata": {},
   "outputs": [],
   "source": [
    "df.drop_duplicates(subset='sentence', ignore_index=True, inplace=True)"
   ]
  },
  {
   "cell_type": "code",
   "execution_count": 150,
   "id": "9eb70294",
   "metadata": {},
   "outputs": [
    {
     "data": {
      "text/plain": [
       "False    46630\n",
       "Name: sentence, dtype: int64"
      ]
     },
     "execution_count": 150,
     "metadata": {},
     "output_type": "execute_result"
    }
   ],
   "source": [
    "# проверяем что пропусков нет в изначлаьных данных:\n",
    "df['sentence'].isna().value_counts()"
   ]
  },
  {
   "cell_type": "code",
   "execution_count": 151,
   "id": "3123a7e6",
   "metadata": {},
   "outputs": [
    {
     "data": {
      "text/plain": [
       "False    46600\n",
       "True        30\n",
       "Name: transcription, dtype: int64"
      ]
     },
     "execution_count": 151,
     "metadata": {},
     "output_type": "execute_result"
    }
   ],
   "source": [
    "# пропуски в распознавании:\n",
    "df['transcription'].isna().value_counts()"
   ]
  },
  {
   "cell_type": "code",
   "execution_count": 152,
   "id": "bf8af08d",
   "metadata": {},
   "outputs": [
    {
     "data": {
      "text/html": [
       "<div>\n",
       "<style scoped>\n",
       "    .dataframe tbody tr th:only-of-type {\n",
       "        vertical-align: middle;\n",
       "    }\n",
       "\n",
       "    .dataframe tbody tr th {\n",
       "        vertical-align: top;\n",
       "    }\n",
       "\n",
       "    .dataframe thead th {\n",
       "        text-align: right;\n",
       "    }\n",
       "</style>\n",
       "<table border=\"1\" class=\"dataframe\">\n",
       "  <thead>\n",
       "    <tr style=\"text-align: right;\">\n",
       "      <th></th>\n",
       "      <th>id</th>\n",
       "      <th>sentence</th>\n",
       "      <th>transcription</th>\n",
       "      <th>difference</th>\n",
       "      <th>label</th>\n",
       "      <th>up_votes</th>\n",
       "      <th>down_votes</th>\n",
       "      <th>age</th>\n",
       "      <th>gender</th>\n",
       "      <th>accents</th>\n",
       "      <th>variant</th>\n",
       "      <th>locale</th>\n",
       "      <th>segment</th>\n",
       "      <th>NER</th>\n",
       "    </tr>\n",
       "  </thead>\n",
       "  <tbody>\n",
       "    <tr>\n",
       "      <th>15617</th>\n",
       "      <td>19504492</td>\n",
       "      <td>И она не виновата, и Ольга как будто бы тоже.</td>\n",
       "      <td>NaN</td>\n",
       "      <td>['', 'будто', 'бы', 'виновата', 'и', 'как', 'н...</td>\n",
       "      <td>validated</td>\n",
       "      <td>2</td>\n",
       "      <td>1</td>\n",
       "      <td>NaN</td>\n",
       "      <td>NaN</td>\n",
       "      <td>NaN</td>\n",
       "      <td>NaN</td>\n",
       "      <td>ru</td>\n",
       "      <td>NaN</td>\n",
       "      <td>[{'entity_group': 'PER', 'score': 0.9578805, '...</td>\n",
       "    </tr>\n",
       "    <tr>\n",
       "      <th>33083</th>\n",
       "      <td>25919310</td>\n",
       "      <td>Это сильно затрудняет злоумышленнику обнаружен...</td>\n",
       "      <td>NaN</td>\n",
       "      <td>['', 'данных', 'затрудняет', 'злоумышленнику',...</td>\n",
       "      <td>validated</td>\n",
       "      <td>2</td>\n",
       "      <td>0</td>\n",
       "      <td>twenties</td>\n",
       "      <td>male</td>\n",
       "      <td>NaN</td>\n",
       "      <td>NaN</td>\n",
       "      <td>ru</td>\n",
       "      <td>NaN</td>\n",
       "      <td>[]</td>\n",
       "    </tr>\n",
       "    <tr>\n",
       "      <th>33480</th>\n",
       "      <td>26316660</td>\n",
       "      <td>Он потребовал нас к коменданту.</td>\n",
       "      <td>NaN</td>\n",
       "      <td>['', 'к', 'коменданту', 'нас', 'он', 'потребов...</td>\n",
       "      <td>validated</td>\n",
       "      <td>2</td>\n",
       "      <td>0</td>\n",
       "      <td>NaN</td>\n",
       "      <td>NaN</td>\n",
       "      <td>NaN</td>\n",
       "      <td>NaN</td>\n",
       "      <td>ru</td>\n",
       "      <td>NaN</td>\n",
       "      <td>[]</td>\n",
       "    </tr>\n",
       "    <tr>\n",
       "      <th>33515</th>\n",
       "      <td>26353492</td>\n",
       "      <td>Марья Ивановна заплакала.</td>\n",
       "      <td>NaN</td>\n",
       "      <td>['', 'заплакала', 'ивановна', 'марья']</td>\n",
       "      <td>dev</td>\n",
       "      <td>2</td>\n",
       "      <td>0</td>\n",
       "      <td>twenties</td>\n",
       "      <td>male</td>\n",
       "      <td>NaN</td>\n",
       "      <td>NaN</td>\n",
       "      <td>ru</td>\n",
       "      <td>NaN</td>\n",
       "      <td>[{'entity_group': 'PER', 'score': 0.99782026, ...</td>\n",
       "    </tr>\n",
       "    <tr>\n",
       "      <th>34076</th>\n",
       "      <td>27207801</td>\n",
       "      <td>Гей!</td>\n",
       "      <td>NaN</td>\n",
       "      <td>['', 'гей']</td>\n",
       "      <td>validated</td>\n",
       "      <td>2</td>\n",
       "      <td>0</td>\n",
       "      <td>twenties</td>\n",
       "      <td>male</td>\n",
       "      <td>NaN</td>\n",
       "      <td>NaN</td>\n",
       "      <td>ru</td>\n",
       "      <td>NaN</td>\n",
       "      <td>[{'entity_group': 'MISC', 'score': 0.68143344,...</td>\n",
       "    </tr>\n",
       "  </tbody>\n",
       "</table>\n",
       "</div>"
      ],
      "text/plain": [
       "             id                                           sentence  \\\n",
       "15617  19504492      И она не виновата, и Ольга как будто бы тоже.   \n",
       "33083  25919310  Это сильно затрудняет злоумышленнику обнаружен...   \n",
       "33480  26316660                    Он потребовал нас к коменданту.   \n",
       "33515  26353492                          Марья Ивановна заплакала.   \n",
       "34076  27207801                                               Гей!   \n",
       "\n",
       "      transcription                                         difference  \\\n",
       "15617           NaN  ['', 'будто', 'бы', 'виновата', 'и', 'как', 'н...   \n",
       "33083           NaN  ['', 'данных', 'затрудняет', 'злоумышленнику',...   \n",
       "33480           NaN  ['', 'к', 'коменданту', 'нас', 'он', 'потребов...   \n",
       "33515           NaN             ['', 'заплакала', 'ивановна', 'марья']   \n",
       "34076           NaN                                        ['', 'гей']   \n",
       "\n",
       "           label  up_votes  down_votes       age gender accents  variant  \\\n",
       "15617  validated         2           1       NaN    NaN     NaN      NaN   \n",
       "33083  validated         2           0  twenties   male     NaN      NaN   \n",
       "33480  validated         2           0       NaN    NaN     NaN      NaN   \n",
       "33515        dev         2           0  twenties   male     NaN      NaN   \n",
       "34076  validated         2           0  twenties   male     NaN      NaN   \n",
       "\n",
       "      locale segment                                                NER  \n",
       "15617     ru     NaN  [{'entity_group': 'PER', 'score': 0.9578805, '...  \n",
       "33083     ru     NaN                                                 []  \n",
       "33480     ru     NaN                                                 []  \n",
       "33515     ru     NaN  [{'entity_group': 'PER', 'score': 0.99782026, ...  \n",
       "34076     ru     NaN  [{'entity_group': 'MISC', 'score': 0.68143344,...  "
      ]
     },
     "execution_count": 152,
     "metadata": {},
     "output_type": "execute_result"
    }
   ],
   "source": [
    "cols = ['sentence', 'transcription']\n",
    "df[df[cols].isna().any(axis=1)].head()"
   ]
  },
  {
   "cell_type": "code",
   "execution_count": 153,
   "id": "c26d3b8e",
   "metadata": {},
   "outputs": [],
   "source": [
    "df.dropna(subset=cols, inplace=True)\n",
    "df.reset_index(drop=True, inplace=True)"
   ]
  },
  {
   "cell_type": "code",
   "execution_count": 154,
   "id": "468cc12d",
   "metadata": {},
   "outputs": [],
   "source": [
    "markup = {'O': 0, 'B-PER': 1, 'I-PER': 2, 'B-ORG': 3, 'I-ORG': 4, 'B-LOC': 5, 'I-LOC': 6, 'B-MISC': 7, 'I-MISC': 8}"
   ]
  },
  {
   "cell_type": "code",
   "execution_count": 155,
   "id": "eda4b267",
   "metadata": {},
   "outputs": [],
   "source": [
    "df['NER'] = df['NER'].apply(literal_eval)"
   ]
  },
  {
   "cell_type": "code",
   "execution_count": 156,
   "id": "3b0e94b3",
   "metadata": {},
   "outputs": [],
   "source": [
    "# Concatenate strange tokenization (В + ##енесуэла = Венесуэла), and change the NER results accordingly,\n",
    "# changing start/end according to new tokenization, as well as using mean score for combined entity\n",
    "def ner_concat(sentence, ner):\n",
    "    del_index = []\n",
    "    merged_ner = []\n",
    "    \n",
    "    for index in range(len(ner)):\n",
    "        if '#' not in ner[index]['word']:\n",
    "            merged_ner.append(ner[index])\n",
    "        else:\n",
    "            ner[index]['word'] = ner[index]['word'].strip('#')\n",
    "            if merged_ner and ner[index]['start'] == merged_ner[-1]['end']:\n",
    "                merged_ner[-1]['word'] += ner[index]['word']\n",
    "                merged_ner[-1]['score'] = np.mean([merged_ner[-1]['score'], ner[index]['score']])\n",
    "                merged_ner[-1]['end'] = ner[index]['end']\n",
    "            else:\n",
    "                merged_ner.append(ner[index])\n",
    "                \n",
    "    tokens = re.sub(r'[^\\w\\s]', '', sentence).split()\n",
    "    \n",
    "    for item in merged_ner:\n",
    "        remove_flag = False\n",
    "        for word in re.sub(r'[^\\w\\s]', '', item['word']).split():\n",
    "            if word not in tokens:\n",
    "                remove_flag = True\n",
    "        if remove_flag:\n",
    "            merged_ner.remove(item)\n",
    "\n",
    "    return merged_ner"
   ]
  },
  {
   "cell_type": "code",
   "execution_count": 160,
   "id": "4ff687f9",
   "metadata": {},
   "outputs": [],
   "source": [
    "df['NER'] = df.apply(lambda row: ner_concat(row['sentence'], row['NER']), axis=1)"
   ]
  },
  {
   "cell_type": "code",
   "execution_count": 161,
   "id": "fda97ac7",
   "metadata": {},
   "outputs": [],
   "source": [
    "score_treshold = 0.85\n",
    "misc_treshold = 0.95\n",
    "\n",
    "# Remove bizzare results, which mostly have low score (threshold)\n",
    "# using higher threshold for defined groups (LOC/PERS/ORG)\n",
    "def ner_cleanup(ner):\n",
    "    del_index = []\n",
    "    for index in range(len(ner)):\n",
    "        if re.sub(r'[^\\w\\s]', '', ner[index]['word']) == '' : del_index.append(index)\n",
    "        elif ner[index]['score'] < score_treshold : del_index.append(index)\n",
    "        elif (ner[index]['entity_group'] == 'MISC' and ner[index]['score'] < misc_treshold):\n",
    "            del_index.append(index)\n",
    "    for ele in sorted(del_index, reverse=True):\n",
    "        del ner[ele]\n",
    "        \n",
    "    return ner"
   ]
  },
  {
   "cell_type": "code",
   "execution_count": 162,
   "id": "3db0a516",
   "metadata": {},
   "outputs": [],
   "source": [
    "df['NER'] = df['NER'].apply(lambda x: ner_cleanup(x))"
   ]
  },
  {
   "cell_type": "code",
   "execution_count": 163,
   "id": "314a2785",
   "metadata": {},
   "outputs": [],
   "source": [
    "# Get a markup similar to other datasets, produces a list according to 'markup' for each sentence\n",
    "\n",
    "def convert_markup(sentence, ner):\n",
    "    tokens = re.sub(r'[^\\w\\s]', '', sentence).split()\n",
    "    markup_list = [0] * len(tokens)\n",
    "    \n",
    "    for dic in ner:\n",
    "        entity_start = dic['start']\n",
    "        entity_end = dic['end']\n",
    "        entity_type = dic['entity_group']\n",
    "        entity_tokens = re.sub(r'[^\\w\\s]', '', sentence[entity_start:entity_end]).split()\n",
    "        entity_length = len(entity_tokens)\n",
    "        if entity_length == 1:\n",
    "            markup_index = re.sub(r'[^\\w\\s]', '', sentence).split().index(entity_tokens[0])\n",
    "            markup_list[markup_index] = markup['B-' + entity_type]\n",
    "            \n",
    "        else:\n",
    "            markup_index = [re.sub(r'[^\\w\\s]', '', sentence).split().index(token) for token in entity_tokens]\n",
    "            markup_list[markup_index[0]] = markup['B-' + entity_type]\n",
    "            markup_list[markup_index[1]:markup_index[0]+entity_length] = [markup['I-' + entity_type] for _ in range(entity_length-1)]\n",
    "            \n",
    "    return markup_list"
   ]
  },
  {
   "cell_type": "code",
   "execution_count": 164,
   "id": "e8a30bfb",
   "metadata": {},
   "outputs": [],
   "source": [
    "df['NER_markup'] = df.apply(lambda row: convert_markup(row['sentence'], row['NER']), axis=1)"
   ]
  },
  {
   "cell_type": "code",
   "execution_count": 165,
   "id": "2966ba75",
   "metadata": {},
   "outputs": [],
   "source": [
    "df.drop(['up_votes', 'down_votes', 'age', 'gender', 'accents', 'variant', 'locale', 'segment'], axis=1, inplace=True)"
   ]
  },
  {
   "cell_type": "code",
   "execution_count": 166,
   "id": "80452833",
   "metadata": {},
   "outputs": [
    {
     "data": {
      "text/html": [
       "<div>\n",
       "<style scoped>\n",
       "    .dataframe tbody tr th:only-of-type {\n",
       "        vertical-align: middle;\n",
       "    }\n",
       "\n",
       "    .dataframe tbody tr th {\n",
       "        vertical-align: top;\n",
       "    }\n",
       "\n",
       "    .dataframe thead th {\n",
       "        text-align: right;\n",
       "    }\n",
       "</style>\n",
       "<table border=\"1\" class=\"dataframe\">\n",
       "  <thead>\n",
       "    <tr style=\"text-align: right;\">\n",
       "      <th></th>\n",
       "      <th>id</th>\n",
       "      <th>sentence</th>\n",
       "      <th>transcription</th>\n",
       "      <th>difference</th>\n",
       "      <th>label</th>\n",
       "      <th>NER</th>\n",
       "      <th>NER_markup</th>\n",
       "    </tr>\n",
       "  </thead>\n",
       "  <tbody>\n",
       "    <tr>\n",
       "      <th>0</th>\n",
       "      <td>18849003</td>\n",
       "      <td>Владимир вытащил пробку.</td>\n",
       "      <td>владимир вытащил пробку</td>\n",
       "      <td>[]</td>\n",
       "      <td>validated</td>\n",
       "      <td>[{'entity_group': 'PER', 'score': 0.9800292, '...</td>\n",
       "      <td>[1, 0, 0]</td>\n",
       "    </tr>\n",
       "    <tr>\n",
       "      <th>1</th>\n",
       "      <td>18849004</td>\n",
       "      <td>Слово имеет уважаемый представитель Республики...</td>\n",
       "      <td>слово имеет уважаемый представитель в республи...</td>\n",
       "      <td>['в', 'корее', 'корея', 'республике', 'республ...</td>\n",
       "      <td>validated</td>\n",
       "      <td>[{'entity_group': 'LOC', 'score': 0.99750185, ...</td>\n",
       "      <td>[0, 0, 0, 0, 5, 6]</td>\n",
       "    </tr>\n",
       "    <tr>\n",
       "      <th>2</th>\n",
       "      <td>18849005</td>\n",
       "      <td>Совет Безопасности приступает к рассмотрению п...</td>\n",
       "      <td>совет безопасности приступает к рассмотрению п...</td>\n",
       "      <td>[]</td>\n",
       "      <td>validated</td>\n",
       "      <td>[{'entity_group': 'ORG', 'score': 0.9949068, '...</td>\n",
       "      <td>[3, 4, 0, 0, 0, 0, 0, 0, 0]</td>\n",
       "    </tr>\n",
       "    <tr>\n",
       "      <th>3</th>\n",
       "      <td>18849006</td>\n",
       "      <td>Не лезь!</td>\n",
       "      <td>не лезь</td>\n",
       "      <td>[]</td>\n",
       "      <td>validated</td>\n",
       "      <td>[]</td>\n",
       "      <td>[0, 0]</td>\n",
       "    </tr>\n",
       "    <tr>\n",
       "      <th>4</th>\n",
       "      <td>18849007</td>\n",
       "      <td>И даже смеяться перестали.</td>\n",
       "      <td>даже смеяться перестали</td>\n",
       "      <td>['и']</td>\n",
       "      <td>validated</td>\n",
       "      <td>[]</td>\n",
       "      <td>[0, 0, 0, 0]</td>\n",
       "    </tr>\n",
       "  </tbody>\n",
       "</table>\n",
       "</div>"
      ],
      "text/plain": [
       "         id                                           sentence  \\\n",
       "0  18849003                           Владимир вытащил пробку.   \n",
       "1  18849004  Слово имеет уважаемый представитель Республики...   \n",
       "2  18849005  Совет Безопасности приступает к рассмотрению п...   \n",
       "3  18849006                                           Не лезь!   \n",
       "4  18849007                         И даже смеяться перестали.   \n",
       "\n",
       "                                       transcription  \\\n",
       "0                            владимир вытащил пробку   \n",
       "1  слово имеет уважаемый представитель в республи...   \n",
       "2  совет безопасности приступает к рассмотрению п...   \n",
       "3                                            не лезь   \n",
       "4                            даже смеяться перестали   \n",
       "\n",
       "                                          difference      label  \\\n",
       "0                                                 []  validated   \n",
       "1  ['в', 'корее', 'корея', 'республике', 'республ...  validated   \n",
       "2                                                 []  validated   \n",
       "3                                                 []  validated   \n",
       "4                                              ['и']  validated   \n",
       "\n",
       "                                                 NER  \\\n",
       "0  [{'entity_group': 'PER', 'score': 0.9800292, '...   \n",
       "1  [{'entity_group': 'LOC', 'score': 0.99750185, ...   \n",
       "2  [{'entity_group': 'ORG', 'score': 0.9949068, '...   \n",
       "3                                                 []   \n",
       "4                                                 []   \n",
       "\n",
       "                    NER_markup  \n",
       "0                    [1, 0, 0]  \n",
       "1           [0, 0, 0, 0, 5, 6]  \n",
       "2  [3, 4, 0, 0, 0, 0, 0, 0, 0]  \n",
       "3                       [0, 0]  \n",
       "4                 [0, 0, 0, 0]  "
      ]
     },
     "execution_count": 166,
     "metadata": {},
     "output_type": "execute_result"
    }
   ],
   "source": [
    "df.head()"
   ]
  },
  {
   "cell_type": "markdown",
   "id": "35e7710f",
   "metadata": {},
   "source": [
    "Финальная проверка разметки, длинна распознанных предложений и разметки должна совпадать с чистым предложением:"
   ]
  },
  {
   "cell_type": "code",
   "execution_count": 167,
   "id": "7d163eee",
   "metadata": {},
   "outputs": [],
   "source": [
    "def length_check(col1, col2):\n",
    "    return 'ok' if len(col1.split()) == len(col2.split()) else 'WRONG'"
   ]
  },
  {
   "cell_type": "code",
   "execution_count": 168,
   "id": "78d5984d",
   "metadata": {},
   "outputs": [],
   "source": [
    "df['len'] = df.apply(lambda row: length_check(row['sentence'], row['transcription']), axis=1)"
   ]
  },
  {
   "cell_type": "code",
   "execution_count": 169,
   "id": "fa99bba5",
   "metadata": {},
   "outputs": [
    {
     "data": {
      "text/plain": [
       "ok       36208\n",
       "WRONG    10392\n",
       "Name: len, dtype: int64"
      ]
     },
     "execution_count": 169,
     "metadata": {},
     "output_type": "execute_result"
    }
   ],
   "source": [
    "df.len.value_counts()"
   ]
  },
  {
   "cell_type": "code",
   "execution_count": 171,
   "id": "80315efd",
   "metadata": {},
   "outputs": [],
   "source": [
    "df = df[df['len'] == 'ok']\n",
    "df.reset_index(drop=True, inplace=True)"
   ]
  },
  {
   "cell_type": "code",
   "execution_count": 172,
   "id": "7db702f5",
   "metadata": {},
   "outputs": [],
   "source": [
    "def length_check(col1, ner):\n",
    "    return 'ok' if len(col1.split()) == len(ner) else 'WRONG'"
   ]
  },
  {
   "cell_type": "code",
   "execution_count": 173,
   "id": "e0365068",
   "metadata": {},
   "outputs": [
    {
     "name": "stderr",
     "output_type": "stream",
     "text": [
      "/tmp/ipykernel_57046/3562682296.py:1: SettingWithCopyWarning: \n",
      "A value is trying to be set on a copy of a slice from a DataFrame.\n",
      "Try using .loc[row_indexer,col_indexer] = value instead\n",
      "\n",
      "See the caveats in the documentation: https://pandas.pydata.org/pandas-docs/stable/user_guide/indexing.html#returning-a-view-versus-a-copy\n",
      "  df['len'] = df.apply(lambda row: length_check(row['transcription'], row['NER_markup']), axis=1)\n"
     ]
    }
   ],
   "source": [
    "df['len'] = df.apply(lambda row: length_check(row['transcription'], row['NER_markup']), axis=1)"
   ]
  },
  {
   "cell_type": "code",
   "execution_count": 174,
   "id": "285180c2",
   "metadata": {},
   "outputs": [
    {
     "data": {
      "text/plain": [
       "ok       36061\n",
       "WRONG      147\n",
       "Name: len, dtype: int64"
      ]
     },
     "execution_count": 174,
     "metadata": {},
     "output_type": "execute_result"
    }
   ],
   "source": [
    "df.len.value_counts()"
   ]
  },
  {
   "cell_type": "code",
   "execution_count": 175,
   "id": "7dc8c835",
   "metadata": {},
   "outputs": [],
   "source": [
    "df = df[df['len'] == 'ok']\n",
    "df.reset_index(drop=True, inplace=True)"
   ]
  },
  {
   "cell_type": "code",
   "execution_count": 176,
   "id": "c9f7afe6",
   "metadata": {},
   "outputs": [],
   "source": [
    "def print_tags_frequency(tags):\n",
    "    freq = {}\n",
    "    for row in tags: \n",
    "        for tag in set(row):\n",
    "            if tag in freq:\n",
    "                freq[tag] += 1\n",
    "            else:\n",
    "                freq[tag] = 1\n",
    "    freq\n",
    "    for item in sorted(freq.keys()):\n",
    "        print(f'% of rows token {item} appears in is {freq[item]/len(tags)*100:.4f}')"
   ]
  },
  {
   "cell_type": "code",
   "execution_count": 177,
   "id": "1c139cb3",
   "metadata": {},
   "outputs": [
    {
     "name": "stdout",
     "output_type": "stream",
     "text": [
      "% of rows token 0 appears in is 99.6312\n",
      "% of rows token 1 appears in is 7.7452\n",
      "% of rows token 2 appears in is 2.0743\n",
      "% of rows token 3 appears in is 5.8623\n",
      "% of rows token 4 appears in is 4.0126\n",
      "% of rows token 5 appears in is 11.0147\n",
      "% of rows token 6 appears in is 2.2850\n",
      "% of rows token 7 appears in is 1.0815\n",
      "% of rows token 8 appears in is 0.3799\n"
     ]
    }
   ],
   "source": [
    "print_tags_frequency(df.NER_markup)"
   ]
  },
  {
   "cell_type": "code",
   "execution_count": 179,
   "id": "7e8a6821",
   "metadata": {},
   "outputs": [],
   "source": [
    "df.to_csv('Edited_NER_anotation_Common_Voice.csv', index=False)"
   ]
  },
  {
   "cell_type": "code",
   "execution_count": null,
   "id": "d5daaf1c",
   "metadata": {},
   "outputs": [],
   "source": []
  }
 ],
 "metadata": {
  "kernelspec": {
   "display_name": "Python 3 (ipykernel)",
   "language": "python",
   "name": "python3"
  },
  "language_info": {
   "codemirror_mode": {
    "name": "ipython",
    "version": 3
   },
   "file_extension": ".py",
   "mimetype": "text/x-python",
   "name": "python",
   "nbconvert_exporter": "python",
   "pygments_lexer": "ipython3",
   "version": "3.9.13"
  }
 },
 "nbformat": 4,
 "nbformat_minor": 5
}
